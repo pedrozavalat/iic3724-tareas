{
  "cells": [
    {
      "cell_type": "markdown",
      "metadata": {
        "id": "mSI7an-eehA7"
      },
      "source": [
        "# Tarea 2: Reconocimiento intermedio - Clasificador de lunares cancerígenos.\n",
        "Reconocimiento de Patrones (IIC2233)\n",
        "\n",
        "Primer semestre 2024\n",
        "\n",
        "Pedro Pablo Zavala Tejos"
      ]
    },
    {
      "cell_type": "markdown",
      "metadata": {
        "id": "Z7nlXaFDeT1C"
      },
      "source": [
        "# 0. Initial Setup"
      ]
    },
    {
      "cell_type": "code",
      "source": [
        "!git clone https://github.com/domingomery/balu3\n",
        "!pip install ./balu3"
      ],
      "metadata": {
        "id": "82kzfT7nuanD",
        "outputId": "3a3d56e1-1ea2-4c0e-df84-7285a055d08e",
        "colab": {
          "base_uri": "https://localhost:8080/"
        }
      },
      "execution_count": 1,
      "outputs": [
        {
          "output_type": "stream",
          "name": "stdout",
          "text": [
            "Cloning into 'balu3'...\n",
            "remote: Enumerating objects: 270, done.\u001b[K\n",
            "remote: Counting objects: 100% (270/270), done.\u001b[K\n",
            "remote: Compressing objects: 100% (191/191), done.\u001b[K\n",
            "remote: Total 270 (delta 157), reused 180 (delta 75), pack-reused 0\u001b[K\n",
            "Receiving objects: 100% (270/270), 71.11 KiB | 4.74 MiB/s, done.\n",
            "Resolving deltas: 100% (157/157), done.\n",
            "Processing ./balu3\n",
            "  Preparing metadata (setup.py) ... \u001b[?25l\u001b[?25hdone\n",
            "Building wheels for collected packages: balu3\n",
            "  Building wheel for balu3 (setup.py) ... \u001b[?25l\u001b[?25hdone\n",
            "  Created wheel for balu3: filename=balu3-1.0-py3-none-any.whl size=43701 sha256=6473a22cbd794fafe40b325181c0b80675ca3e804e864502a65a91fcaca9d143\n",
            "  Stored in directory: /tmp/pip-ephem-wheel-cache-pyhl0dbo/wheels/9e/f6/a9/3d39da83a3504331129d706f5b04ceb3dbf0ec0f313cdb8fcf\n",
            "Successfully built balu3\n",
            "Installing collected packages: balu3\n",
            "Successfully installed balu3-1.0\n"
          ]
        }
      ]
    },
    {
      "cell_type": "code",
      "source": [
        "# Numpy & Maplotlib\n",
        "import numpy             as np\n",
        "import matplotlib.pyplot as plt\n",
        "import cv2\n",
        "\n",
        "# Balu\n",
        "from   balu3.io.misc     import imageload\n",
        "from   balu3.ft.norm     import minmax\n",
        "from   balu3.fx.chr      import lbp, haralick, gabor, hog, basicint, contrast, clp\n",
        "from   balu3.fs.sel      import jfisher\n",
        "from   balu3.fs.sel      import sfs, exsearch, clean\n",
        "from   balu3.fx.geo      import basicgeo,fitellipse,hugeo,flusser,gupta\n",
        "from   tqdm.auto         import tqdm\n",
        "\n",
        "# Seaborn\n",
        "from   seaborn import heatmap\n",
        "\n",
        "# Sklearn\n",
        "from   sklearn.metrics   import confusion_matrix, accuracy_score\n",
        "from   sklearn.neighbors import KNeighborsClassifier\n",
        "\n",
        "\n",
        "print('* Librerias cargadas *')"
      ],
      "metadata": {
        "id": "y7L_XDZguhxE",
        "outputId": "e3bfdb26-43cd-42f2-9df9-125105a94061",
        "colab": {
          "base_uri": "https://localhost:8080/"
        }
      },
      "execution_count": 2,
      "outputs": [
        {
          "output_type": "stream",
          "name": "stdout",
          "text": [
            "* Librerias cargadas *\n"
          ]
        }
      ]
    },
    {
      "cell_type": "markdown",
      "metadata": {
        "id": "ByGX95NGMU-p"
      },
      "source": [
        "# 1. Image Loading\n"
      ]
    },
    {
      "cell_type": "code",
      "source": [
        "!wget https://www.dropbox.com/scl/fi/f9qbp1mqdd7mdyck9geur/skin5Fix.zip?rlkey=fcsw2pbeybp9y85nv9f7fgpnj&e=1&st=iufuvqoi&dl=0"
      ],
      "metadata": {
        "id": "XI2n9nizv60V",
        "outputId": "d5a1226e-b8a0-404a-f3d7-4a662c4315f6",
        "colab": {
          "base_uri": "https://localhost:8080/"
        }
      },
      "execution_count": 3,
      "outputs": [
        {
          "output_type": "stream",
          "name": "stdout",
          "text": [
            "--2024-05-04 02:08:27--  https://www.dropbox.com/scl/fi/f9qbp1mqdd7mdyck9geur/skin5Fix.zip?rlkey=fcsw2pbeybp9y85nv9f7fgpnj\n",
            "Resolving www.dropbox.com (www.dropbox.com)... 162.125.65.18, 2620:100:6057:18::a27d:d12\n",
            "Connecting to www.dropbox.com (www.dropbox.com)|162.125.65.18|:443... connected.\n",
            "HTTP request sent, awaiting response... 302 Found\n",
            "Location: https://ucb48e9af7dc5838b198bb0fb11e.dl.dropboxusercontent.com/cd/0/inline/CSNrGLUuI01iCyazvwJNTw6qDj7gVJ6HfzM1iZW4PgzHgAUd_6RKVYr0G-4sJef00EILsAm4IK0LKQAhjuY4oQKcY8N3n5ZQcotJlE1S4E5uU3pyVuWq3cGM8BsxXh0xGzC4SnXZbcjfK19HFKJd2rkB/file# [following]\n",
            "--2024-05-04 02:08:28--  https://ucb48e9af7dc5838b198bb0fb11e.dl.dropboxusercontent.com/cd/0/inline/CSNrGLUuI01iCyazvwJNTw6qDj7gVJ6HfzM1iZW4PgzHgAUd_6RKVYr0G-4sJef00EILsAm4IK0LKQAhjuY4oQKcY8N3n5ZQcotJlE1S4E5uU3pyVuWq3cGM8BsxXh0xGzC4SnXZbcjfK19HFKJd2rkB/file\n",
            "Resolving ucb48e9af7dc5838b198bb0fb11e.dl.dropboxusercontent.com (ucb48e9af7dc5838b198bb0fb11e.dl.dropboxusercontent.com)... 162.125.70.15, 2620:100:6022:15::a27d:420f\n",
            "Connecting to ucb48e9af7dc5838b198bb0fb11e.dl.dropboxusercontent.com (ucb48e9af7dc5838b198bb0fb11e.dl.dropboxusercontent.com)|162.125.70.15|:443... connected.\n",
            "HTTP request sent, awaiting response... 302 Found\n",
            "Location: /cd/0/inline2/CSPICOcJRKLDNzkoTmmqWyts5F7xYKl6egOORS0WPO88UZ5LdLEil5h4Q6wA7oizDU5u197VfzCR6wAvJTufdBx2RT-GHoxa7Ym-ZVXMXehiWQB4BmS4XECN_WPR69DRlJx8AZFALK0r-JEDSfAUXuRO651s6ALMbPMALVHjIezCryoHcZULz0aZ_PzJti2z1JaSfReDoUWXyiVB5QKwV3Mr1bqgBwhtWxY4CzZ40Pwsj16Cts_mtj_cvTZEMf9eUMqUJCexSDDt9Wj59P7U9zXBcn6x9GkO0Qjtv7Rmx-hGbvPsrigIh47Jt8bF5lMd9qP5uecFfYtnll3Id4yd_1Os_VGXQZwr2-DitHAIisZqW0DIUmP9SyXuyyR6oyCTfns/file [following]\n",
            "--2024-05-04 02:08:29--  https://ucb48e9af7dc5838b198bb0fb11e.dl.dropboxusercontent.com/cd/0/inline2/CSPICOcJRKLDNzkoTmmqWyts5F7xYKl6egOORS0WPO88UZ5LdLEil5h4Q6wA7oizDU5u197VfzCR6wAvJTufdBx2RT-GHoxa7Ym-ZVXMXehiWQB4BmS4XECN_WPR69DRlJx8AZFALK0r-JEDSfAUXuRO651s6ALMbPMALVHjIezCryoHcZULz0aZ_PzJti2z1JaSfReDoUWXyiVB5QKwV3Mr1bqgBwhtWxY4CzZ40Pwsj16Cts_mtj_cvTZEMf9eUMqUJCexSDDt9Wj59P7U9zXBcn6x9GkO0Qjtv7Rmx-hGbvPsrigIh47Jt8bF5lMd9qP5uecFfYtnll3Id4yd_1Os_VGXQZwr2-DitHAIisZqW0DIUmP9SyXuyyR6oyCTfns/file\n",
            "Reusing existing connection to ucb48e9af7dc5838b198bb0fb11e.dl.dropboxusercontent.com:443.\n",
            "HTTP request sent, awaiting response... 200 OK\n",
            "Length: 86985374 (83M) [application/zip]\n",
            "Saving to: ‘skin5Fix.zip?rlkey=fcsw2pbeybp9y85nv9f7fgpnj’\n",
            "\n",
            "skin5Fix.zip?rlkey= 100%[===================>]  82.96M  22.9MB/s    in 4.6s    \n",
            "\n",
            "2024-05-04 02:08:35 (18.2 MB/s) - ‘skin5Fix.zip?rlkey=fcsw2pbeybp9y85nv9f7fgpnj’ saved [86985374/86985374]\n",
            "\n"
          ]
        }
      ]
    },
    {
      "cell_type": "markdown",
      "metadata": {
        "id": "4_Iqjs45NsY8"
      },
      "source": [
        "💬 Cargamos los datos desde dropbox\n",
        "\n",
        "---\n",
        "\n"
      ]
    },
    {
      "cell_type": "code",
      "source": [
        "!mv skin5Fix.zip?rlkey=fcsw2pbeybp9y85nv9f7fgpnj skin5Fix.zip"
      ],
      "metadata": {
        "id": "CIHU5hKlXmUk"
      },
      "execution_count": 4,
      "outputs": []
    },
    {
      "cell_type": "code",
      "source": [
        "!unzip -qq skin5Fix.zip\n",
        "print('* Bases de datos cargada correctamente *')"
      ],
      "metadata": {
        "id": "VVcfZVWMXoHI",
        "outputId": "07b9f4a0-39c3-436b-ccd4-cf2528739b2e",
        "colab": {
          "base_uri": "https://localhost:8080/"
        }
      },
      "execution_count": 5,
      "outputs": [
        {
          "output_type": "stream",
          "name": "stdout",
          "text": [
            "* Bases de datos cargada correctamente *\n"
          ]
        }
      ]
    },
    {
      "cell_type": "markdown",
      "source": [
        "💬 Definimos las siguientes funciones para cargar una imagen.\n",
        "\n",
        "\n",
        "**Referencia**: estas funciones las utilice en mi tarea 1. Algunas fueron sacadas directamente de las primeras actividades, mientras que otras las cree yo."
      ],
      "metadata": {
        "id": "sx_RO6a7CckN"
      }
    },
    {
      "cell_type": "code",
      "source": [
        "def num2fixstr(x: int, d: int) -> str:\n",
        "    \"\"\"\n",
        "    Transforma en un string un numero x en una cantidad de x digitos\n",
        "    \"\"\"\n",
        "    string = '%0*d' % (d, x)\n",
        "    return string\n",
        "\n",
        "def get_image_path(num_class: int, num_img: int, sep='_') -> str:\n",
        "    \"\"\"\n",
        "    Retorna la ruta de la imagen a cargar dada una clase num_class y un\n",
        "    identificador de imagen num_img\n",
        "    \"\"\"\n",
        "    DIGITS_CLASS = 2\n",
        "    DIGITS_IMG = 4\n",
        "    CLASS_PREFIX = {\n",
        "        '01' : 'bcc',\n",
        "        '02' : 'bkl',\n",
        "        '03' : 'akiec',\n",
        "        '04' : 'mel',\n",
        "        '05' : 'nv',\n",
        "    }\n",
        "    FPATH = 'skin5Fix'\n",
        "\n",
        "    img_class = num2fixstr(num_class, 2)\n",
        "    img_num = num2fixstr(num_img, 4)\n",
        "\n",
        "    img_class_name = CLASS_PREFIX[img_class]\n",
        "\n",
        "    BASE_URL = f'{FPATH}/{img_class}_{img_class_name}'\n",
        "    IMG_NAME = f'skin_{img_class}_{img_num}.png'\n",
        "\n",
        "\n",
        "    path = f'{BASE_URL}/{IMG_NAME}'\n",
        "\n",
        "    return path\n",
        "\n",
        "def imageload(num_class: int, num_img: int, echo='off') -> str:\n",
        "    \"\"\"\n",
        "    Carga la imagen\n",
        "    \"\"\"\n",
        "    path = get_image_path(num_class, num_img)\n",
        "    if echo == 'on':\n",
        "        print(f'loading image {path} ...')\n",
        "    img = cv2.imread(path, cv2.IMREAD_GRAYSCALE)\n",
        "    return img\n"
      ],
      "metadata": {
        "id": "8vDq5Uc0yAvJ"
      },
      "execution_count": 6,
      "outputs": []
    },
    {
      "cell_type": "markdown",
      "source": [
        "💬 Cargamos una imagen de ejemplo de 256x256 pixeles para la clase 1 (lunares tipo BCC)"
      ],
      "metadata": {
        "id": "L_BleZXNBuVm"
      }
    },
    {
      "cell_type": "code",
      "source": [
        "test_img = imageload(2,50)\n",
        "plt.imshow(test_img, cmap='gray')\n",
        "plt.title('Imagen de ejemplo: Skin / Imagen 1 / Lunares BCC (clase 1)')\n",
        "plt.show()"
      ],
      "metadata": {
        "id": "tZuGNVlFxPRg",
        "outputId": "70e563a7-95f7-4b7b-e4c9-f12a5e3c39de",
        "colab": {
          "base_uri": "https://localhost:8080/",
          "height": 452
        }
      },
      "execution_count": 341,
      "outputs": [
        {
          "output_type": "display_data",
          "data": {
            "text/plain": [
              "<Figure size 640x480 with 1 Axes>"
            ],
            "image/png": "[encoded data removed]"
          },
          "metadata": {}
        }
      ]
    },
    {
      "cell_type": "markdown",
      "metadata": {
        "id": "stNwze64kF27"
      },
      "source": [
        "# 2. Feature Extraction"
      ]
    },
    {
      "cell_type": "code",
      "source": [
        "K = 5 # Cantidad de clases del dataset\n",
        "N = 240 # Cantidad de imagenes por clase\n",
        "Y = np.zeros((K * N), 'int') # Vector de clasificacion\n",
        "\n",
        "\n",
        "# ------------------------------- LBP ------------------------------------------\n",
        "# hdiv_0 = 16 # LBP con 1x1 particiones\n",
        "# vdiv_0 = 16\n",
        "# Mlbp = 10 * hdiv_0 * vdiv_0 # Numero de elementos vector LBP invariante a la rotacion\n",
        "# Xlbp = np.zeros((K * N, Mlbp))  # Numero de elementos vector LBP\n",
        "\n",
        "\n",
        "# ----------------------------- HARALICK ---------------------------------------\n",
        "Mhar1 = 24 # Numero de elmenentos vector Haralick para distancia = 3\n",
        "Xhar1 = np.zeros((K * N, Mhar1))\n",
        "d1 = 1 # Parametro de distancia\n",
        "\n",
        "Mhar3 = 24 # Numero de elmenentos vector Haralick para distancia = 3\n",
        "Xhar3 = np.zeros((K * N, Mhar3))\n",
        "d3 = 3\n",
        "\n",
        "Mhar5 = 24 # Numero de elmenentos vector Haralick para distancia = 5\n",
        "Xhar5 = np.zeros((K * N, Mhar5))\n",
        "d5 = 5\n",
        "\n",
        "\n",
        "# ------------------------------- Hog ------------------------------------------\n",
        "hog_orientations = 9\n",
        "px_0 = 64 # Parametro pixeles por bloque\n",
        "cl_0 = 2 # Parametro celdas por bloque\n",
        "bn = 9 # Numero de bins del descriptor Hog.\n",
        "Mhog = 324 # Numero de elementos en total del vector descriptor\n",
        "Xhog = np.zeros((K * N, Mhog))\n",
        "\n",
        "\n",
        "# ------------------------------- Gabor ----------------------------------------\n",
        "# rotations_0 = 8 # 8 rotaciones\n",
        "# dilations_0 = 8 # 8 escalas\n",
        "# Mgab = rotations_0 * dilations_0 + 3 # Numero de elementos vector de Gabor para 8 rotaciones y escalas\n",
        "# Xgab = np.zeros((K * N, Mgab))\n"
      ],
      "metadata": {
        "id": "gzLXbVpADSHP"
      },
      "execution_count": 296,
      "outputs": []
    },
    {
      "cell_type": "markdown",
      "source": [
        "💬 `EXTRACTION_FLAG`: Para poder cargar los datos desde la nube, su valor debe ser 0. En otro caso, si queremos extraer las caracteristicas de cada imagen su valor debe ser 1."
      ],
      "metadata": {
        "id": "ZN9bX9AWrK2j"
      }
    },
    {
      "cell_type": "code",
      "source": [
        "EXTRACTION_FLAG = 1"
      ],
      "metadata": {
        "id": "M2ejb9Zup8ri"
      },
      "execution_count": 294,
      "outputs": []
    },
    {
      "cell_type": "code",
      "source": [
        "t = 0\n",
        "if EXTRACTION_FLAG:\n",
        "    print('EXTRACTION_FLAG Activado: Extrayendo caracteristicas ...')\n",
        "    for k in range(K): # Por cada clase ...\n",
        "        print(f'Extrayendo caracteristicas: batch {k + 1}/5')\n",
        "        for i in tqdm(range(N)): # Por cada imagen ...\n",
        "            num_class = k + 1\n",
        "            num_img = i + 1\n",
        "\n",
        "            img = 255*imageload(num_class, num_img)\n",
        "\n",
        "            # LBP con 1x1 particiones\n",
        "            # Xlbp[t,:] = lbp(img, hdiv=hdiv_0, vdiv=vdiv_0, mapping='uniform', norm=True)\n",
        "\n",
        "            # Haralick con d=1 pixeles\n",
        "            # Xhar1[t,:] = haralick(img, distance=d1)\n",
        "            # Haralick con d=3 pixeles\n",
        "            # Xhar3[t,:] = haralick(img, distance=d3)\n",
        "            # Haralick con d=5 pixeles\n",
        "            # Xhar5[t,:] = haralick(img, distance=d5)\n",
        "\n",
        "            # Hog con 9 orientaciones\n",
        "            Xhog[t,:] = hog(img, orientations=hog_orientations,\n",
        "                            cells_per_block=(cl_0, cl_0),\n",
        "                            pixels_per_cell=(px_0, px_0), norm=False)\n",
        "            # Gabor\n",
        "            # Xgab[t,:] = gabor(img, dilations=dilations_0, rotations=rotations_0)\n",
        "\n",
        "            # Vector de clasificacion\n",
        "            Y[t] = k # guardamos la clase en Y.\n",
        "            t = t + 1\n",
        "\n",
        "    # Guardamos las caracteristicas en la nube de archivos npy.\n",
        "    # np.save('lbp.npy', Xlbp)\n",
        "    # np.save('haralick1.npy', Xhar1)\n",
        "    # np.save('haralick3.npy', Xhar3)\n",
        "    # np.save('haralick5.npy', Xhar5)\n",
        "    np.save('hog.npy', Xhog)\n",
        "    # np.save('gabor.npy', Xgab)\n",
        "\n",
        "else:\n",
        "    print('EXTRACTION_FLAG Desactivado: Extrayendo caracteristicas desde la nube ...')\n",
        "    Xlbp = np.load('lbp.npy')\n",
        "    Xhar1 = np.load('haralick1.npy')\n",
        "    Xhar3 = np.load('haralick3.npy')\n",
        "    Xhar5 = np.load('haralick5.npy')\n",
        "    Xhog = np.load('hog.npy')\n",
        "    Xgab = np.load('gabor.npy')"
      ],
      "metadata": {
        "id": "rrtxRNczdkyU",
        "outputId": "b7b1879d-8185-472b-9eb7-972e50c4fe1d",
        "colab": {
          "base_uri": "https://localhost:8080/",
          "height": 287,
          "referenced_widgets": [
            "ea71d607ec344527bfbbf9c40474275d",
            "a988112a1af642439f52aa9d34357589",
            "244cf84be3c94453a4a7eda22c8670ae",
            "0b207e2f4ce94f0ba29de33f7c8ca65e",
            "53ddd1d7da4d4dee95567a4249965ca8",
            "4e3055c8f69d4d36b1d394a836c3dd62",
            "d447dc9fef8849c186c90ce137fc642a",
            "a92bbb6efe6747a4b468777aa3ba0e1f",
            "1455f8e9336a4af1943b746e787fca15",
            "e884671354ad4fb49d43b67afa00da3d",
            "4c94a47ddabc4d19b7228947c17ea351",
            "190111f1318d4de9b7394beb76e0c2a3",
            "e794cc0931f34f07aede838faf01b624",
            "72e6243b55ac4fc0883e1b5dd6861865",
            "0764c946a43246baad19128ee7d640d2",
            "c52f7cb7f51349a48287341f54795449",
            "5c61a7e44ce14878bb72c5cdf7b7a4ba",
            "74e2241897cb4f58b873a7580b035f4a",
            "65966c95f8814cf5a6ec0b24b5d22e41",
            "8addf51e1f7a485b8841fe1c1fa06200",
            "236ef9714d64476dad4e4810545559dc",
            "dd8e3508d77d47bc80764144266aa35b",
            "d5e95fd3f822425a9d0b5154a8d1f90e",
            "b63357dcb5cd4184a75e7070ad9097a9",
            "f4b36117f6d249d2b61e44f1a0fbba31",
            "5b1d886a9e5c466a965ca5c57a711998",
            "d1494c9c4725400ebd94822f7c4072d8",
            "26927d11d68f47d8ab6945d7fd5c7c1e",
            "26bf2913d93a4a5683cc8368300b0edf",
            "4afdfee056b7429a88c9a66dacc6e4bd",
            "815077647a154166bd50f02452b7031c",
            "87701361bcf346f3bde67758829f19d2",
            "cdef626c40f743adb3e55753cb620bb0",
            "a46b2915a0d14c4295af56aa7ba911a3",
            "88ab50616c8348219fc4c6b52dccc7dd",
            "3d41b5a7569f4eaa89a933daf0872463",
            "d274e4d934a74257a94c32b0fdddebd3",
            "e68f0ecf46694e53aff61ce2701b9ee7",
            "d5780624fe5546d5849514d5c77d0055",
            "f3b3c04be0f5486e8435f977970ce306",
            "5ade0d1fe00f44a0a9b02479150b538d",
            "e68f332a02d24350ac107aaca1b42c3d",
            "a92e992dac9644feb4a79048310bcf82",
            "962f7fdcc68c4208a4fe9f29de760f02",
            "4c9ef956faa74bac881db45d6cd9ed27",
            "df9224f4c6274c8e94c410ded879e2cd",
            "5b96ed60e7484e44b254a61e43446221",
            "76115035f2cf43339f6bbcb394d51b3f",
            "a3ab24f6793a4cd2b7c082485f6f8500",
            "c34192c133e94d1fbb42e7863fd67fbb",
            "a7b3d39e265146b6ac33c5c854c2fc8a",
            "a2e7a1a732f249fa8fd0011a54c5b520",
            "c6d6774c4b4a463ca13b72292d0ef69d",
            "6b10900114d14ce2ae83e6f1944ca4d7",
            "03f3757ecb074130963f8384ae9903d5"
          ]
        }
      },
      "execution_count": 297,
      "outputs": [
        {
          "output_type": "stream",
          "name": "stdout",
          "text": [
            "EXTRACTION_FLAG Activado: Extrayendo caracteristicas ...\n",
            "Extrayendo caracteristicas: batch 1/5\n"
          ]
        },
        {
          "output_type": "display_data",
          "data": {
            "text/plain": [
              "  0%|          | 0/240 [00:00<?, ?it/s]"
            ],
            "application/vnd.jupyter.widget-view+json": {
              "version_major": 2,
              "version_minor": 0,
              "model_id": "ea71d607ec344527bfbbf9c40474275d"
            }
          },
          "metadata": {}
        },
        {
          "output_type": "stream",
          "name": "stdout",
          "text": [
            "Extrayendo caracteristicas: batch 2/5\n"
          ]
        },
        {
          "output_type": "display_data",
          "data": {
            "text/plain": [
              "  0%|          | 0/240 [00:00<?, ?it/s]"
            ],
            "application/vnd.jupyter.widget-view+json": {
              "version_major": 2,
              "version_minor": 0,
              "model_id": "190111f1318d4de9b7394beb76e0c2a3"
            }
          },
          "metadata": {}
        },
        {
          "output_type": "stream",
          "name": "stdout",
          "text": [
            "Extrayendo caracteristicas: batch 3/5\n"
          ]
        },
        {
          "output_type": "display_data",
          "data": {
            "text/plain": [
              "  0%|          | 0/240 [00:00<?, ?it/s]"
            ],
            "application/vnd.jupyter.widget-view+json": {
              "version_major": 2,
              "version_minor": 0,
              "model_id": "d5e95fd3f822425a9d0b5154a8d1f90e"
            }
          },
          "metadata": {}
        },
        {
          "output_type": "stream",
          "name": "stdout",
          "text": [
            "Extrayendo caracteristicas: batch 4/5\n"
          ]
        },
        {
          "output_type": "display_data",
          "data": {
            "text/plain": [
              "  0%|          | 0/240 [00:00<?, ?it/s]"
            ],
            "application/vnd.jupyter.widget-view+json": {
              "version_major": 2,
              "version_minor": 0,
              "model_id": "a46b2915a0d14c4295af56aa7ba911a3"
            }
          },
          "metadata": {}
        },
        {
          "output_type": "stream",
          "name": "stdout",
          "text": [
            "Extrayendo caracteristicas: batch 5/5\n"
          ]
        },
        {
          "output_type": "display_data",
          "data": {
            "text/plain": [
              "  0%|          | 0/240 [00:00<?, ?it/s]"
            ],
            "application/vnd.jupyter.widget-view+json": {
              "version_major": 2,
              "version_minor": 0,
              "model_id": "4c9ef956faa74bac881db45d6cd9ed27"
            }
          },
          "metadata": {}
        }
      ]
    },
    {
      "cell_type": "code",
      "source": [
        "# X = np.concatenate((Xlbp, Xhar1, Xhar3, Xhar5, Xhog, Xgab), axis=1)\n",
        "# X = np.concatenate((Xgab, Xhar3, Xhar5, Xhog), axis=1)\n",
        "Xlbp = np.load('lbp.npy')\n",
        "Xgab = np.load('gabor.npy')\n",
        "Xhog = np.load('hog.npy')\n",
        "\n",
        "# X = np.concatenate((Xlbp, Xgab), axis=1) # Option 1\n",
        "# X = np.concatenate((Xgab, Xlbp), axis=1) # Option 2\n",
        "# X = np.concatenate((Xgab, Xlbp, Xhog), axis=1) # Option 3\n",
        "#X = np.concatenate((Xlbp, Xhog, Xgab), axis=1) # Option 4\n",
        "#X = np.concatenate((Xhog, Xgab, Xlbp), axis=1)\n",
        "# X = Xhog\n",
        "# X = np.concatenate((Xhog, Xlbp), axis=1) -> 0.315\n",
        "X = np.concatenate((Xlbp, Xhog), axis=1)\n",
        "\n",
        "\n",
        "print('Total de caracteristicas: ', X.shape[1])"
      ],
      "metadata": {
        "id": "Sekm8580wWPg",
        "outputId": "58137602-ac2f-49ac-f2f5-7d130922807c",
        "colab": {
          "base_uri": "https://localhost:8080/"
        }
      },
      "execution_count": 317,
      "outputs": [
        {
          "output_type": "stream",
          "name": "stdout",
          "text": [
            "Total de caracteristicas:  2884\n"
          ]
        }
      ]
    },
    {
      "cell_type": "markdown",
      "metadata": {
        "id": "H4ww4RL5NnBc"
      },
      "source": [
        "# 3. Training and testing subsets"
      ]
    },
    {
      "cell_type": "markdown",
      "source": [
        "💬 Utilizaremos la funcion `SplitTrainTest` de las actividades E06 para separar los datos en training y testing.\n"
      ],
      "metadata": {
        "id": "GSgIHoxeyvaw"
      }
    },
    {
      "cell_type": "code",
      "source": [
        "# Separación entre training y testing\n",
        "# las primeras n muestras de X serán para el training, el resto\n",
        "# para el testing\n",
        "def SplitTrainTest(X,y,n):\n",
        "\n",
        "  K      = np.max(y)+1              # número de clases\n",
        "  N      = int(X.shape[0]/K)        # numeros de muestras por clase\n",
        "  Ntrain = n*K                      # número de muestras para el training\n",
        "  Ntest  = K*N-Ntrain               # número de muestras para el testing\n",
        "  M      = X.shape[1]               # número de características por muestra\n",
        "  Xtrain = np.zeros((Ntrain,M))     # subset de training\n",
        "  ytrain = np.zeros((Ntrain),'int') # ground truth del training\n",
        "  Xtest  = np.zeros((Ntest,M))      # subset de testing\n",
        "  ytest  = np.zeros((Ntest),'int')  # ground truth del testing\n",
        "\n",
        "  # contadores\n",
        "  itrain = 0\n",
        "  itest  = 0\n",
        "  t      = 0\n",
        "\n",
        "  for j in range(K):     # para cada clase\n",
        "    for i in range(N):   # para cada imagen de la clase\n",
        "      if i<n: # training\n",
        "        Xtrain[itrain,:] = X[t,:]\n",
        "        ytrain[itrain] = y[t]\n",
        "        itrain = itrain+1\n",
        "      else:  # testing\n",
        "        Xtest[itest,:] = X[t,:]\n",
        "        ytest[itest] = y[t]\n",
        "        itest = itest+1\n",
        "      t = t+1\n",
        "\n",
        "  return Xtrain,ytrain,Xtest,ytest"
      ],
      "metadata": {
        "id": "FKAl9kSfxlfh"
      },
      "execution_count": 318,
      "outputs": []
    },
    {
      "cell_type": "code",
      "source": [
        "n_train = 200\n",
        "Xtrain,Ytrain,Xtest,Ytest = SplitTrainTest(X, Y, n_train)\n"
      ],
      "metadata": {
        "id": "4hGmScoLzKma"
      },
      "execution_count": 319,
      "outputs": []
    },
    {
      "cell_type": "markdown",
      "source": [
        "## Cleaning"
      ],
      "metadata": {
        "id": "vo_khJCsz8DM"
      }
    },
    {
      "cell_type": "code",
      "source": [
        "sclean = clean(Xtrain)  # Indices de las caracteristicas seleccionadas con el\n",
        "                        # algoritmo clean.\n",
        "Xtrain_clean = Xtrain[:,sclean] # Nuevo training.\n",
        "Xtest_clean = Xtest[:,sclean] # Nuevo testing.\n",
        "print(f'Cantidad de caracteristicas seleccionadas: {sclean.shape[0]}')\n"
      ],
      "metadata": {
        "id": "WP88cf0dz5iT",
        "outputId": "27211fac-c5e3-4882-ecf5-7795fb69a5b1",
        "colab": {
          "base_uri": "https://localhost:8080/"
        }
      },
      "execution_count": 320,
      "outputs": [
        {
          "output_type": "stream",
          "name": "stdout",
          "text": [
            "Cantidad de caracteristicas seleccionadas: 2884\n"
          ]
        }
      ]
    },
    {
      "cell_type": "markdown",
      "source": [
        "## Normalization"
      ],
      "metadata": {
        "id": "yzBUEVO3z9bQ"
      }
    },
    {
      "cell_type": "code",
      "source": [
        "Xtrain_norm, a, b = minmax(Xtrain_clean)\n",
        "Xtest_norm = Xtest_clean * a + b\n"
      ],
      "metadata": {
        "id": "qX-QhTs00BJQ"
      },
      "execution_count": 321,
      "outputs": []
    },
    {
      "cell_type": "markdown",
      "metadata": {
        "id": "XAxruFzQvF8v"
      },
      "source": [
        "# 4. Feature Selection"
      ]
    },
    {
      "cell_type": "markdown",
      "source": [
        "Primero seleccionaremos las mejores 30 caracteristicas utilizando el algoritmo SFS.\n"
      ],
      "metadata": {
        "id": "Y_C6Vno31yBP"
      }
    },
    {
      "cell_type": "code",
      "source": [
        "p = 30\n",
        "sfs_indices = sfs(Xtrain_norm, Ytrain, p)\n",
        "print(sfs_indices)"
      ],
      "metadata": {
        "id": "LUlu5NiS1u3O",
        "outputId": "bd57cbf8-3d00-441f-97f7-3594f67553e9",
        "colab": {
          "base_uri": "https://localhost:8080/"
        }
      },
      "execution_count": 322,
      "outputs": [
        {
          "output_type": "stream",
          "name": "stdout",
          "text": [
            "[2567 1118 2643 1858 2715  718  601 2214 2637 1180 2535  188  152  181\n",
            " 2711 1038 1147 1387    1  444 1101 2672 2870 2802  812  371 1902  857\n",
            " 1591 1646]\n"
          ]
        }
      ]
    },
    {
      "cell_type": "markdown",
      "source": [
        "Con el arreglo de los indices de las columnas que presentan los mejores fischer scores seleccionaremos las columnas de Xtrain_norm y Xtest_norm.\n"
      ],
      "metadata": {
        "id": "_110dtyI2b6g"
      }
    },
    {
      "cell_type": "code",
      "source": [
        "Xtrain_sfs = Xtrain_norm[:,sfs_indices]\n",
        "Xtest_sfs = Xtest_norm[:,sfs_indices]\n",
        "print(f'{Xtrain_sfs.shape} {Xtest_sfs.shape}')"
      ],
      "metadata": {
        "id": "KTVrB3NF2F_t",
        "colab": {
          "base_uri": "https://localhost:8080/"
        },
        "outputId": "be258af4-34df-4374-cc9e-1ffc12eea3d8"
      },
      "execution_count": 323,
      "outputs": [
        {
          "output_type": "stream",
          "name": "stdout",
          "text": [
            "(1000, 30) (200, 30)\n"
          ]
        }
      ]
    },
    {
      "cell_type": "markdown",
      "source": [
        "# 5. Classification"
      ],
      "metadata": {
        "id": "3Q7-WWSHWcZP"
      }
    },
    {
      "cell_type": "markdown",
      "source": [
        "Utilizaremos la siguiente funcion `KNNClassifier` para poder clasificar los datos utilizando el algoritmo KNN."
      ],
      "metadata": {
        "id": "MaIrXFuj29v5"
      }
    },
    {
      "cell_type": "code",
      "source": [
        "# Clasificación usando KNN con K vecinos\n",
        "def KNNClassifier(Xtrain,ytrain,Xtest,K):\n",
        "  # Normalizacion MinMax\n",
        "  # Xtrain, a, b = minmax(Xtrain)\n",
        "  # Xtest        = Xtest * a + b\n",
        "\n",
        "  # Training\n",
        "  knn = KNeighborsClassifier(n_neighbors=K)\n",
        "  knn.fit(Xtrain, ytrain)\n",
        "  print('Entrenando con '+str(Xtrain.shape[0])+' muestras y probando con '+str(Xtest.shape[0])+' muestras')\n",
        "\n",
        "  # Testing\n",
        "  ypred        = knn.predict(Xtest)\n",
        "  return ypred\n"
      ],
      "metadata": {
        "id": "5E1Mc39_28uC"
      },
      "execution_count": 324,
      "outputs": []
    },
    {
      "cell_type": "code",
      "source": [
        "def accuracy(ytrain, ytest, ypred):\n",
        "  testing_acc  = accuracy_score(ytest, ypred)\n",
        "  print(f'Testing Accuracy (AccTest) = {testing_acc}')\n",
        "\n",
        "  return testing_acc\n",
        "for n in [1, 3, 5]:\n",
        "    print(f'Para K={n} vecinos')\n",
        "    ypred = KNNClassifier(Xtrain_sfs,Ytrain,Xtest_sfs,n)\n",
        "    accuracy(Ytrain, Ytest, ypred)\n",
        "    print()"
      ],
      "metadata": {
        "id": "hE68ENfW3sR9",
        "outputId": "a2033550-9261-4a02-917e-90494ad3daad",
        "colab": {
          "base_uri": "https://localhost:8080/"
        }
      },
      "execution_count": 325,
      "outputs": [
        {
          "output_type": "stream",
          "name": "stdout",
          "text": [
            "Para K=1 vecinos\n",
            "Entrenando con 1000 muestras y probando con 200 muestras\n",
            "Testing Accuracy (AccTest) = 0.315\n",
            "\n",
            "Para K=3 vecinos\n",
            "Entrenando con 1000 muestras y probando con 200 muestras\n",
            "Testing Accuracy (AccTest) = 0.28\n",
            "\n",
            "Para K=5 vecinos\n",
            "Entrenando con 1000 muestras y probando con 200 muestras\n",
            "Testing Accuracy (AccTest) = 0.285\n",
            "\n"
          ]
        }
      ]
    },
    {
      "cell_type": "code",
      "source": [
        "Ypred = KNNClassifier(Xtrain_sfs,Ytrain,Xtest_sfs, 5)"
      ],
      "metadata": {
        "id": "7QS_JxI18UXP",
        "outputId": "d10b1a83-5e54-48a0-904f-7bb8f814a434",
        "colab": {
          "base_uri": "https://localhost:8080/"
        }
      },
      "execution_count": 326,
      "outputs": [
        {
          "output_type": "stream",
          "name": "stdout",
          "text": [
            "Entrenando con 1000 muestras y probando con 200 muestras\n"
          ]
        }
      ]
    },
    {
      "cell_type": "markdown",
      "metadata": {
        "id": "xTk4aRwH4iWU"
      },
      "source": [
        "# 6. Evaluation"
      ]
    },
    {
      "cell_type": "code",
      "source": [
        "def accuracy(ytrain, ytest, ypred):\n",
        "  # Evaluacion desempeño\n",
        "  testing_acc  = accuracy_score(ytest, ypred)\n",
        "  #training_acc = accuracy_score(ytrain, ypred)\n",
        "  #total_acc = 0.2 * training_acc + 0.8 * testing_acc\n",
        "  print(f'Testing Accuracy (AccTest) = {testing_acc}')\n",
        "  #print(f'Training Accuracy (AccTrain) = {training_acc}')\n",
        "  #print(f'Total Accuracy (AccTot) = {total}')\n",
        "  C = confusion_matrix(Ytest, ypred)\n",
        "\n",
        "  return testing_acc, C\n"
      ],
      "metadata": {
        "id": "O_OL-kWL30kr"
      },
      "execution_count": 327,
      "outputs": []
    },
    {
      "cell_type": "code",
      "source": [
        "testing_acc, C = accuracy(Ytrain, Ytest, Ypred)\n"
      ],
      "metadata": {
        "id": "mHFrBy4o4oug",
        "outputId": "75bfdadf-f8a4-479f-a04b-48d58c433980",
        "colab": {
          "base_uri": "https://localhost:8080/"
        }
      },
      "execution_count": 328,
      "outputs": [
        {
          "output_type": "stream",
          "name": "stdout",
          "text": [
            "Testing Accuracy (AccTest) = 0.285\n"
          ]
        }
      ]
    },
    {
      "cell_type": "code",
      "source": [
        "print(C)"
      ],
      "metadata": {
        "colab": {
          "base_uri": "https://localhost:8080/"
        },
        "id": "7HtvJcX219u5",
        "outputId": "628bc036-0ad3-4eb7-8988-94c33a2293ed"
      },
      "execution_count": 329,
      "outputs": [
        {
          "output_type": "stream",
          "name": "stdout",
          "text": [
            "[[10  9 11 10  0]\n",
            " [ 6 10  6 17  1]\n",
            " [10  8 15  7  0]\n",
            " [ 4 17  4 15  0]\n",
            " [ 6 13  3 11  7]]\n"
          ]
        }
      ]
    },
    {
      "cell_type": "code",
      "source": [
        "heatmap(C, cmap='YlGnBu')"
      ],
      "metadata": {
        "id": "hnhF9qHB97i-",
        "outputId": "772ec911-e705-4c21-a00c-317be3ca13e2",
        "colab": {
          "base_uri": "https://localhost:8080/",
          "height": 448
        }
      },
      "execution_count": 330,
      "outputs": [
        {
          "output_type": "execute_result",
          "data": {
            "text/plain": [
              "<Axes: >"
            ]
          },
          "metadata": {},
          "execution_count": 330
        },
        {
          "output_type": "display_data",
          "data": {
            "text/plain": [
              "<Figure size 640x480 with 2 Axes>"
            ],
            "image/png": "[encoded data removed]"
          },
          "metadata": {}
        }
      ]
    },
    {
      "cell_type": "code",
      "source": [],
      "metadata": {
        "id": "8Jff6rgF9-wn"
      },
      "execution_count": 330,
      "outputs": []
    }
  ],
  "metadata": {
    "colab": {
      "provenance": []
    },
    "kernelspec": {
      "display_name": "Python 3",
      "name": "python3"
    },
    "language_info": {
      "codemirror_mode": {
        "name": "ipython",
        "version": 3
      },
      "file_extension": ".py",
      "mimetype": "text/x-python",
      "name": "python",
      "nbconvert_exporter": "python",
      "pygments_lexer": "ipython3",
      "version": "3.10.12"
    },
    "widgets": {
      "application/vnd.jupyter.widget-state+json": {
        "ea71d607ec344527bfbbf9c40474275d": {
          "model_module": "@jupyter-widgets/controls",
          "model_name": "HBoxModel",
          "model_module_version": "1.5.0",
          "state": {
            "_dom_classes": [],
            "_model_module": "@jupyter-widgets/controls",
            "_model_module_version": "1.5.0",
            "_model_name": "HBoxModel",
            "_view_count": null,
            "_view_module": "@jupyter-widgets/controls",
            "_view_module_version": "1.5.0",
            "_view_name": "HBoxView",
            "box_style": "",
            "children": [
              "IPY_MODEL_a988112a1af642439f52aa9d34357589",
              "IPY_MODEL_244cf84be3c94453a4a7eda22c8670ae",
              "IPY_MODEL_0b207e2f4ce94f0ba29de33f7c8ca65e"
            ],
            "layout": "IPY_MODEL_53ddd1d7da4d4dee95567a4249965ca8"
          }
        },
        "a988112a1af642439f52aa9d34357589": {
          "model_module": "@jupyter-widgets/controls",
          "model_name": "HTMLModel",
          "model_module_version": "1.5.0",
          "state": {
            "_dom_classes": [],
            "_model_module": "@jupyter-widgets/controls",
            "_model_module_version": "1.5.0",
            "_model_name": "HTMLModel",
            "_view_count": null,
            "_view_module": "@jupyter-widgets/controls",
            "_view_module_version": "1.5.0",
            "_view_name": "HTMLView",
            "description": "",
            "description_tooltip": null,
            "layout": "IPY_MODEL_4e3055c8f69d4d36b1d394a836c3dd62",
            "placeholder": "​",
            "style": "IPY_MODEL_d447dc9fef8849c186c90ce137fc642a",
            "value": "100%"
          }
        },
        "244cf84be3c94453a4a7eda22c8670ae": {
          "model_module": "@jupyter-widgets/controls",
          "model_name": "FloatProgressModel",
          "model_module_version": "1.5.0",
          "state": {
            "_dom_classes": [],
            "_model_module": "@jupyter-widgets/controls",
            "_model_module_version": "1.5.0",
            "_model_name": "FloatProgressModel",
            "_view_count": null,
            "_view_module": "@jupyter-widgets/controls",
            "_view_module_version": "1.5.0",
            "_view_name": "ProgressView",
            "bar_style": "success",
            "description": "",
            "description_tooltip": null,
            "layout": "IPY_MODEL_a92bbb6efe6747a4b468777aa3ba0e1f",
            "max": 240,
            "min": 0,
            "orientation": "horizontal",
            "style": "IPY_MODEL_1455f8e9336a4af1943b746e787fca15",
            "value": 240
          }
        },
        "0b207e2f4ce94f0ba29de33f7c8ca65e": {
          "model_module": "@jupyter-widgets/controls",
          "model_name": "HTMLModel",
          "model_module_version": "1.5.0",
          "state": {
            "_dom_classes": [],
            "_model_module": "@jupyter-widgets/controls",
            "_model_module_version": "1.5.0",
            "_model_name": "HTMLModel",
            "_view_count": null,
            "_view_module": "@jupyter-widgets/controls",
            "_view_module_version": "1.5.0",
            "_view_name": "HTMLView",
            "description": "",
            "description_tooltip": null,
            "layout": "IPY_MODEL_e884671354ad4fb49d43b67afa00da3d",
            "placeholder": "​",
            "style": "IPY_MODEL_4c94a47ddabc4d19b7228947c17ea351",
            "value": " 240/240 [00:05&lt;00:00, 70.31it/s]"
          }
        },
        "53ddd1d7da4d4dee95567a4249965ca8": {
          "model_module": "@jupyter-widgets/base",
          "model_name": "LayoutModel",
          "model_module_version": "1.2.0",
          "state": {
            "_model_module": "@jupyter-widgets/base",
            "_model_module_version": "1.2.0",
            "_model_name": "LayoutModel",
            "_view_count": null,
            "_view_module": "@jupyter-widgets/base",
            "_view_module_version": "1.2.0",
            "_view_name": "LayoutView",
            "align_content": null,
            "align_items": null,
            "align_self": null,
            "border": null,
            "bottom": null,
            "display": null,
            "flex": null,
            "flex_flow": null,
            "grid_area": null,
            "grid_auto_columns": null,
            "grid_auto_flow": null,
            "grid_auto_rows": null,
            "grid_column": null,
            "grid_gap": null,
            "grid_row": null,
            "grid_template_areas": null,
            "grid_template_columns": null,
            "grid_template_rows": null,
            "height": null,
            "justify_content": null,
            "justify_items": null,
            "left": null,
            "margin": null,
            "max_height": null,
            "max_width": null,
            "min_height": null,
            "min_width": null,
            "object_fit": null,
            "object_position": null,
            "order": null,
            "overflow": null,
            "overflow_x": null,
            "overflow_y": null,
            "padding": null,
            "right": null,
            "top": null,
            "visibility": null,
            "width": null
          }
        },
        "4e3055c8f69d4d36b1d394a836c3dd62": {
          "model_module": "@jupyter-widgets/base",
          "model_name": "LayoutModel",
          "model_module_version": "1.2.0",
          "state": {
            "_model_module": "@jupyter-widgets/base",
            "_model_module_version": "1.2.0",
            "_model_name": "LayoutModel",
            "_view_count": null,
            "_view_module": "@jupyter-widgets/base",
            "_view_module_version": "1.2.0",
            "_view_name": "LayoutView",
            "align_content": null,
            "align_items": null,
            "align_self": null,
            "border": null,
            "bottom": null,
            "display": null,
            "flex": null,
            "flex_flow": null,
            "grid_area": null,
            "grid_auto_columns": null,
            "grid_auto_flow": null,
            "grid_auto_rows": null,
            "grid_column": null,
            "grid_gap": null,
            "grid_row": null,
            "grid_template_areas": null,
            "grid_template_columns": null,
            "grid_template_rows": null,
            "height": null,
            "justify_content": null,
            "justify_items": null,
            "left": null,
            "margin": null,
            "max_height": null,
            "max_width": null,
            "min_height": null,
            "min_width": null,
            "object_fit": null,
            "object_position": null,
            "order": null,
            "overflow": null,
            "overflow_x": null,
            "overflow_y": null,
            "padding": null,
            "right": null,
            "top": null,
            "visibility": null,
            "width": null
          }
        },
        "d447dc9fef8849c186c90ce137fc642a": {
          "model_module": "@jupyter-widgets/controls",
          "model_name": "DescriptionStyleModel",
          "model_module_version": "1.5.0",
          "state": {
            "_model_module": "@jupyter-widgets/controls",
            "_model_module_version": "1.5.0",
            "_model_name": "DescriptionStyleModel",
            "_view_count": null,
            "_view_module": "@jupyter-widgets/base",
            "_view_module_version": "1.2.0",
            "_view_name": "StyleView",
            "description_width": ""
          }
        },
        "a92bbb6efe6747a4b468777aa3ba0e1f": {
          "model_module": "@jupyter-widgets/base",
          "model_name": "LayoutModel",
          "model_module_version": "1.2.0",
          "state": {
            "_model_module": "@jupyter-widgets/base",
            "_model_module_version": "1.2.0",
            "_model_name": "LayoutModel",
            "_view_count": null,
            "_view_module": "@jupyter-widgets/base",
            "_view_module_version": "1.2.0",
            "_view_name": "LayoutView",
            "align_content": null,
            "align_items": null,
            "align_self": null,
            "border": null,
            "bottom": null,
            "display": null,
            "flex": null,
            "flex_flow": null,
            "grid_area": null,
            "grid_auto_columns": null,
            "grid_auto_flow": null,
            "grid_auto_rows": null,
            "grid_column": null,
            "grid_gap": null,
            "grid_row": null,
            "grid_template_areas": null,
            "grid_template_columns": null,
            "grid_template_rows": null,
            "height": null,
            "justify_content": null,
            "justify_items": null,
            "left": null,
            "margin": null,
            "max_height": null,
            "max_width": null,
            "min_height": null,
            "min_width": null,
            "object_fit": null,
            "object_position": null,
            "order": null,
            "overflow": null,
            "overflow_x": null,
            "overflow_y": null,
            "padding": null,
            "right": null,
            "top": null,
            "visibility": null,
            "width": null
          }
        },
        "1455f8e9336a4af1943b746e787fca15": {
          "model_module": "@jupyter-widgets/controls",
          "model_name": "ProgressStyleModel",
          "model_module_version": "1.5.0",
          "state": {
            "_model_module": "@jupyter-widgets/controls",
            "_model_module_version": "1.5.0",
            "_model_name": "ProgressStyleModel",
            "_view_count": null,
            "_view_module": "@jupyter-widgets/base",
            "_view_module_version": "1.2.0",
            "_view_name": "StyleView",
            "bar_color": null,
            "description_width": ""
          }
        },
        "e884671354ad4fb49d43b67afa00da3d": {
          "model_module": "@jupyter-widgets/base",
          "model_name": "LayoutModel",
          "model_module_version": "1.2.0",
          "state": {
            "_model_module": "@jupyter-widgets/base",
            "_model_module_version": "1.2.0",
            "_model_name": "LayoutModel",
            "_view_count": null,
            "_view_module": "@jupyter-widgets/base",
            "_view_module_version": "1.2.0",
            "_view_name": "LayoutView",
            "align_content": null,
            "align_items": null,
            "align_self": null,
            "border": null,
            "bottom": null,
            "display": null,
            "flex": null,
            "flex_flow": null,
            "grid_area": null,
            "grid_auto_columns": null,
            "grid_auto_flow": null,
            "grid_auto_rows": null,
            "grid_column": null,
            "grid_gap": null,
            "grid_row": null,
            "grid_template_areas": null,
            "grid_template_columns": null,
            "grid_template_rows": null,
            "height": null,
            "justify_content": null,
            "justify_items": null,
            "left": null,
            "margin": null,
            "max_height": null,
            "max_width": null,
            "min_height": null,
            "min_width": null,
            "object_fit": null,
            "object_position": null,
            "order": null,
            "overflow": null,
            "overflow_x": null,
            "overflow_y": null,
            "padding": null,
            "right": null,
            "top": null,
            "visibility": null,
            "width": null
          }
        },
        "4c94a47ddabc4d19b7228947c17ea351": {
          "model_module": "@jupyter-widgets/controls",
          "model_name": "DescriptionStyleModel",
          "model_module_version": "1.5.0",
          "state": {
            "_model_module": "@jupyter-widgets/controls",
            "_model_module_version": "1.5.0",
            "_model_name": "DescriptionStyleModel",
            "_view_count": null,
            "_view_module": "@jupyter-widgets/base",
            "_view_module_version": "1.2.0",
            "_view_name": "StyleView",
            "description_width": ""
          }
        },
        "190111f1318d4de9b7394beb76e0c2a3": {
          "model_module": "@jupyter-widgets/controls",
          "model_name": "HBoxModel",
          "model_module_version": "1.5.0",
          "state": {
            "_dom_classes": [],
            "_model_module": "@jupyter-widgets/controls",
            "_model_module_version": "1.5.0",
            "_model_name": "HBoxModel",
            "_view_count": null,
            "_view_module": "@jupyter-widgets/controls",
            "_view_module_version": "1.5.0",
            "_view_name": "HBoxView",
            "box_style": "",
            "children": [
              "IPY_MODEL_e794cc0931f34f07aede838faf01b624",
              "IPY_MODEL_72e6243b55ac4fc0883e1b5dd6861865",
              "IPY_MODEL_0764c946a43246baad19128ee7d640d2"
            ],
            "layout": "IPY_MODEL_c52f7cb7f51349a48287341f54795449"
          }
        },
        "e794cc0931f34f07aede838faf01b624": {
          "model_module": "@jupyter-widgets/controls",
          "model_name": "HTMLModel",
          "model_module_version": "1.5.0",
          "state": {
            "_dom_classes": [],
            "_model_module": "@jupyter-widgets/controls",
            "_model_module_version": "1.5.0",
            "_model_name": "HTMLModel",
            "_view_count": null,
            "_view_module": "@jupyter-widgets/controls",
            "_view_module_version": "1.5.0",
            "_view_name": "HTMLView",
            "description": "",
            "description_tooltip": null,
            "layout": "IPY_MODEL_5c61a7e44ce14878bb72c5cdf7b7a4ba",
            "placeholder": "​",
            "style": "IPY_MODEL_74e2241897cb4f58b873a7580b035f4a",
            "value": "100%"
          }
        },
        "72e6243b55ac4fc0883e1b5dd6861865": {
          "model_module": "@jupyter-widgets/controls",
          "model_name": "FloatProgressModel",
          "model_module_version": "1.5.0",
          "state": {
            "_dom_classes": [],
            "_model_module": "@jupyter-widgets/controls",
            "_model_module_version": "1.5.0",
            "_model_name": "FloatProgressModel",
            "_view_count": null,
            "_view_module": "@jupyter-widgets/controls",
            "_view_module_version": "1.5.0",
            "_view_name": "ProgressView",
            "bar_style": "success",
            "description": "",
            "description_tooltip": null,
            "layout": "IPY_MODEL_65966c95f8814cf5a6ec0b24b5d22e41",
            "max": 240,
            "min": 0,
            "orientation": "horizontal",
            "style": "IPY_MODEL_8addf51e1f7a485b8841fe1c1fa06200",
            "value": 240
          }
        },
        "0764c946a43246baad19128ee7d640d2": {
          "model_module": "@jupyter-widgets/controls",
          "model_name": "HTMLModel",
          "model_module_version": "1.5.0",
          "state": {
            "_dom_classes": [],
            "_model_module": "@jupyter-widgets/controls",
            "_model_module_version": "1.5.0",
            "_model_name": "HTMLModel",
            "_view_count": null,
            "_view_module": "@jupyter-widgets/controls",
            "_view_module_version": "1.5.0",
            "_view_name": "HTMLView",
            "description": "",
            "description_tooltip": null,
            "layout": "IPY_MODEL_236ef9714d64476dad4e4810545559dc",
            "placeholder": "​",
            "style": "IPY_MODEL_dd8e3508d77d47bc80764144266aa35b",
            "value": " 240/240 [00:03&lt;00:00, 71.87it/s]"
          }
        },
        "c52f7cb7f51349a48287341f54795449": {
          "model_module": "@jupyter-widgets/base",
          "model_name": "LayoutModel",
          "model_module_version": "1.2.0",
          "state": {
            "_model_module": "@jupyter-widgets/base",
            "_model_module_version": "1.2.0",
            "_model_name": "LayoutModel",
            "_view_count": null,
            "_view_module": "@jupyter-widgets/base",
            "_view_module_version": "1.2.0",
            "_view_name": "LayoutView",
            "align_content": null,
            "align_items": null,
            "align_self": null,
            "border": null,
            "bottom": null,
            "display": null,
            "flex": null,
            "flex_flow": null,
            "grid_area": null,
            "grid_auto_columns": null,
            "grid_auto_flow": null,
            "grid_auto_rows": null,
            "grid_column": null,
            "grid_gap": null,
            "grid_row": null,
            "grid_template_areas": null,
            "grid_template_columns": null,
            "grid_template_rows": null,
            "height": null,
            "justify_content": null,
            "justify_items": null,
            "left": null,
            "margin": null,
            "max_height": null,
            "max_width": null,
            "min_height": null,
            "min_width": null,
            "object_fit": null,
            "object_position": null,
            "order": null,
            "overflow": null,
            "overflow_x": null,
            "overflow_y": null,
            "padding": null,
            "right": null,
            "top": null,
            "visibility": null,
            "width": null
          }
        },
        "5c61a7e44ce14878bb72c5cdf7b7a4ba": {
          "model_module": "@jupyter-widgets/base",
          "model_name": "LayoutModel",
          "model_module_version": "1.2.0",
          "state": {
            "_model_module": "@jupyter-widgets/base",
            "_model_module_version": "1.2.0",
            "_model_name": "LayoutModel",
            "_view_count": null,
            "_view_module": "@jupyter-widgets/base",
            "_view_module_version": "1.2.0",
            "_view_name": "LayoutView",
            "align_content": null,
            "align_items": null,
            "align_self": null,
            "border": null,
            "bottom": null,
            "display": null,
            "flex": null,
            "flex_flow": null,
            "grid_area": null,
            "grid_auto_columns": null,
            "grid_auto_flow": null,
            "grid_auto_rows": null,
            "grid_column": null,
            "grid_gap": null,
            "grid_row": null,
            "grid_template_areas": null,
            "grid_template_columns": null,
            "grid_template_rows": null,
            "height": null,
            "justify_content": null,
            "justify_items": null,
            "left": null,
            "margin": null,
            "max_height": null,
            "max_width": null,
            "min_height": null,
            "min_width": null,
            "object_fit": null,
            "object_position": null,
            "order": null,
            "overflow": null,
            "overflow_x": null,
            "overflow_y": null,
            "padding": null,
            "right": null,
            "top": null,
            "visibility": null,
            "width": null
          }
        },
        "74e2241897cb4f58b873a7580b035f4a": {
          "model_module": "@jupyter-widgets/controls",
          "model_name": "DescriptionStyleModel",
          "model_module_version": "1.5.0",
          "state": {
            "_model_module": "@jupyter-widgets/controls",
            "_model_module_version": "1.5.0",
            "_model_name": "DescriptionStyleModel",
            "_view_count": null,
            "_view_module": "@jupyter-widgets/base",
            "_view_module_version": "1.2.0",
            "_view_name": "StyleView",
            "description_width": ""
          }
        },
        "65966c95f8814cf5a6ec0b24b5d22e41": {
          "model_module": "@jupyter-widgets/base",
          "model_name": "LayoutModel",
          "model_module_version": "1.2.0",
          "state": {
            "_model_module": "@jupyter-widgets/base",
            "_model_module_version": "1.2.0",
            "_model_name": "LayoutModel",
            "_view_count": null,
            "_view_module": "@jupyter-widgets/base",
            "_view_module_version": "1.2.0",
            "_view_name": "LayoutView",
            "align_content": null,
            "align_items": null,
            "align_self": null,
            "border": null,
            "bottom": null,
            "display": null,
            "flex": null,
            "flex_flow": null,
            "grid_area": null,
            "grid_auto_columns": null,
            "grid_auto_flow": null,
            "grid_auto_rows": null,
            "grid_column": null,
            "grid_gap": null,
            "grid_row": null,
            "grid_template_areas": null,
            "grid_template_columns": null,
            "grid_template_rows": null,
            "height": null,
            "justify_content": null,
            "justify_items": null,
            "left": null,
            "margin": null,
            "max_height": null,
            "max_width": null,
            "min_height": null,
            "min_width": null,
            "object_fit": null,
            "object_position": null,
            "order": null,
            "overflow": null,
            "overflow_x": null,
            "overflow_y": null,
            "padding": null,
            "right": null,
            "top": null,
            "visibility": null,
            "width": null
          }
        },
        "8addf51e1f7a485b8841fe1c1fa06200": {
          "model_module": "@jupyter-widgets/controls",
          "model_name": "ProgressStyleModel",
          "model_module_version": "1.5.0",
          "state": {
            "_model_module": "@jupyter-widgets/controls",
            "_model_module_version": "1.5.0",
            "_model_name": "ProgressStyleModel",
            "_view_count": null,
            "_view_module": "@jupyter-widgets/base",
            "_view_module_version": "1.2.0",
            "_view_name": "StyleView",
            "bar_color": null,
            "description_width": ""
          }
        },
        "236ef9714d64476dad4e4810545559dc": {
          "model_module": "@jupyter-widgets/base",
          "model_name": "LayoutModel",
          "model_module_version": "1.2.0",
          "state": {
            "_model_module": "@jupyter-widgets/base",
            "_model_module_version": "1.2.0",
            "_model_name": "LayoutModel",
            "_view_count": null,
            "_view_module": "@jupyter-widgets/base",
            "_view_module_version": "1.2.0",
            "_view_name": "LayoutView",
            "align_content": null,
            "align_items": null,
            "align_self": null,
            "border": null,
            "bottom": null,
            "display": null,
            "flex": null,
            "flex_flow": null,
            "grid_area": null,
            "grid_auto_columns": null,
            "grid_auto_flow": null,
            "grid_auto_rows": null,
            "grid_column": null,
            "grid_gap": null,
            "grid_row": null,
            "grid_template_areas": null,
            "grid_template_columns": null,
            "grid_template_rows": null,
            "height": null,
            "justify_content": null,
            "justify_items": null,
            "left": null,
            "margin": null,
            "max_height": null,
            "max_width": null,
            "min_height": null,
            "min_width": null,
            "object_fit": null,
            "object_position": null,
            "order": null,
            "overflow": null,
            "overflow_x": null,
            "overflow_y": null,
            "padding": null,
            "right": null,
            "top": null,
            "visibility": null,
            "width": null
          }
        },
        "dd8e3508d77d47bc80764144266aa35b": {
          "model_module": "@jupyter-widgets/controls",
          "model_name": "DescriptionStyleModel",
          "model_module_version": "1.5.0",
          "state": {
            "_model_module": "@jupyter-widgets/controls",
            "_model_module_version": "1.5.0",
            "_model_name": "DescriptionStyleModel",
            "_view_count": null,
            "_view_module": "@jupyter-widgets/base",
            "_view_module_version": "1.2.0",
            "_view_name": "StyleView",
            "description_width": ""
          }
        },
        "d5e95fd3f822425a9d0b5154a8d1f90e": {
          "model_module": "@jupyter-widgets/controls",
          "model_name": "HBoxModel",
          "model_module_version": "1.5.0",
          "state": {
            "_dom_classes": [],
            "_model_module": "@jupyter-widgets/controls",
            "_model_module_version": "1.5.0",
            "_model_name": "HBoxModel",
            "_view_count": null,
            "_view_module": "@jupyter-widgets/controls",
            "_view_module_version": "1.5.0",
            "_view_name": "HBoxView",
            "box_style": "",
            "children": [
              "IPY_MODEL_b63357dcb5cd4184a75e7070ad9097a9",
              "IPY_MODEL_f4b36117f6d249d2b61e44f1a0fbba31",
              "IPY_MODEL_5b1d886a9e5c466a965ca5c57a711998"
            ],
            "layout": "IPY_MODEL_d1494c9c4725400ebd94822f7c4072d8"
          }
        },
        "b63357dcb5cd4184a75e7070ad9097a9": {
          "model_module": "@jupyter-widgets/controls",
          "model_name": "HTMLModel",
          "model_module_version": "1.5.0",
          "state": {
            "_dom_classes": [],
            "_model_module": "@jupyter-widgets/controls",
            "_model_module_version": "1.5.0",
            "_model_name": "HTMLModel",
            "_view_count": null,
            "_view_module": "@jupyter-widgets/controls",
            "_view_module_version": "1.5.0",
            "_view_name": "HTMLView",
            "description": "",
            "description_tooltip": null,
            "layout": "IPY_MODEL_26927d11d68f47d8ab6945d7fd5c7c1e",
            "placeholder": "​",
            "style": "IPY_MODEL_26bf2913d93a4a5683cc8368300b0edf",
            "value": "100%"
          }
        },
        "f4b36117f6d249d2b61e44f1a0fbba31": {
          "model_module": "@jupyter-widgets/controls",
          "model_name": "FloatProgressModel",
          "model_module_version": "1.5.0",
          "state": {
            "_dom_classes": [],
            "_model_module": "@jupyter-widgets/controls",
            "_model_module_version": "1.5.0",
            "_model_name": "FloatProgressModel",
            "_view_count": null,
            "_view_module": "@jupyter-widgets/controls",
            "_view_module_version": "1.5.0",
            "_view_name": "ProgressView",
            "bar_style": "success",
            "description": "",
            "description_tooltip": null,
            "layout": "IPY_MODEL_4afdfee056b7429a88c9a66dacc6e4bd",
            "max": 240,
            "min": 0,
            "orientation": "horizontal",
            "style": "IPY_MODEL_815077647a154166bd50f02452b7031c",
            "value": 240
          }
        },
        "5b1d886a9e5c466a965ca5c57a711998": {
          "model_module": "@jupyter-widgets/controls",
          "model_name": "HTMLModel",
          "model_module_version": "1.5.0",
          "state": {
            "_dom_classes": [],
            "_model_module": "@jupyter-widgets/controls",
            "_model_module_version": "1.5.0",
            "_model_name": "HTMLModel",
            "_view_count": null,
            "_view_module": "@jupyter-widgets/controls",
            "_view_module_version": "1.5.0",
            "_view_name": "HTMLView",
            "description": "",
            "description_tooltip": null,
            "layout": "IPY_MODEL_87701361bcf346f3bde67758829f19d2",
            "placeholder": "​",
            "style": "IPY_MODEL_cdef626c40f743adb3e55753cb620bb0",
            "value": " 240/240 [00:03&lt;00:00, 71.52it/s]"
          }
        },
        "d1494c9c4725400ebd94822f7c4072d8": {
          "model_module": "@jupyter-widgets/base",
          "model_name": "LayoutModel",
          "model_module_version": "1.2.0",
          "state": {
            "_model_module": "@jupyter-widgets/base",
            "_model_module_version": "1.2.0",
            "_model_name": "LayoutModel",
            "_view_count": null,
            "_view_module": "@jupyter-widgets/base",
            "_view_module_version": "1.2.0",
            "_view_name": "LayoutView",
            "align_content": null,
            "align_items": null,
            "align_self": null,
            "border": null,
            "bottom": null,
            "display": null,
            "flex": null,
            "flex_flow": null,
            "grid_area": null,
            "grid_auto_columns": null,
            "grid_auto_flow": null,
            "grid_auto_rows": null,
            "grid_column": null,
            "grid_gap": null,
            "grid_row": null,
            "grid_template_areas": null,
            "grid_template_columns": null,
            "grid_template_rows": null,
            "height": null,
            "justify_content": null,
            "justify_items": null,
            "left": null,
            "margin": null,
            "max_height": null,
            "max_width": null,
            "min_height": null,
            "min_width": null,
            "object_fit": null,
            "object_position": null,
            "order": null,
            "overflow": null,
            "overflow_x": null,
            "overflow_y": null,
            "padding": null,
            "right": null,
            "top": null,
            "visibility": null,
            "width": null
          }
        },
        "26927d11d68f47d8ab6945d7fd5c7c1e": {
          "model_module": "@jupyter-widgets/base",
          "model_name": "LayoutModel",
          "model_module_version": "1.2.0",
          "state": {
            "_model_module": "@jupyter-widgets/base",
            "_model_module_version": "1.2.0",
            "_model_name": "LayoutModel",
            "_view_count": null,
            "_view_module": "@jupyter-widgets/base",
            "_view_module_version": "1.2.0",
            "_view_name": "LayoutView",
            "align_content": null,
            "align_items": null,
            "align_self": null,
            "border": null,
            "bottom": null,
            "display": null,
            "flex": null,
            "flex_flow": null,
            "grid_area": null,
            "grid_auto_columns": null,
            "grid_auto_flow": null,
            "grid_auto_rows": null,
            "grid_column": null,
            "grid_gap": null,
            "grid_row": null,
            "grid_template_areas": null,
            "grid_template_columns": null,
            "grid_template_rows": null,
            "height": null,
            "justify_content": null,
            "justify_items": null,
            "left": null,
            "margin": null,
            "max_height": null,
            "max_width": null,
            "min_height": null,
            "min_width": null,
            "object_fit": null,
            "object_position": null,
            "order": null,
            "overflow": null,
            "overflow_x": null,
            "overflow_y": null,
            "padding": null,
            "right": null,
            "top": null,
            "visibility": null,
            "width": null
          }
        },
        "26bf2913d93a4a5683cc8368300b0edf": {
          "model_module": "@jupyter-widgets/controls",
          "model_name": "DescriptionStyleModel",
          "model_module_version": "1.5.0",
          "state": {
            "_model_module": "@jupyter-widgets/controls",
            "_model_module_version": "1.5.0",
            "_model_name": "DescriptionStyleModel",
            "_view_count": null,
            "_view_module": "@jupyter-widgets/base",
            "_view_module_version": "1.2.0",
            "_view_name": "StyleView",
            "description_width": ""
          }
        },
        "4afdfee056b7429a88c9a66dacc6e4bd": {
          "model_module": "@jupyter-widgets/base",
          "model_name": "LayoutModel",
          "model_module_version": "1.2.0",
          "state": {
            "_model_module": "@jupyter-widgets/base",
            "_model_module_version": "1.2.0",
            "_model_name": "LayoutModel",
            "_view_count": null,
            "_view_module": "@jupyter-widgets/base",
            "_view_module_version": "1.2.0",
            "_view_name": "LayoutView",
            "align_content": null,
            "align_items": null,
            "align_self": null,
            "border": null,
            "bottom": null,
            "display": null,
            "flex": null,
            "flex_flow": null,
            "grid_area": null,
            "grid_auto_columns": null,
            "grid_auto_flow": null,
            "grid_auto_rows": null,
            "grid_column": null,
            "grid_gap": null,
            "grid_row": null,
            "grid_template_areas": null,
            "grid_template_columns": null,
            "grid_template_rows": null,
            "height": null,
            "justify_content": null,
            "justify_items": null,
            "left": null,
            "margin": null,
            "max_height": null,
            "max_width": null,
            "min_height": null,
            "min_width": null,
            "object_fit": null,
            "object_position": null,
            "order": null,
            "overflow": null,
            "overflow_x": null,
            "overflow_y": null,
            "padding": null,
            "right": null,
            "top": null,
            "visibility": null,
            "width": null
          }
        },
        "815077647a154166bd50f02452b7031c": {
          "model_module": "@jupyter-widgets/controls",
          "model_name": "ProgressStyleModel",
          "model_module_version": "1.5.0",
          "state": {
            "_model_module": "@jupyter-widgets/controls",
            "_model_module_version": "1.5.0",
            "_model_name": "ProgressStyleModel",
            "_view_count": null,
            "_view_module": "@jupyter-widgets/base",
            "_view_module_version": "1.2.0",
            "_view_name": "StyleView",
            "bar_color": null,
            "description_width": ""
          }
        },
        "87701361bcf346f3bde67758829f19d2": {
          "model_module": "@jupyter-widgets/base",
          "model_name": "LayoutModel",
          "model_module_version": "1.2.0",
          "state": {
            "_model_module": "@jupyter-widgets/base",
            "_model_module_version": "1.2.0",
            "_model_name": "LayoutModel",
            "_view_count": null,
            "_view_module": "@jupyter-widgets/base",
            "_view_module_version": "1.2.0",
            "_view_name": "LayoutView",
            "align_content": null,
            "align_items": null,
            "align_self": null,
            "border": null,
            "bottom": null,
            "display": null,
            "flex": null,
            "flex_flow": null,
            "grid_area": null,
            "grid_auto_columns": null,
            "grid_auto_flow": null,
            "grid_auto_rows": null,
            "grid_column": null,
            "grid_gap": null,
            "grid_row": null,
            "grid_template_areas": null,
            "grid_template_columns": null,
            "grid_template_rows": null,
            "height": null,
            "justify_content": null,
            "justify_items": null,
            "left": null,
            "margin": null,
            "max_height": null,
            "max_width": null,
            "min_height": null,
            "min_width": null,
            "object_fit": null,
            "object_position": null,
            "order": null,
            "overflow": null,
            "overflow_x": null,
            "overflow_y": null,
            "padding": null,
            "right": null,
            "top": null,
            "visibility": null,
            "width": null
          }
        },
        "cdef626c40f743adb3e55753cb620bb0": {
          "model_module": "@jupyter-widgets/controls",
          "model_name": "DescriptionStyleModel",
          "model_module_version": "1.5.0",
          "state": {
            "_model_module": "@jupyter-widgets/controls",
            "_model_module_version": "1.5.0",
            "_model_name": "DescriptionStyleModel",
            "_view_count": null,
            "_view_module": "@jupyter-widgets/base",
            "_view_module_version": "1.2.0",
            "_view_name": "StyleView",
            "description_width": ""
          }
        },
        "a46b2915a0d14c4295af56aa7ba911a3": {
          "model_module": "@jupyter-widgets/controls",
          "model_name": "HBoxModel",
          "model_module_version": "1.5.0",
          "state": {
            "_dom_classes": [],
            "_model_module": "@jupyter-widgets/controls",
            "_model_module_version": "1.5.0",
            "_model_name": "HBoxModel",
            "_view_count": null,
            "_view_module": "@jupyter-widgets/controls",
            "_view_module_version": "1.5.0",
            "_view_name": "HBoxView",
            "box_style": "",
            "children": [
              "IPY_MODEL_88ab50616c8348219fc4c6b52dccc7dd",
              "IPY_MODEL_3d41b5a7569f4eaa89a933daf0872463",
              "IPY_MODEL_d274e4d934a74257a94c32b0fdddebd3"
            ],
            "layout": "IPY_MODEL_e68f0ecf46694e53aff61ce2701b9ee7"
          }
        },
        "88ab50616c8348219fc4c6b52dccc7dd": {
          "model_module": "@jupyter-widgets/controls",
          "model_name": "HTMLModel",
          "model_module_version": "1.5.0",
          "state": {
            "_dom_classes": [],
            "_model_module": "@jupyter-widgets/controls",
            "_model_module_version": "1.5.0",
            "_model_name": "HTMLModel",
            "_view_count": null,
            "_view_module": "@jupyter-widgets/controls",
            "_view_module_version": "1.5.0",
            "_view_name": "HTMLView",
            "description": "",
            "description_tooltip": null,
            "layout": "IPY_MODEL_d5780624fe5546d5849514d5c77d0055",
            "placeholder": "​",
            "style": "IPY_MODEL_f3b3c04be0f5486e8435f977970ce306",
            "value": "100%"
          }
        },
        "3d41b5a7569f4eaa89a933daf0872463": {
          "model_module": "@jupyter-widgets/controls",
          "model_name": "FloatProgressModel",
          "model_module_version": "1.5.0",
          "state": {
            "_dom_classes": [],
            "_model_module": "@jupyter-widgets/controls",
            "_model_module_version": "1.5.0",
            "_model_name": "FloatProgressModel",
            "_view_count": null,
            "_view_module": "@jupyter-widgets/controls",
            "_view_module_version": "1.5.0",
            "_view_name": "ProgressView",
            "bar_style": "success",
            "description": "",
            "description_tooltip": null,
            "layout": "IPY_MODEL_5ade0d1fe00f44a0a9b02479150b538d",
            "max": 240,
            "min": 0,
            "orientation": "horizontal",
            "style": "IPY_MODEL_e68f332a02d24350ac107aaca1b42c3d",
            "value": 240
          }
        },
        "d274e4d934a74257a94c32b0fdddebd3": {
          "model_module": "@jupyter-widgets/controls",
          "model_name": "HTMLModel",
          "model_module_version": "1.5.0",
          "state": {
            "_dom_classes": [],
            "_model_module": "@jupyter-widgets/controls",
            "_model_module_version": "1.5.0",
            "_model_name": "HTMLModel",
            "_view_count": null,
            "_view_module": "@jupyter-widgets/controls",
            "_view_module_version": "1.5.0",
            "_view_name": "HTMLView",
            "description": "",
            "description_tooltip": null,
            "layout": "IPY_MODEL_a92e992dac9644feb4a79048310bcf82",
            "placeholder": "​",
            "style": "IPY_MODEL_962f7fdcc68c4208a4fe9f29de760f02",
            "value": " 240/240 [00:04&lt;00:00, 63.55it/s]"
          }
        },
        "e68f0ecf46694e53aff61ce2701b9ee7": {
          "model_module": "@jupyter-widgets/base",
          "model_name": "LayoutModel",
          "model_module_version": "1.2.0",
          "state": {
            "_model_module": "@jupyter-widgets/base",
            "_model_module_version": "1.2.0",
            "_model_name": "LayoutModel",
            "_view_count": null,
            "_view_module": "@jupyter-widgets/base",
            "_view_module_version": "1.2.0",
            "_view_name": "LayoutView",
            "align_content": null,
            "align_items": null,
            "align_self": null,
            "border": null,
            "bottom": null,
            "display": null,
            "flex": null,
            "flex_flow": null,
            "grid_area": null,
            "grid_auto_columns": null,
            "grid_auto_flow": null,
            "grid_auto_rows": null,
            "grid_column": null,
            "grid_gap": null,
            "grid_row": null,
            "grid_template_areas": null,
            "grid_template_columns": null,
            "grid_template_rows": null,
            "height": null,
            "justify_content": null,
            "justify_items": null,
            "left": null,
            "margin": null,
            "max_height": null,
            "max_width": null,
            "min_height": null,
            "min_width": null,
            "object_fit": null,
            "object_position": null,
            "order": null,
            "overflow": null,
            "overflow_x": null,
            "overflow_y": null,
            "padding": null,
            "right": null,
            "top": null,
            "visibility": null,
            "width": null
          }
        },
        "d5780624fe5546d5849514d5c77d0055": {
          "model_module": "@jupyter-widgets/base",
          "model_name": "LayoutModel",
          "model_module_version": "1.2.0",
          "state": {
            "_model_module": "@jupyter-widgets/base",
            "_model_module_version": "1.2.0",
            "_model_name": "LayoutModel",
            "_view_count": null,
            "_view_module": "@jupyter-widgets/base",
            "_view_module_version": "1.2.0",
            "_view_name": "LayoutView",
            "align_content": null,
            "align_items": null,
            "align_self": null,
            "border": null,
            "bottom": null,
            "display": null,
            "flex": null,
            "flex_flow": null,
            "grid_area": null,
            "grid_auto_columns": null,
            "grid_auto_flow": null,
            "grid_auto_rows": null,
            "grid_column": null,
            "grid_gap": null,
            "grid_row": null,
            "grid_template_areas": null,
            "grid_template_columns": null,
            "grid_template_rows": null,
            "height": null,
            "justify_content": null,
            "justify_items": null,
            "left": null,
            "margin": null,
            "max_height": null,
            "max_width": null,
            "min_height": null,
            "min_width": null,
            "object_fit": null,
            "object_position": null,
            "order": null,
            "overflow": null,
            "overflow_x": null,
            "overflow_y": null,
            "padding": null,
            "right": null,
            "top": null,
            "visibility": null,
            "width": null
          }
        },
        "f3b3c04be0f5486e8435f977970ce306": {
          "model_module": "@jupyter-widgets/controls",
          "model_name": "DescriptionStyleModel",
          "model_module_version": "1.5.0",
          "state": {
            "_model_module": "@jupyter-widgets/controls",
            "_model_module_version": "1.5.0",
            "_model_name": "DescriptionStyleModel",
            "_view_count": null,
            "_view_module": "@jupyter-widgets/base",
            "_view_module_version": "1.2.0",
            "_view_name": "StyleView",
            "description_width": ""
          }
        },
        "5ade0d1fe00f44a0a9b02479150b538d": {
          "model_module": "@jupyter-widgets/base",
          "model_name": "LayoutModel",
          "model_module_version": "1.2.0",
          "state": {
            "_model_module": "@jupyter-widgets/base",
            "_model_module_version": "1.2.0",
            "_model_name": "LayoutModel",
            "_view_count": null,
            "_view_module": "@jupyter-widgets/base",
            "_view_module_version": "1.2.0",
            "_view_name": "LayoutView",
            "align_content": null,
            "align_items": null,
            "align_self": null,
            "border": null,
            "bottom": null,
            "display": null,
            "flex": null,
            "flex_flow": null,
            "grid_area": null,
            "grid_auto_columns": null,
            "grid_auto_flow": null,
            "grid_auto_rows": null,
            "grid_column": null,
            "grid_gap": null,
            "grid_row": null,
            "grid_template_areas": null,
            "grid_template_columns": null,
            "grid_template_rows": null,
            "height": null,
            "justify_content": null,
            "justify_items": null,
            "left": null,
            "margin": null,
            "max_height": null,
            "max_width": null,
            "min_height": null,
            "min_width": null,
            "object_fit": null,
            "object_position": null,
            "order": null,
            "overflow": null,
            "overflow_x": null,
            "overflow_y": null,
            "padding": null,
            "right": null,
            "top": null,
            "visibility": null,
            "width": null
          }
        },
        "e68f332a02d24350ac107aaca1b42c3d": {
          "model_module": "@jupyter-widgets/controls",
          "model_name": "ProgressStyleModel",
          "model_module_version": "1.5.0",
          "state": {
            "_model_module": "@jupyter-widgets/controls",
            "_model_module_version": "1.5.0",
            "_model_name": "ProgressStyleModel",
            "_view_count": null,
            "_view_module": "@jupyter-widgets/base",
            "_view_module_version": "1.2.0",
            "_view_name": "StyleView",
            "bar_color": null,
            "description_width": ""
          }
        },
        "a92e992dac9644feb4a79048310bcf82": {
          "model_module": "@jupyter-widgets/base",
          "model_name": "LayoutModel",
          "model_module_version": "1.2.0",
          "state": {
            "_model_module": "@jupyter-widgets/base",
            "_model_module_version": "1.2.0",
            "_model_name": "LayoutModel",
            "_view_count": null,
            "_view_module": "@jupyter-widgets/base",
            "_view_module_version": "1.2.0",
            "_view_name": "LayoutView",
            "align_content": null,
            "align_items": null,
            "align_self": null,
            "border": null,
            "bottom": null,
            "display": null,
            "flex": null,
            "flex_flow": null,
            "grid_area": null,
            "grid_auto_columns": null,
            "grid_auto_flow": null,
            "grid_auto_rows": null,
            "grid_column": null,
            "grid_gap": null,
            "grid_row": null,
            "grid_template_areas": null,
            "grid_template_columns": null,
            "grid_template_rows": null,
            "height": null,
            "justify_content": null,
            "justify_items": null,
            "left": null,
            "margin": null,
            "max_height": null,
            "max_width": null,
            "min_height": null,
            "min_width": null,
            "object_fit": null,
            "object_position": null,
            "order": null,
            "overflow": null,
            "overflow_x": null,
            "overflow_y": null,
            "padding": null,
            "right": null,
            "top": null,
            "visibility": null,
            "width": null
          }
        },
        "962f7fdcc68c4208a4fe9f29de760f02": {
          "model_module": "@jupyter-widgets/controls",
          "model_name": "DescriptionStyleModel",
          "model_module_version": "1.5.0",
          "state": {
            "_model_module": "@jupyter-widgets/controls",
            "_model_module_version": "1.5.0",
            "_model_name": "DescriptionStyleModel",
            "_view_count": null,
            "_view_module": "@jupyter-widgets/base",
            "_view_module_version": "1.2.0",
            "_view_name": "StyleView",
            "description_width": ""
          }
        },
        "4c9ef956faa74bac881db45d6cd9ed27": {
          "model_module": "@jupyter-widgets/controls",
          "model_name": "HBoxModel",
          "model_module_version": "1.5.0",
          "state": {
            "_dom_classes": [],
            "_model_module": "@jupyter-widgets/controls",
            "_model_module_version": "1.5.0",
            "_model_name": "HBoxModel",
            "_view_count": null,
            "_view_module": "@jupyter-widgets/controls",
            "_view_module_version": "1.5.0",
            "_view_name": "HBoxView",
            "box_style": "",
            "children": [
              "IPY_MODEL_df9224f4c6274c8e94c410ded879e2cd",
              "IPY_MODEL_5b96ed60e7484e44b254a61e43446221",
              "IPY_MODEL_76115035f2cf43339f6bbcb394d51b3f"
            ],
            "layout": "IPY_MODEL_a3ab24f6793a4cd2b7c082485f6f8500"
          }
        },
        "df9224f4c6274c8e94c410ded879e2cd": {
          "model_module": "@jupyter-widgets/controls",
          "model_name": "HTMLModel",
          "model_module_version": "1.5.0",
          "state": {
            "_dom_classes": [],
            "_model_module": "@jupyter-widgets/controls",
            "_model_module_version": "1.5.0",
            "_model_name": "HTMLModel",
            "_view_count": null,
            "_view_module": "@jupyter-widgets/controls",
            "_view_module_version": "1.5.0",
            "_view_name": "HTMLView",
            "description": "",
            "description_tooltip": null,
            "layout": "IPY_MODEL_c34192c133e94d1fbb42e7863fd67fbb",
            "placeholder": "​",
            "style": "IPY_MODEL_a7b3d39e265146b6ac33c5c854c2fc8a",
            "value": "100%"
          }
        },
        "5b96ed60e7484e44b254a61e43446221": {
          "model_module": "@jupyter-widgets/controls",
          "model_name": "FloatProgressModel",
          "model_module_version": "1.5.0",
          "state": {
            "_dom_classes": [],
            "_model_module": "@jupyter-widgets/controls",
            "_model_module_version": "1.5.0",
            "_model_name": "FloatProgressModel",
            "_view_count": null,
            "_view_module": "@jupyter-widgets/controls",
            "_view_module_version": "1.5.0",
            "_view_name": "ProgressView",
            "bar_style": "success",
            "description": "",
            "description_tooltip": null,
            "layout": "IPY_MODEL_a2e7a1a732f249fa8fd0011a54c5b520",
            "max": 240,
            "min": 0,
            "orientation": "horizontal",
            "style": "IPY_MODEL_c6d6774c4b4a463ca13b72292d0ef69d",
            "value": 240
          }
        },
        "76115035f2cf43339f6bbcb394d51b3f": {
          "model_module": "@jupyter-widgets/controls",
          "model_name": "HTMLModel",
          "model_module_version": "1.5.0",
          "state": {
            "_dom_classes": [],
            "_model_module": "@jupyter-widgets/controls",
            "_model_module_version": "1.5.0",
            "_model_name": "HTMLModel",
            "_view_count": null,
            "_view_module": "@jupyter-widgets/controls",
            "_view_module_version": "1.5.0",
            "_view_name": "HTMLView",
            "description": "",
            "description_tooltip": null,
            "layout": "IPY_MODEL_6b10900114d14ce2ae83e6f1944ca4d7",
            "placeholder": "​",
            "style": "IPY_MODEL_03f3757ecb074130963f8384ae9903d5",
            "value": " 240/240 [00:03&lt;00:00, 71.57it/s]"
          }
        },
        "a3ab24f6793a4cd2b7c082485f6f8500": {
          "model_module": "@jupyter-widgets/base",
          "model_name": "LayoutModel",
          "model_module_version": "1.2.0",
          "state": {
            "_model_module": "@jupyter-widgets/base",
            "_model_module_version": "1.2.0",
            "_model_name": "LayoutModel",
            "_view_count": null,
            "_view_module": "@jupyter-widgets/base",
            "_view_module_version": "1.2.0",
            "_view_name": "LayoutView",
            "align_content": null,
            "align_items": null,
            "align_self": null,
            "border": null,
            "bottom": null,
            "display": null,
            "flex": null,
            "flex_flow": null,
            "grid_area": null,
            "grid_auto_columns": null,
            "grid_auto_flow": null,
            "grid_auto_rows": null,
            "grid_column": null,
            "grid_gap": null,
            "grid_row": null,
            "grid_template_areas": null,
            "grid_template_columns": null,
            "grid_template_rows": null,
            "height": null,
            "justify_content": null,
            "justify_items": null,
            "left": null,
            "margin": null,
            "max_height": null,
            "max_width": null,
            "min_height": null,
            "min_width": null,
            "object_fit": null,
            "object_position": null,
            "order": null,
            "overflow": null,
            "overflow_x": null,
            "overflow_y": null,
            "padding": null,
            "right": null,
            "top": null,
            "visibility": null,
            "width": null
          }
        },
        "c34192c133e94d1fbb42e7863fd67fbb": {
          "model_module": "@jupyter-widgets/base",
          "model_name": "LayoutModel",
          "model_module_version": "1.2.0",
          "state": {
            "_model_module": "@jupyter-widgets/base",
            "_model_module_version": "1.2.0",
            "_model_name": "LayoutModel",
            "_view_count": null,
            "_view_module": "@jupyter-widgets/base",
            "_view_module_version": "1.2.0",
            "_view_name": "LayoutView",
            "align_content": null,
            "align_items": null,
            "align_self": null,
            "border": null,
            "bottom": null,
            "display": null,
            "flex": null,
            "flex_flow": null,
            "grid_area": null,
            "grid_auto_columns": null,
            "grid_auto_flow": null,
            "grid_auto_rows": null,
            "grid_column": null,
            "grid_gap": null,
            "grid_row": null,
            "grid_template_areas": null,
            "grid_template_columns": null,
            "grid_template_rows": null,
            "height": null,
            "justify_content": null,
            "justify_items": null,
            "left": null,
            "margin": null,
            "max_height": null,
            "max_width": null,
            "min_height": null,
            "min_width": null,
            "object_fit": null,
            "object_position": null,
            "order": null,
            "overflow": null,
            "overflow_x": null,
            "overflow_y": null,
            "padding": null,
            "right": null,
            "top": null,
            "visibility": null,
            "width": null
          }
        },
        "a7b3d39e265146b6ac33c5c854c2fc8a": {
          "model_module": "@jupyter-widgets/controls",
          "model_name": "DescriptionStyleModel",
          "model_module_version": "1.5.0",
          "state": {
            "_model_module": "@jupyter-widgets/controls",
            "_model_module_version": "1.5.0",
            "_model_name": "DescriptionStyleModel",
            "_view_count": null,
            "_view_module": "@jupyter-widgets/base",
            "_view_module_version": "1.2.0",
            "_view_name": "StyleView",
            "description_width": ""
          }
        },
        "a2e7a1a732f249fa8fd0011a54c5b520": {
          "model_module": "@jupyter-widgets/base",
          "model_name": "LayoutModel",
          "model_module_version": "1.2.0",
          "state": {
            "_model_module": "@jupyter-widgets/base",
            "_model_module_version": "1.2.0",
            "_model_name": "LayoutModel",
            "_view_count": null,
            "_view_module": "@jupyter-widgets/base",
            "_view_module_version": "1.2.0",
            "_view_name": "LayoutView",
            "align_content": null,
            "align_items": null,
            "align_self": null,
            "border": null,
            "bottom": null,
            "display": null,
            "flex": null,
            "flex_flow": null,
            "grid_area": null,
            "grid_auto_columns": null,
            "grid_auto_flow": null,
            "grid_auto_rows": null,
            "grid_column": null,
            "grid_gap": null,
            "grid_row": null,
            "grid_template_areas": null,
            "grid_template_columns": null,
            "grid_template_rows": null,
            "height": null,
            "justify_content": null,
            "justify_items": null,
            "left": null,
            "margin": null,
            "max_height": null,
            "max_width": null,
            "min_height": null,
            "min_width": null,
            "object_fit": null,
            "object_position": null,
            "order": null,
            "overflow": null,
            "overflow_x": null,
            "overflow_y": null,
            "padding": null,
            "right": null,
            "top": null,
            "visibility": null,
            "width": null
          }
        },
        "c6d6774c4b4a463ca13b72292d0ef69d": {
          "model_module": "@jupyter-widgets/controls",
          "model_name": "ProgressStyleModel",
          "model_module_version": "1.5.0",
          "state": {
            "_model_module": "@jupyter-widgets/controls",
            "_model_module_version": "1.5.0",
            "_model_name": "ProgressStyleModel",
            "_view_count": null,
            "_view_module": "@jupyter-widgets/base",
            "_view_module_version": "1.2.0",
            "_view_name": "StyleView",
            "bar_color": null,
            "description_width": ""
          }
        },
        "6b10900114d14ce2ae83e6f1944ca4d7": {
          "model_module": "@jupyter-widgets/base",
          "model_name": "LayoutModel",
          "model_module_version": "1.2.0",
          "state": {
            "_model_module": "@jupyter-widgets/base",
            "_model_module_version": "1.2.0",
            "_model_name": "LayoutModel",
            "_view_count": null,
            "_view_module": "@jupyter-widgets/base",
            "_view_module_version": "1.2.0",
            "_view_name": "LayoutView",
            "align_content": null,
            "align_items": null,
            "align_self": null,
            "border": null,
            "bottom": null,
            "display": null,
            "flex": null,
            "flex_flow": null,
            "grid_area": null,
            "grid_auto_columns": null,
            "grid_auto_flow": null,
            "grid_auto_rows": null,
            "grid_column": null,
            "grid_gap": null,
            "grid_row": null,
            "grid_template_areas": null,
            "grid_template_columns": null,
            "grid_template_rows": null,
            "height": null,
            "justify_content": null,
            "justify_items": null,
            "left": null,
            "margin": null,
            "max_height": null,
            "max_width": null,
            "min_height": null,
            "min_width": null,
            "object_fit": null,
            "object_position": null,
            "order": null,
            "overflow": null,
            "overflow_x": null,
            "overflow_y": null,
            "padding": null,
            "right": null,
            "top": null,
            "visibility": null,
            "width": null
          }
        },
        "03f3757ecb074130963f8384ae9903d5": {
          "model_module": "@jupyter-widgets/controls",
          "model_name": "DescriptionStyleModel",
          "model_module_version": "1.5.0",
          "state": {
            "_model_module": "@jupyter-widgets/controls",
            "_model_module_version": "1.5.0",
            "_model_name": "DescriptionStyleModel",
            "_view_count": null,
            "_view_module": "@jupyter-widgets/base",
            "_view_module_version": "1.2.0",
            "_view_name": "StyleView",
            "description_width": ""
          }
        }
      }
    }
  },
  "nbformat": 4,
  "nbformat_minor": 0
}