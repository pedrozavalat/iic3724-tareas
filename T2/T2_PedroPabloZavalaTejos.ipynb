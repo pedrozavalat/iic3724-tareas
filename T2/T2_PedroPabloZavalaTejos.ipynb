{
  "cells": [
    {
      "cell_type": "markdown",
      "metadata": {
        "id": "mSI7an-eehA7"
      },
      "source": [
        "# Tarea 2: Reconocimiento intermedio - Clasificador de lunares cancerígenos.\n",
        "Reconocimiento de Patrones (IIC2233)\n",
        "\n",
        "Primer semestre 2024\n",
        "\n",
        "Pedro Pablo Zavala Tejos"
      ]
    },
    {
      "cell_type": "markdown",
      "metadata": {
        "id": "Z7nlXaFDeT1C"
      },
      "source": [
        "# 0. Initial Setup"
      ]
    },
    {
      "cell_type": "markdown",
      "metadata": {
        "id": "ByGX95NGMU-p"
      },
      "source": [
        "# 1. Image Loading\n"
      ]
    },
    {
      "cell_type": "markdown",
      "metadata": {
        "id": "4_Iqjs45NsY8"
      },
      "source": [
        "💬 Cargamos los datos desde dropbox"
      ]
    },
    {
      "cell_type": "markdown",
      "metadata": {
        "id": "jZ2O7JcHT2vm"
      },
      "source": [
        "💬 Definimos las siguientes funciones para cargar las imagenes."
      ]
    },
    {
      "cell_type": "code",
      "execution_count": 5,
      "metadata": {
        "id": "mDx9uWg0K0KX"
      },
      "outputs": [],
      "source": [
        "\n",
        "def num2fixstr(x: int, d: int) -> str:\n",
        "    \"\"\"\n",
        "    Transforma en un string un numero x en una cantidad de x digitos\n",
        "    \"\"\"\n",
        "    string = '%0*d' % (d, x)\n",
        "    return string\n",
        "\n",
        "def get_image_path(num_class: int, num_img: int, sep='_') -> str:\n",
        "    \"\"\"\n",
        "    Retorna la ruta de la imagen a cargar dada una clase num_class y un\n",
        "    identificador de imagen num_img\n",
        "    \"\"\"\n",
        "    BASE_URL = 'kchipun/img_'\n",
        "    DIGITS_CLASS = 2\n",
        "    DIGITS_IMG = 4\n",
        "    path = f'{BASE_URL}{num2fixstr(num_class, DIGITS_CLASS)}{sep}{num2fixstr(num_img, DIGITS_IMG)}.png'\n",
        "    return path\n",
        "\n",
        "def imageload(num_class: int, num_img: int, echo='off') -> str:\n",
        "    \"\"\"\n",
        "    Carga la imagen utilizando la libreria cv2\n",
        "    \"\"\"\n",
        "    path = get_image_path(num_class, num_img)\n",
        "    if echo == 'on':\n",
        "        print(f'loading image {path} ...')\n",
        "    img = cv2.imread(path, 0)\n",
        "    return img\n",
        "\n",
        "def plot_image(num_class: int, num_img: int, echo='off') -> str:\n",
        "    \"\"\"\n",
        "    Ilustra la imagen con matplotlib\n",
        "    \"\"\"\n",
        "    img = imageload(num_class, num_img, echo='on')\n",
        "    plt.imshow(img, cmap='gray')"
      ]
    },
    {
      "cell_type": "markdown",
      "metadata": {
        "id": "y86K_4mkT2vn"
      },
      "source": [
        "💬 Para hacer una prueba, cargamos una imagen para cada clase"
      ]
    },
    {
      "cell_type": "markdown",
      "metadata": {
        "id": "stNwze64kF27"
      },
      "source": [
        "# 2. Feature Extraction"
      ]
    },
    {
      "cell_type": "markdown",
      "metadata": {
        "id": "H4ww4RL5NnBc"
      },
      "source": [
        "# 3. Training and testing subsets"
      ]
    },
    {
      "cell_type": "markdown",
      "metadata": {
        "id": "XAxruFzQvF8v"
      },
      "source": [
        "# 4. Classification"
      ]
    },
    {
      "cell_type": "markdown",
      "metadata": {
        "id": "xTk4aRwH4iWU"
      },
      "source": [
        "# 5. Evaluation"
      ]
    }
  ],
  "metadata": {
    "colab": {
      "provenance": []
    },
    "kernelspec": {
      "display_name": "Python 3",
      "name": "python3"
    },
    "language_info": {
      "codemirror_mode": {
        "name": "ipython",
        "version": 3
      },
      "file_extension": ".py",
      "mimetype": "text/x-python",
      "name": "python",
      "nbconvert_exporter": "python",
      "pygments_lexer": "ipython3",
      "version": "3.10.12"
    }
  },
  "nbformat": 4,
  "nbformat_minor": 0
}
