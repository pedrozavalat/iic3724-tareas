{
  "cells": [
    {
      "cell_type": "markdown",
      "metadata": {
        "id": "mSI7an-eehA7"
      },
      "source": [
        "# Tarea 1: Reconocimiento basico\n",
        "Reconocimiento de Patrones (IIC2233)\n",
        "\n",
        "Primer semestre 2024\n",
        "\n",
        "Pedro Pablo Zavala Tejos"
      ]
    },
    {
      "cell_type": "markdown",
      "metadata": {
        "id": "Z7nlXaFDeT1C"
      },
      "source": [
        "# 0. Initial Setup"
      ]
    },
    {
      "cell_type": "code",
      "execution_count": 24,
      "metadata": {
        "id": "eugCfAKEeY1W"
      },
      "outputs": [],
      "source": [
        "import numpy as np\n",
        "import matplotlib.pyplot as plt # Libreria para realizar gráficos\n",
        "import cv2 # Libreria para procesamiento morfológico de imagenes"
      ]
    },
    {
      "cell_type": "markdown",
      "metadata": {
        "id": "ByGX95NGMU-p"
      },
      "source": [
        "# 1. Image Loading\n"
      ]
    },
    {
      "cell_type": "markdown",
      "metadata": {
        "id": "4_Iqjs45NsY8"
      },
      "source": [
        "💬 Cargamos los datos desde dropbox"
      ]
    },
    {
      "cell_type": "code",
      "execution_count": 2,
      "metadata": {
        "id": "lXScNkGGMdHI",
        "outputId": "0c13239b-75b3-49e8-9d69-1ab729d675e0",
        "colab": {
          "base_uri": "https://localhost:8080/"
        }
      },
      "outputs": [
        {
          "output_type": "stream",
          "name": "stdout",
          "text": [
            "--2024-04-02 19:36:31--  https://www.dropbox.com/scl/fi/5n62okx5uosbdtvwyzova/kchipun.zip?rlkey=obnuogv12isstmblsrdmekjkb\n",
            "Resolving www.dropbox.com (www.dropbox.com)... 162.125.6.18, 2620:100:601c:18::a27d:612\n",
            "Connecting to www.dropbox.com (www.dropbox.com)|162.125.6.18|:443... connected.\n",
            "HTTP request sent, awaiting response... 302 Found\n",
            "Location: https://ucf6c31bde9d2631c995d6d1e584.dl.dropboxusercontent.com/cd/0/inline/CQR72P_x-58BiW2UoXtlV2GviUx4f1smTSt0CTV_MOsYcmT100Th_Yo-VhsgWUS1LPNgTsopQ_l5TZajLVl0LkFrFeuUCNJq_E7LkqFJYC5yRsqYQPjew-vKoC0LSSsZAFs/file# [following]\n",
            "--2024-04-02 19:36:31--  https://ucf6c31bde9d2631c995d6d1e584.dl.dropboxusercontent.com/cd/0/inline/CQR72P_x-58BiW2UoXtlV2GviUx4f1smTSt0CTV_MOsYcmT100Th_Yo-VhsgWUS1LPNgTsopQ_l5TZajLVl0LkFrFeuUCNJq_E7LkqFJYC5yRsqYQPjew-vKoC0LSSsZAFs/file\n",
            "Resolving ucf6c31bde9d2631c995d6d1e584.dl.dropboxusercontent.com (ucf6c31bde9d2631c995d6d1e584.dl.dropboxusercontent.com)... 162.125.4.15, 2620:100:6019:15::a27d:40f\n",
            "Connecting to ucf6c31bde9d2631c995d6d1e584.dl.dropboxusercontent.com (ucf6c31bde9d2631c995d6d1e584.dl.dropboxusercontent.com)|162.125.4.15|:443... connected.\n",
            "HTTP request sent, awaiting response... 302 Found\n",
            "Location: /cd/0/inline2/CQQUiOvNjPiAr3z31fs3Vv_ePAbSLD8rAWZf9r8DACze5N5HD-7VQkuOXuPYkphbDIhlaWPPLnlGJlwangS1efnQYbKfkPwVKQ8e3Fn5B-yrY_SJcCas2VZiOSI7D04yxkd7ddlCOGMCH6Yp_qDHt-TRL8pTDFfPXzG7Ey5Lo7lZ3I-tyH8nZyGR4X4-qJBgzaqDdD9IkNjaDPycpgEmnfRJKczHo8SOSL-SlTIZBTiye7OcW6fVgpDhbCJlhjGK-Zp6Ug0KjZ4KoGfSkQHdDEmO8qoOQXMrAQ5igE5f2QpVLCv6XymUI7NluXTaiUCxo71V1P20eavfpC9mZzHx43CY6aCI3hf3bhTDr8AjsP-i7w/file [following]\n",
            "--2024-04-02 19:36:32--  https://ucf6c31bde9d2631c995d6d1e584.dl.dropboxusercontent.com/cd/0/inline2/CQQUiOvNjPiAr3z31fs3Vv_ePAbSLD8rAWZf9r8DACze5N5HD-7VQkuOXuPYkphbDIhlaWPPLnlGJlwangS1efnQYbKfkPwVKQ8e3Fn5B-yrY_SJcCas2VZiOSI7D04yxkd7ddlCOGMCH6Yp_qDHt-TRL8pTDFfPXzG7Ey5Lo7lZ3I-tyH8nZyGR4X4-qJBgzaqDdD9IkNjaDPycpgEmnfRJKczHo8SOSL-SlTIZBTiye7OcW6fVgpDhbCJlhjGK-Zp6Ug0KjZ4KoGfSkQHdDEmO8qoOQXMrAQ5igE5f2QpVLCv6XymUI7NluXTaiUCxo71V1P20eavfpC9mZzHx43CY6aCI3hf3bhTDr8AjsP-i7w/file\n",
            "Reusing existing connection to ucf6c31bde9d2631c995d6d1e584.dl.dropboxusercontent.com:443.\n",
            "HTTP request sent, awaiting response... 200 OK\n",
            "Length: 207772 (203K) [application/zip]\n",
            "Saving to: ‘kchipun.zip?rlkey=obnuogv12isstmblsrdmekjkb’\n",
            "\n",
            "kchipun.zip?rlkey=o 100%[===================>] 202.90K  --.-KB/s    in 0.02s   \n",
            "\n",
            "2024-04-02 19:36:32 (8.56 MB/s) - ‘kchipun.zip?rlkey=obnuogv12isstmblsrdmekjkb’ saved [207772/207772]\n",
            "\n"
          ]
        }
      ],
      "source": [
        "!wget https://www.dropbox.com/scl/fi/5n62okx5uosbdtvwyzova/kchipun.zip?rlkey=obnuogv12isstmblsrdmekjkb&dl=0 # Cargamos los datos"
      ]
    },
    {
      "cell_type": "code",
      "execution_count": 3,
      "metadata": {
        "id": "8IXQImRVkmk7"
      },
      "outputs": [],
      "source": [
        "!mv kchipun.zip?rlkey=obnuogv12isstmblsrdmekjkb kchipun.zip"
      ]
    },
    {
      "cell_type": "code",
      "execution_count": 4,
      "metadata": {
        "id": "Bts6xCaQlcbO"
      },
      "outputs": [],
      "source": [
        "!unzip -qq kchipun.zip # descomprimimos el archivo"
      ]
    },
    {
      "cell_type": "markdown",
      "metadata": {
        "id": "jZ2O7JcHT2vm"
      },
      "source": [
        "💬 Definimos las siguientes funciones para cargar las imagenes."
      ]
    },
    {
      "cell_type": "code",
      "execution_count": 5,
      "metadata": {
        "id": "mDx9uWg0K0KX"
      },
      "outputs": [],
      "source": [
        "\n",
        "def num2fixstr(x: int, d: int) -> str:\n",
        "    \"\"\"\n",
        "    Transforma en un string un numero x en una cantidad de x digitos\n",
        "    \"\"\"\n",
        "    string = '%0*d' % (d, x)\n",
        "    return string\n",
        "\n",
        "def get_image_path(num_class: int, num_img: int, sep='_') -> str:\n",
        "    \"\"\"\n",
        "    Retorna la ruta de la imagen a cargar dada una clase num_class y un\n",
        "    identificador de imagen num_img\n",
        "    \"\"\"\n",
        "    BASE_URL = 'kchipun/img_'\n",
        "    DIGITS_CLASS = 2\n",
        "    DIGITS_IMG = 4\n",
        "    path = f'{BASE_URL}{num2fixstr(num_class, DIGITS_CLASS)}{sep}{num2fixstr(num_img, DIGITS_IMG)}.png'\n",
        "    return path\n",
        "\n",
        "def imageload(num_class: int, num_img: int, echo='off') -> str:\n",
        "    \"\"\"\n",
        "    Carga la imagen utilizando la libreria cv2\n",
        "    \"\"\"\n",
        "    path = get_image_path(num_class, num_img)\n",
        "    if echo == 'on':\n",
        "        print(f'loading image {path} ...')\n",
        "    img = cv2.imread(path, 0)\n",
        "    return img\n",
        "\n",
        "def plot_image(num_class: int, num_img: int, echo='off') -> str:\n",
        "    \"\"\"\n",
        "    Ilustra la imagen con matplotlib\n",
        "    \"\"\"\n",
        "    img = imageload(num_class, num_img, echo='on')\n",
        "    plt.imshow(img, cmap='gray')"
      ]
    },
    {
      "cell_type": "markdown",
      "metadata": {
        "id": "y86K_4mkT2vn"
      },
      "source": [
        "💬 Para hacer una prueba, cargamos una imagen para cada clase"
      ]
    },
    {
      "cell_type": "code",
      "execution_count": 6,
      "metadata": {
        "colab": {
          "base_uri": "https://localhost:8080/",
          "height": 453
        },
        "id": "f_YBHZSWn_oZ",
        "outputId": "0dcf64ec-f979-48cf-ebde-af96ff87a802"
      },
      "outputs": [
        {
          "output_type": "stream",
          "name": "stdout",
          "text": [
            "loading image kchipun/img_01_0001.png ...\n"
          ]
        },
        {
          "output_type": "display_data",
          "data": {
            "text/plain": [
              "<Figure size 640x480 with 1 Axes>"
            ],
            "image/png": "[encoded data removed]"
          },
          "metadata": {}
        }
      ],
      "source": [
        "# Imagen binaria clase papel\n",
        "plot_image(1, 1)"
      ]
    },
    {
      "cell_type": "code",
      "execution_count": 7,
      "metadata": {
        "colab": {
          "base_uri": "https://localhost:8080/",
          "height": 453
        },
        "id": "T8uo3VXzuTMz",
        "outputId": "83262e91-380b-4c96-eef9-4cdcb986c7e1"
      },
      "outputs": [
        {
          "output_type": "stream",
          "name": "stdout",
          "text": [
            "loading image kchipun/img_02_0001.png ...\n"
          ]
        },
        {
          "output_type": "display_data",
          "data": {
            "text/plain": [
              "<Figure size 640x480 with 1 Axes>"
            ],
            "image/png": "[encoded data removed]"
          },
          "metadata": {}
        }
      ],
      "source": [
        "# Imagen binaria clase piedra\n",
        "plot_image(2, 1)"
      ]
    },
    {
      "cell_type": "code",
      "execution_count": 8,
      "metadata": {
        "colab": {
          "base_uri": "https://localhost:8080/",
          "height": 453
        },
        "id": "0RVEYD5OxdDt",
        "outputId": "619dbdbd-c9fc-4082-aef1-6f9ebeafd237"
      },
      "outputs": [
        {
          "output_type": "stream",
          "name": "stdout",
          "text": [
            "loading image kchipun/img_03_0001.png ...\n"
          ]
        },
        {
          "output_type": "display_data",
          "data": {
            "text/plain": [
              "<Figure size 640x480 with 1 Axes>"
            ],
            "image/png": "[encoded data removed]"
          },
          "metadata": {}
        }
      ],
      "source": [
        "# Imagen binaria clase tijera\n",
        "plot_image(3, 1)"
      ]
    },
    {
      "cell_type": "markdown",
      "metadata": {
        "id": "stNwze64kF27"
      },
      "source": [
        "# 2. Feature Extraction"
      ]
    },
    {
      "cell_type": "markdown",
      "metadata": {
        "id": "qn6JguhHT2vp"
      },
      "source": [
        "## Funciones de operaciones morfologicas\n",
        "\n",
        "💬 Las siguientes funciones permiten realizar operaciones morfologicas de una imagen. Estas\n",
        "las utilizaremos para poder manipular la imagen al momento de obtener caracteristicas.\n"
      ]
    },
    {
      "cell_type": "code",
      "execution_count": 9,
      "metadata": {
        "id": "nHnYGwE1LZMF"
      },
      "outputs": [],
      "source": [
        "def erode(img):\n",
        "    \"\"\"\n",
        "    Retorna la imagen con la operacion morfologica de erosión\n",
        "    \"\"\"\n",
        "    return cv2.erode(img, np.ones((5,5), np.uint8), iterations=3)\n",
        "\n",
        "def close(img):\n",
        "    \"\"\"\n",
        "    Retorna la imagen sin hoyos pequeños de la figura\n",
        "    \"\"\"\n",
        "    return cv2.morphologyEx(img, cv2.MORPH_CLOSE, np.ones((5,5), np.uint8))\n",
        "\n",
        "def dilate(img):\n",
        "    \"\"\"\n",
        "    Retorna una imagen con una dilatación de la figura, aumentando sus bordes externos\n",
        "    \"\"\"\n",
        "    return cv2.dilate(img, kernel=np.ones((3,3), np.uint8), iterations = 3)\n",
        "\n",
        "def border(img):\n",
        "    \"\"\"\n",
        "    Retorna el borde de la figura de la imagen. El ancho del borde corresponde a 1 pixel.\n",
        "    \"\"\"\n",
        "    kernel = np.ones((2,2), np.uint8)\n",
        "    img = dilate(img)\n",
        "    border_img = cv2.morphologyEx(img, cv2.MORPH_GRADIENT, kernel)\n",
        "    return border_img\n",
        "\n",
        "def delete_frame(img):\n",
        "    \"\"\"\n",
        "    Las imagenes presentan un marco blanco que alteraba la obtencion de ciertas caracteristicas,\n",
        "    como los puntos mas lejanos o mas cercanos hacia el centro de masa. Por lo tanto, esta funcion\n",
        "    permite eliminar el marco blanco de aproximadamente 1 a 3 pixeles de la imagen.\n",
        "    \"\"\"\n",
        "    return dilate(erode(img))\n",
        "\n",
        "def rotate_and_flip(img):\n",
        "    \"\"\"\n",
        "    Funcion que permite rotar a 90 grados positivamente y realizar una reflexion de la imagen con\n",
        "    respecto al eje x.\n",
        "    \"\"\"\n",
        "    rotate_img = np.rot90(dilate(erode(img)), k=1)\n",
        "    flip_img = np.flip(rotate_img, axis=0)\n",
        "    return flip_img\n"
      ]
    },
    {
      "cell_type": "markdown",
      "metadata": {
        "id": "sc-awBpET2vp"
      },
      "source": [
        "## Funciones _helpers_ para obtener caracteristicas\n",
        "💬 Las siguientes funciones permiten obtener datos especificos de la figura. Estas funciones son\n",
        "utilizadas de ayuda en las funciones (que vienen despues de esta seccion de codigo)\n",
        "que permiten obtener caracteristicas de la figura.\n"
      ]
    },
    {
      "cell_type": "code",
      "execution_count": 10,
      "metadata": {
        "id": "Lbg9uoWFs3dw"
      },
      "outputs": [],
      "source": [
        "def get_region(img):\n",
        "    \"\"\"\n",
        "    Retorna la region blanca de la imagen binaria (solamente pixeles con valores igual a 1)\n",
        "    \"\"\"\n",
        "    return img == 255\n",
        "\n",
        "def get_height_and_width(img):\n",
        "    \"\"\"\n",
        "    Retorna el ancho y altura de la figura (region con pixeles igual a 1)\n",
        "    \"\"\"\n",
        "    region = get_region(img)\n",
        "    region_coords = np.argwhere(region)\n",
        "    region_coords_i = region_coords[:,0] # Coordenadas eje i\n",
        "    region_coords_j = region_coords[:,1] # Coordenadas eje j\n",
        "\n",
        "    width = region_coords_i.max() - region_coords_i.min() + 1 # ancho de la figura\n",
        "    height = region_coords_j.max() - region_coords_j.min() + 1 # altura de la figura\n",
        "\n",
        "    return height, width\n",
        "\n",
        "def center_of_mass(img):\n",
        "    \"\"\"\n",
        "    Retorna el punto de centro de masa de la figura.\n",
        "    \"\"\"\n",
        "    region = get_region(img) # region de la imagen\n",
        "    region_coords = np.argwhere(region) # coordenadas que pertenecen a la region con valor distinto de 0\n",
        "\n",
        "    region_coords_i = region_coords[:,0] # coordenadas i\n",
        "    region_coords_j = region_coords[:,1] # coordenadas j\n",
        "\n",
        "    coords_i_sum = np.sum(region_coords_i) # Suma de las coordenadas en el eje i\n",
        "    coords_j_sum = np.sum(region_coords_j) # suma de las coordenadas en el eje j\n",
        "\n",
        "    area = np.sum(region) # area de la figura\n",
        "\n",
        "    coord_cm_i = coords_i_sum / area # coordenada del eje x del centro de masa\n",
        "    coord_cm_j = coords_j_sum / area # coordenada del eje y del centro de masa\n",
        "\n",
        "    return (coord_cm_i, coord_cm_j)\n",
        "\n",
        "def euclidean_distance(point1, point2):\n",
        "    \"\"\"\n",
        "    Encuentra la distancia euclidiana entre dos puntos en un espacio bi-dimensional.\n",
        "    \"\"\"\n",
        "    return np.sqrt((point1[0] - point2[0])**2 + (point1[1] - point2[1])**2)\n",
        "\n",
        "def extreme_points(img):\n",
        "    \"\"\"\n",
        "    Encuentra los puntos mas extremos de la figura, tanto para\n",
        "    el eje x e y.\n",
        "\n",
        "    \"\"\"\n",
        "    region_coords = np.argwhere(get_region(img)) # coordenadas dentro de la region de la figura\n",
        "\n",
        "    region_axis_i = region_coords[:,0] # coordenadas eje i\n",
        "    region_axis_j = region_coords[:,1] # coordenadas eje j\n",
        "    # punto minimo del eje i (punto mas alto)\n",
        "    top = tuple(region_coords[region_axis_i.argmin()])\n",
        "    # punto maximo del eje i (punto mas bajo)\n",
        "    bottom = tuple(region_coords[region_axis_i.argmax()])\n",
        "    # punto minimo del eje j (punto mas a la izquierda)\n",
        "    left = tuple(region_coords[region_axis_j.argmin()])\n",
        "    # punto maximo del j (punto mas a la derecha)\n",
        "    right = tuple(region_coords[region_axis_j.argmax()])\n",
        "\n",
        "    return top, bottom, left, right\n",
        "\n",
        "def near_points(img):\n",
        "    \"\"\"\n",
        "    Encuentra los puntos en el borde de la figura mas cercanos al centro de masa\n",
        "    \"\"\"\n",
        "    most_near_points = []\n",
        "    region_border = border(img) # borde de la imagen\n",
        "\n",
        "    region_coords = np.argwhere(region_border) # coordenadas de la figura (pixeles con valores 1)\n",
        "    center = center_of_mass(img) # centro de masa de la figura\n",
        "\n",
        "    for point in region_coords:\n",
        "        # para cada punto del borde, calculamos la distancia hasta el centro de masa\n",
        "        distance = euclidean_distance(point, center)\n",
        "        most_near_points.append((tuple(point), distance))\n",
        "    # retornamos los puntos ordenados crecientemente segun la distancia\n",
        "    return sorted(most_near_points, key=lambda x: x[1])\n",
        "\n",
        "def angle_between_fingers(left, center, top):\n",
        "    \"\"\"\n",
        "    Funcion que retorna el angulo entre dos puntos. Utilizada principalmente para medir el angulo\n",
        "    formado entre dos dedos.\n",
        "    l: left, c: center, t: top\n",
        "    lc: left to center, ct: center to top\n",
        "    Para obtener el angulo, utilizamos la formula de angulo entre dos vectores\n",
        "\n",
        "    \"\"\"\n",
        "    lc_vector = np.array(left) - np.array(center) # vector desde el punto 'left' a 'center'\n",
        "    ct_vector = np.array(top) - np.array(center) # vector desde el punto 'center' a 'top'\n",
        "\n",
        "    norm_lc_vector = euclidean_distance(left, center) # norma del vector left-center\n",
        "    norm_ct_vector = euclidean_distance(top, center) # norma del vector center-top\n",
        "\n",
        "    dot_product = np.dot(lc_vector, ct_vector) # producto punto entre dos vectores\n",
        "    norm_product = norm_lc_vector * norm_ct_vector # producto entre normas\n",
        "    cos = dot_product / norm_product # coseno del angulo\n",
        "\n",
        "    angle_rad = np.arccos(cos) # arcoseno del coseno (angulo) (medido en radianes)\n",
        "    angle = np.degrees(angle_rad) # angulo (medido en grados)\n",
        "\n",
        "    return angle\n",
        "\n"
      ]
    },
    {
      "cell_type": "markdown",
      "metadata": {
        "id": "GAo0uJ7qT2vp"
      },
      "source": [
        "## Funciones de características\n",
        "💬 Estas funciones nos permiten extraer directamente alguna caracteristica de la figura (en este\n",
        "caso la mano). Por ejemplo, obtener el grado de redondez, el area de la figura, su simetría,\n",
        "entre otros.\n"
      ]
    },
    {
      "cell_type": "code",
      "execution_count": 11,
      "metadata": {
        "id": "-sK5PcBrLZMF"
      },
      "outputs": [],
      "source": [
        "def get_roundness(img):\n",
        "    \"\"\"\n",
        "    Retorna el grado de redondez de la figura\n",
        "    \"\"\"\n",
        "    region = get_region(img) # region que abarca la figura en la imagen\n",
        "    region_border = border(img) # borde de la figura\n",
        "\n",
        "    perimeter = get_region(region_border).sum() # perimetro de la figura\n",
        "    area = np.sum(region) # area de la figura\n",
        "    # redondez (roundness) de la figura\n",
        "    roundness = (4 * np.pi * area) / perimeter**2\n",
        "\n",
        "    return roundness\n",
        "\n",
        "def get_symmetry(img):\n",
        "    \"\"\"\n",
        "    Funcion que retorna la simetria vertical (con respecto al eje y) y horizontal (con respecto\n",
        "    al eje x) de la figura.\n",
        "    \"\"\"\n",
        "    center = center_of_mass(img)\n",
        "    region = get_region(img)\n",
        "    region_coords = np.argwhere(region)\n",
        "\n",
        "    # dividimos la imagen en dos partes segun la ubicacion de la coordenada del eje x del\n",
        "    # centro de masa (se divide de manera vertical)\n",
        "    half_region_left = np.array([x for x in region_coords if x[0] <= center[0]])\n",
        "    half_region_right = np.array([x for x in region_coords if x[0] > center[0]])\n",
        "    # dividimos la imagen en dos partes segun la ubicacion de la coordenada del eje y del\n",
        "    # centro de masa (se divide de manera horizontal)\n",
        "    half_region_up = np.array([x for x in region_coords if x[1] <= center[1]])\n",
        "    half_region_down = np.array([x for x in region_coords if x[1] > center[1]])\n",
        "\n",
        "    # realizamos una reflexion de una mitad (arbitraria) de la figura con respecto al eje\n",
        "    # x y luego comparamos la cantidad de pixeles con valor 1 en comun\n",
        "    horizontal_intersection = np.isin(\n",
        "        half_region_up, np.flip(half_region_down, axis=0)\n",
        "    )\n",
        "    # Analogamente, realizamos la misma operacion para las regiones divididas segun el eje y\n",
        "    vertical_intersection = np.isin(\n",
        "        half_region_left, np.flip(half_region_right, axis=1)\n",
        "    )\n",
        "    # Obtenemos la simetria horizontal y vertical de la figura. Si esta proporcion\n",
        "    # es mas cercana a 1, entonces la figura debe ser mas simetrica, en otro caso\n",
        "    # presentaria una bajo nivel de simetria.\n",
        "    horizontal_symmetry = (np.sum(horizontal_intersection) * 2) / np.sum(region)\n",
        "\n",
        "    vertical_symmetry = (np.sum(vertical_intersection) * 2) / np.sum(region)\n",
        "\n",
        "    return vertical_symmetry, horizontal_symmetry\n",
        "\n",
        "def get_center_mass_ratio(img, center):\n",
        "    \"\"\"\n",
        "    Funcion que retorna la proporcion de la distancia entre los punos mas lejanos del centro\n",
        "    de masa, y los puntos mas cercanos del centro de masa. Esto nos podria servir en\n",
        "    el caso que verificar si la mano se encuentra mas \"abierta\" o mas \"empuñada\"\n",
        "    \"\"\"\n",
        "    extreme_points_array = np.array([extreme_points(img)]) # arreglo de los puntos extremos\n",
        "    # distancia de los puntos extremos al centro de masa de la figura\n",
        "    d_extreme_points_to_cm = np.array([\n",
        "        euclidean_distance(point, center) for point in extreme_points_array\n",
        "    ])\n",
        "\n",
        "    # distancia de los puntos mas cercanos al centro de masa (considera solamente los primero 100\n",
        "    # puntos)\n",
        "    d_near_points_to_cm = np.array([\n",
        "        distance for point, distance in near_points(img)[:1000:10]\n",
        "    ])\n",
        "\n",
        "    # proporcion entre la media de las distancias para ambos casos (puntos mas lejanos y\n",
        "    # cercanos)\n",
        "    ratio = np.mean(d_near_points_to_cm) / np.mean(d_extreme_points_to_cm)\n",
        "\n",
        "\n",
        "    return np.sum(ratio)\n",
        "\n",
        "def get_finger_ratio(img):\n",
        "    \"\"\"\n",
        "    Funcion que retorna la proporcion de los dedos de las imagenes. Permite evaluar el largo\n",
        "    de los dedos. Esto podria permitir diferenciar entre dedos mas 'estirados' o 'arrugados'.\n",
        "    \"\"\"\n",
        "    top, bottom, left, right = extreme_points(img)\n",
        "    middle = (left[0], top[1]) # punto ubicado justo al comienzo de los dedos\n",
        "    # obtenemos los puntos ubicados solamente en el borde de los dedos (no consideramos el dedo\n",
        "    # pulgar)\n",
        "    finger_points = [\n",
        "        point\n",
        "        for point, _ in near_points(img)[:1000:1] if point[0] < left[0]\n",
        "    ]\n",
        "    # distancia de los puntos de los dedos y eje que corta justo en el comienzo de estos\n",
        "    finger_points_distance = [\n",
        "        euclidean_distance(point, (middle[0], point[1]))\n",
        "        for point in finger_points\n",
        "    ]\n",
        "\n",
        "    # obtenemos la maxima distancia encontrada (dedo mas largo)\n",
        "    max_distance = max(finger_points_distance)\n",
        "    # dividimos entre el promedio de la distancai de los dedos por el mas largo\n",
        "    # para asi poder obtener una distancia 'normalizada'\n",
        "    finger_ratio = np.mean(finger_points_distance) / max_distance\n",
        "\n",
        "    return finger_ratio\n",
        "\n",
        "def get_finger_variance(img):\n",
        "    \"\"\"\n",
        "    Funcion que retorna la varianza del largo de los dedos. Esto permitiría\n",
        "    verificar si los dedos (excepto el pulgar) se encuentras abiertos o cerrados\n",
        "    \"\"\"\n",
        "    top, bottom, left, right = extreme_points(img)\n",
        "    middle = (left[0], top[1])\n",
        "\n",
        "    finger_points = [\n",
        "        point\n",
        "        for point, _ in near_points(img)[:1000:1] if point[0] < left[0]\n",
        "    ]\n",
        "\n",
        "    finger_points_distance = [\n",
        "        euclidean_distance(point, (middle[0], point[1]))\n",
        "        for point in finger_points\n",
        "    ]\n",
        "\n",
        "    fingers_variance = np.var(finger_points_distance)\n",
        "    return fingers_variance\n",
        "\n",
        "def get_angle_ratio(img):\n",
        "    \"\"\"\n",
        "    Proporcion entre el angulo formado por el dedo pulgar y el dedo mas extremo (indice o del medio)\n",
        "    ,y angulo formado entre meñique y el dedo mas extremo.\n",
        "    rmt: Angulo formadov entre los puntos right - middle - top\n",
        "    tml: Angul oformado entre los puntos top - middle - left\n",
        "    \"\"\"\n",
        "    top, bottom, left, right = extreme_points(img)\n",
        "    # nuevamente consideramos el punto middle como el punto donde comienzan los dedos de la figura\n",
        "    middle = (left[0], top[1])\n",
        "\n",
        "    angle_rmt = angle_between_fingers(right, middle, top)\n",
        "    angle_tml = angle_between_fingers(top, middle, left)\n",
        "    # Proporcion entre el angulo right-middle-top y top-middle-left\n",
        "    angle_ratio =  angle_rmt / angle_tml\n",
        "\n",
        "    return angle_ratio"
      ]
    },
    {
      "cell_type": "markdown",
      "metadata": {
        "id": "glLL_pbET2vq"
      },
      "source": [
        "## Funcion de extracción de datos\n",
        "💬 Esta funcion extrae todas las caracteristicas de una imagen y retorna un determinado,\n",
        "con el fin de formar la matriz de caracteristicas, donde relacionamos cada caracteristica con una\n",
        "muestra del set de datos.\n"
      ]
    },
    {
      "cell_type": "code",
      "execution_count": 12,
      "metadata": {
        "id": "qgr2prhntLsi"
      },
      "outputs": [],
      "source": [
        "def get_feature_data(img):\n",
        "    \"\"\"\n",
        "    Retorna un diccionario todas las caracteristicas de una imagen.\n",
        "    \"\"\"\n",
        "    img = delete_frame(img)\n",
        "\n",
        "    vertical_symmetry, horizontal_symmetry = get_symmetry(img)\n",
        "\n",
        "    finger_ratio = get_finger_ratio(img)\n",
        "\n",
        "    finger_variance = get_finger_variance(img)\n",
        "\n",
        "    angle_ratio = get_angle_ratio(img)\n",
        "\n",
        "    roundness = get_roundness(img)\n",
        "\n",
        "    center_of_mass_ratio = get_center_mass_ratio(img, center_of_mass(img))\n",
        "\n",
        "    center_x = center_of_mass(img)[0]\n",
        "\n",
        "    center_y = center_of_mass(img)[1]\n",
        "\n",
        "    feature_data = {\n",
        "        'roundness' : roundness,\n",
        "        'angle_ratio' : angle_ratio,\n",
        "        'center_x' : center_x,\n",
        "        'center_y' : center_y,\n",
        "        'v_symmetry' : vertical_symmetry,\n",
        "        'h_symmetry': horizontal_symmetry,\n",
        "        'finger_ratio' : finger_ratio,\n",
        "        'finger_variance' : finger_variance,\n",
        "        'cm_ratio': center_of_mass_ratio,\n",
        "    }\n",
        "\n",
        "    return feature_data"
      ]
    },
    {
      "cell_type": "markdown",
      "metadata": {
        "id": "bjbNXilWT2vq"
      },
      "source": [
        "## Normalización\n",
        "💬 Ahora, crearemos una matriz de 150 muestras por 10 caracteristicas, es decir, de 150x10,\n",
        "con el objetivo de poder analizar posteriormente cada caracteristica y decidir si es una buena\n",
        "caracteristica para poder discriminar la forma de la mano"
      ]
    },
    {
      "cell_type": "code",
      "execution_count": 13,
      "metadata": {
        "colab": {
          "base_uri": "https://localhost:8080/"
        },
        "id": "nsb0uk4SLZMG",
        "outputId": "88b40c5c-14b7-444a-cd69-ee7182b505b6"
      },
      "outputs": [
        {
          "output_type": "stream",
          "name": "stdout",
          "text": [
            "loading image kchipun/img_01_0001.png ...\n",
            "loading image kchipun/img_01_0002.png ...\n",
            "loading image kchipun/img_01_0003.png ...\n",
            "loading image kchipun/img_01_0004.png ...\n",
            "loading image kchipun/img_01_0005.png ...\n",
            "loading image kchipun/img_01_0006.png ...\n",
            "loading image kchipun/img_01_0007.png ...\n",
            "loading image kchipun/img_01_0008.png ...\n",
            "loading image kchipun/img_01_0009.png ...\n",
            "loading image kchipun/img_01_0010.png ...\n",
            "loading image kchipun/img_01_0011.png ...\n",
            "loading image kchipun/img_01_0012.png ...\n",
            "loading image kchipun/img_01_0013.png ...\n",
            "loading image kchipun/img_01_0014.png ...\n",
            "loading image kchipun/img_01_0015.png ...\n",
            "loading image kchipun/img_01_0016.png ...\n",
            "loading image kchipun/img_01_0017.png ...\n",
            "loading image kchipun/img_01_0018.png ...\n",
            "loading image kchipun/img_01_0019.png ...\n",
            "loading image kchipun/img_01_0020.png ...\n",
            "loading image kchipun/img_01_0021.png ...\n",
            "loading image kchipun/img_01_0022.png ...\n",
            "loading image kchipun/img_01_0023.png ...\n",
            "loading image kchipun/img_01_0024.png ...\n",
            "loading image kchipun/img_01_0025.png ...\n",
            "loading image kchipun/img_01_0026.png ...\n",
            "loading image kchipun/img_01_0027.png ...\n",
            "loading image kchipun/img_01_0028.png ...\n",
            "loading image kchipun/img_01_0029.png ...\n",
            "loading image kchipun/img_01_0030.png ...\n",
            "loading image kchipun/img_01_0031.png ...\n",
            "loading image kchipun/img_01_0032.png ...\n",
            "loading image kchipun/img_01_0033.png ...\n",
            "loading image kchipun/img_01_0034.png ...\n",
            "loading image kchipun/img_01_0035.png ...\n",
            "loading image kchipun/img_01_0036.png ...\n",
            "loading image kchipun/img_01_0037.png ...\n",
            "loading image kchipun/img_01_0038.png ...\n",
            "loading image kchipun/img_01_0039.png ...\n",
            "loading image kchipun/img_01_0040.png ...\n",
            "loading image kchipun/img_01_0041.png ...\n",
            "loading image kchipun/img_01_0042.png ...\n",
            "loading image kchipun/img_01_0043.png ...\n",
            "loading image kchipun/img_01_0044.png ...\n",
            "loading image kchipun/img_01_0045.png ...\n",
            "loading image kchipun/img_01_0046.png ...\n",
            "loading image kchipun/img_01_0047.png ...\n",
            "loading image kchipun/img_01_0048.png ...\n",
            "loading image kchipun/img_01_0049.png ...\n",
            "loading image kchipun/img_01_0050.png ...\n",
            "loading image kchipun/img_02_0001.png ...\n",
            "loading image kchipun/img_02_0002.png ...\n",
            "loading image kchipun/img_02_0003.png ...\n",
            "loading image kchipun/img_02_0004.png ...\n",
            "loading image kchipun/img_02_0005.png ...\n",
            "loading image kchipun/img_02_0006.png ...\n",
            "loading image kchipun/img_02_0007.png ...\n",
            "loading image kchipun/img_02_0008.png ...\n",
            "loading image kchipun/img_02_0009.png ...\n",
            "loading image kchipun/img_02_0010.png ...\n",
            "loading image kchipun/img_02_0011.png ...\n",
            "loading image kchipun/img_02_0012.png ...\n",
            "loading image kchipun/img_02_0013.png ...\n",
            "loading image kchipun/img_02_0014.png ...\n",
            "loading image kchipun/img_02_0015.png ...\n",
            "loading image kchipun/img_02_0016.png ...\n",
            "loading image kchipun/img_02_0017.png ...\n",
            "loading image kchipun/img_02_0018.png ...\n",
            "loading image kchipun/img_02_0019.png ...\n",
            "loading image kchipun/img_02_0020.png ...\n",
            "loading image kchipun/img_02_0021.png ...\n",
            "loading image kchipun/img_02_0022.png ...\n",
            "loading image kchipun/img_02_0023.png ...\n",
            "loading image kchipun/img_02_0024.png ...\n",
            "loading image kchipun/img_02_0025.png ...\n",
            "loading image kchipun/img_02_0026.png ...\n",
            "loading image kchipun/img_02_0027.png ...\n",
            "loading image kchipun/img_02_0028.png ...\n",
            "loading image kchipun/img_02_0029.png ...\n",
            "loading image kchipun/img_02_0030.png ...\n",
            "loading image kchipun/img_02_0031.png ...\n",
            "loading image kchipun/img_02_0032.png ...\n",
            "loading image kchipun/img_02_0033.png ...\n",
            "loading image kchipun/img_02_0034.png ...\n",
            "loading image kchipun/img_02_0035.png ...\n",
            "loading image kchipun/img_02_0036.png ...\n",
            "loading image kchipun/img_02_0037.png ...\n",
            "loading image kchipun/img_02_0038.png ...\n",
            "loading image kchipun/img_02_0039.png ...\n",
            "loading image kchipun/img_02_0040.png ...\n",
            "loading image kchipun/img_02_0041.png ...\n",
            "loading image kchipun/img_02_0042.png ...\n",
            "loading image kchipun/img_02_0043.png ...\n",
            "loading image kchipun/img_02_0044.png ...\n",
            "loading image kchipun/img_02_0045.png ...\n",
            "loading image kchipun/img_02_0046.png ...\n",
            "loading image kchipun/img_02_0047.png ...\n",
            "loading image kchipun/img_02_0048.png ...\n",
            "loading image kchipun/img_02_0049.png ...\n",
            "loading image kchipun/img_02_0050.png ...\n",
            "loading image kchipun/img_03_0001.png ...\n",
            "loading image kchipun/img_03_0002.png ...\n",
            "loading image kchipun/img_03_0003.png ...\n",
            "loading image kchipun/img_03_0004.png ...\n",
            "loading image kchipun/img_03_0005.png ...\n",
            "loading image kchipun/img_03_0006.png ...\n",
            "loading image kchipun/img_03_0007.png ...\n",
            "loading image kchipun/img_03_0008.png ...\n",
            "loading image kchipun/img_03_0009.png ...\n",
            "loading image kchipun/img_03_0010.png ...\n",
            "loading image kchipun/img_03_0011.png ...\n",
            "loading image kchipun/img_03_0012.png ...\n",
            "loading image kchipun/img_03_0013.png ...\n",
            "loading image kchipun/img_03_0014.png ...\n",
            "loading image kchipun/img_03_0015.png ...\n",
            "loading image kchipun/img_03_0016.png ...\n",
            "loading image kchipun/img_03_0017.png ...\n",
            "loading image kchipun/img_03_0018.png ...\n",
            "loading image kchipun/img_03_0019.png ...\n",
            "loading image kchipun/img_03_0020.png ...\n",
            "loading image kchipun/img_03_0021.png ...\n",
            "loading image kchipun/img_03_0022.png ...\n",
            "loading image kchipun/img_03_0023.png ...\n",
            "loading image kchipun/img_03_0024.png ...\n",
            "loading image kchipun/img_03_0025.png ...\n",
            "loading image kchipun/img_03_0026.png ...\n",
            "loading image kchipun/img_03_0027.png ...\n",
            "loading image kchipun/img_03_0028.png ...\n",
            "loading image kchipun/img_03_0029.png ...\n",
            "loading image kchipun/img_03_0030.png ...\n",
            "loading image kchipun/img_03_0031.png ...\n",
            "loading image kchipun/img_03_0032.png ...\n",
            "loading image kchipun/img_03_0033.png ...\n",
            "loading image kchipun/img_03_0034.png ...\n",
            "loading image kchipun/img_03_0035.png ...\n",
            "loading image kchipun/img_03_0036.png ...\n",
            "loading image kchipun/img_03_0037.png ...\n",
            "loading image kchipun/img_03_0038.png ...\n",
            "loading image kchipun/img_03_0039.png ...\n",
            "loading image kchipun/img_03_0040.png ...\n",
            "loading image kchipun/img_03_0041.png ...\n",
            "loading image kchipun/img_03_0042.png ...\n",
            "loading image kchipun/img_03_0043.png ...\n",
            "loading image kchipun/img_03_0044.png ...\n",
            "loading image kchipun/img_03_0045.png ...\n",
            "loading image kchipun/img_03_0046.png ...\n",
            "loading image kchipun/img_03_0047.png ...\n",
            "loading image kchipun/img_03_0048.png ...\n",
            "loading image kchipun/img_03_0049.png ...\n",
            "loading image kchipun/img_03_0050.png ...\n"
          ]
        }
      ],
      "source": [
        "K = 3 # Cantidad de clases\n",
        "N = 50 # Numero de muestras por clases\n",
        "\n",
        "X = np.zeros((N * K, 9)) # Creamos un arreglo de tamaño N * K con las caracteristicas\n",
        "Y = np.zeros((N * K, 1)) # Creamos nuestra variable de respuesta (con las clases)\n",
        "index = 0\n",
        "\n",
        "for k in range(0, K):\n",
        "    for i in range(1, N + 1):\n",
        "        img = imageload(k + 1, i, echo='on')\n",
        "        feature_data = get_feature_data(img)\n",
        "        roundness = feature_data['roundness']\n",
        "        angle_ratio = feature_data['angle_ratio']\n",
        "        center_x = feature_data['center_x']\n",
        "        center_y = feature_data['center_y']\n",
        "        v_symmetry = feature_data['v_symmetry']\n",
        "        h_symmetry = feature_data['h_symmetry']\n",
        "        finger_ratio = feature_data['finger_ratio']\n",
        "        finger_variance = feature_data['finger_variance']\n",
        "        cm_ratio = feature_data['cm_ratio']\n",
        "\n",
        "        X[index][0] = roundness\n",
        "        X[index][1] = angle_ratio\n",
        "        X[index][2] = center_x\n",
        "        X[index][3] = center_y\n",
        "        X[index][4] = v_symmetry\n",
        "        X[index][5] = h_symmetry\n",
        "        X[index][6] = finger_ratio\n",
        "        X[index][7] = finger_variance\n",
        "        X[index][8] = cm_ratio\n",
        "\n",
        "        Y[index] = k + 1\n",
        "\n",
        "        index += 1"
      ]
    },
    {
      "cell_type": "markdown",
      "metadata": {
        "id": "p8vr6wJuT2vq"
      },
      "source": [
        "💬 Verificamos el rango de valores de cada caracteristica, para considerar una normalizacion\n",
        "si es que es necesario.\n"
      ]
    },
    {
      "cell_type": "code",
      "execution_count": 14,
      "metadata": {
        "colab": {
          "base_uri": "https://localhost:8080/"
        },
        "id": "-_yMpzdkT7Cc",
        "outputId": "cefee742-59bf-4dad-966d-f9a31bd6040e"
      },
      "outputs": [
        {
          "output_type": "stream",
          "name": "stdout",
          "text": [
            "\n",
            "Roundness Value\n",
            "    Min: 0.15562663635463947\n",
            "    Max: 0.54815523029565\n",
            "\n",
            "Angle Ratio Values\n",
            "    Min: 0.4576213907301072\n",
            "    Max: 1.7951672353008667\n",
            "\n",
            "Center of mass on x-asis\n",
            "    Min: 135.1565227718069\n",
            "    Max: 167.27284610814021\n",
            "Center of mass on y-asis\n",
            "    Min: 112.29104387656702\n",
            "    Max: 185.45505450646334\n",
            "\n",
            "Vertical Symmetry\n",
            "    Min: 1.0674473595315843\n",
            "    Max: 2.070998876181662\n",
            "\n",
            "Horizontal Symmetry\n",
            "    Min: 1.1902015238909065\n",
            "    Max: 2.076774054674607\n",
            "\n",
            "Fingers Ratio\n",
            "    Min: 0.4331533251782677\n",
            "    Max: 0.6483488132094943\n",
            "\n",
            "Fingers Variance\n",
            "    Min: 16.353448275862068\n",
            "    Max: 1682.2596521262003\n",
            "\n",
            "Center of mass ratio\n",
            "    Min: 0.5711665345407653\n",
            "    Max: 1.0452134688131633\n",
            "\n",
            "\n"
          ]
        }
      ],
      "source": [
        "# Verificaremos los valores de las columnas para ver si debemos normalizar\n",
        "x0_min = np.min(X[:,0]) # roundness\n",
        "x0_max = np.max(X[:,0])\n",
        "\n",
        "x1_min = np.min(X[:,1]) # angle ratio\n",
        "x1_max = np.max(X[:,1])\n",
        "\n",
        "x2_min = np.min(X[:,2]) # coordenada eje x del centro de masa\n",
        "x2_max = np.max(X[:,2])\n",
        "\n",
        "x3_min = np.min(X[:,3]) # coordenada eje y del centro de masa\n",
        "x3_max = np.max(X[:,3])\n",
        "\n",
        "x4_min = np.min(X[:,4]) # simetria vertical\n",
        "x4_max = np.max(X[:,4])\n",
        "\n",
        "x5_min = np.min(X[:,5]) # simetria horizontal\n",
        "x5_max = np.max(X[:,5])\n",
        "\n",
        "x6_min = np.min(X[:,6]) # fingers ratio\n",
        "x6_max = np.max(X[:,6])\n",
        "\n",
        "x7_min = np.min(X[:,7]) # fingers variance\n",
        "x7_max = np.max(X[:,7])\n",
        "\n",
        "x8_min = np.min(X[:,8]) # center of mass ratio\n",
        "x8_max = np.max(X[:,8])\n",
        "\n",
        "\n",
        "print(f\"\"\"\n",
        "Roundness Value\n",
        "    Min: {x0_min}\n",
        "    Max: {x0_max}\\n\n",
        "Angle Ratio Values\n",
        "    Min: {x1_min}\n",
        "    Max: {x1_max}\\n\n",
        "Center of mass on x-asis\n",
        "    Min: {x2_min}\n",
        "    Max: {x2_max}\n",
        "Center of mass on y-asis\n",
        "    Min: {x3_min}\n",
        "    Max: {x3_max}\\n\n",
        "Vertical Symmetry\n",
        "    Min: {x4_min}\n",
        "    Max: {x4_max}\\n\n",
        "Horizontal Symmetry\n",
        "    Min: {x5_min}\n",
        "    Max: {x5_max}\\n\n",
        "Fingers Ratio\n",
        "    Min: {x6_min}\n",
        "    Max: {x6_max}\\n\n",
        "Fingers Variance\n",
        "    Min: {x7_min}\n",
        "    Max: {x7_max}\\n\n",
        "Center of mass ratio\n",
        "    Min: {x8_min}\n",
        "    Max: {x8_max}\\n\n",
        "\"\"\")\n"
      ]
    },
    {
      "cell_type": "code",
      "execution_count": 15,
      "metadata": {
        "id": "AZl3H_J3LZMG"
      },
      "outputs": [],
      "source": [
        "# Normalizamos solos las caracteristicas necesarias, con el fin de dejar todas las caracteristcas\n",
        "# comparables entre si, en un rango de valores entre 0 a 1\n",
        "def minmax(x, x_min, x_max):\n",
        "    return (x - x_min) / (x_max - x_min)\n",
        "\n",
        "X[:,1] = minmax(X[:,1], x1_min, x1_max) # angle ratio\n",
        "X[:,2] = minmax(X[:,2], x2_min, x2_max) # center of mass on x-axis\n",
        "X[:,3] = minmax(X[:,3], x3_min, x3_max) # center of mass on y-axis\n",
        "X[:,4] = minmax(X[:,4], x4_min, x4_max) # vertical symmetry\n",
        "X[:,5] = minmax(X[:,5], x5_min, x5_max) # horizontal symmetry\n",
        "X[:,7] = minmax(X[:,7], x7_min, x7_max) # fingers variance\n",
        "X[:,8] = minmax(X[:,8], x8_min, x8_max) # center of mass ratio"
      ]
    },
    {
      "cell_type": "markdown",
      "metadata": {
        "id": "H4ww4RL5NnBc"
      },
      "source": [
        "# 3. Training and testing subsets"
      ]
    },
    {
      "cell_type": "markdown",
      "metadata": {
        "id": "dgS7wxeCT2vr"
      },
      "source": [
        "💬 Realizamos un entrenamiento de los datos, considerando solo las primeras 40 imagenes de cada clase.\n",
        "El resto (las 10 imagenes de cada clase) se utilizara para poder realizar el testeo de nuestro\n",
        "modelo.\n"
      ]
    },
    {
      "cell_type": "code",
      "execution_count": 16,
      "metadata": {
        "id": "GthWsNgOLZMG"
      },
      "outputs": [],
      "source": [
        "# Datos de entrenamiento de las primeras 40 imagenes de cada clase\n",
        "x0_train = X[0:40] # Paper\n",
        "x1_train = X[50:90] # Rock\n",
        "x2_train = X[100:140] # Scissors\n",
        "\n",
        "# Datos de testeo de las ultimas 10 imagenes de cada clase\n",
        "x0_test = X[40:50] # Paper\n",
        "x1_test = X[90:100] # Rock\n",
        "x2_test = X[140:150] # Scissors\n"
      ]
    },
    {
      "cell_type": "code",
      "execution_count": 17,
      "metadata": {
        "id": "C34rMbumT2vr"
      },
      "outputs": [],
      "source": [
        "titles = [\n",
        "    'Roundness Value',\n",
        "    'Angle Proportion between fingers',\n",
        "    'Center of mass on x-axis',\n",
        "    'Center of mass on y-axis',\n",
        "    'Vertical Symmetry',\n",
        "    'Horizontal Symmetry',\n",
        "    'Fingers Ratio',\n",
        "    'Fingers Variance',\n",
        "    'Center of mass ratio',\n",
        "    ]"
      ]
    },
    {
      "cell_type": "code",
      "execution_count": 83,
      "metadata": {
        "colab": {
          "base_uri": "https://localhost:8080/",
          "height": 1000
        },
        "id": "VwYfnkhCLZMH",
        "outputId": "fe7e987e-593a-4e64-e9d4-9e7a4b5ece2b"
      },
      "outputs": [
        {
          "output_type": "display_data",
          "data": {
            "text/plain": [
              "<Figure size 1500x1200 with 9 Axes>"
            ],
            "image/png": "[encoded data removed]"
          },
          "metadata": {}
        }
      ],
      "source": [
        "# Histograma de análisis de caracteristicas\n",
        "\n",
        "plt.figure(figsize=(15, 12))\n",
        "for i in range(0, 9):\n",
        "    plt.subplot(3, 3, i + 1)\n",
        "    data = [x0_train[:,i],x1_train[:,i], x2_train[:,i]]\n",
        "\n",
        "\n",
        "    hist = plt.hist(data, alpha=0.65, bins=45, density=True,\n",
        "                    edgecolor='gray', histtype='stepfilled')\n",
        "\n",
        "    plt.legend(labels=['paper', 'rock', 'scissors'])\n",
        "    plt.title(titles[i])\n",
        "\n",
        "\n",
        "    x_axis_min = min(np.concatenate(data))\n",
        "    x_axis_max = max(np.concatenate(data))\n",
        "    plt.xticks(np.arange(x_axis_min, x_axis_max, 0.1))\n",
        "    plt.ylabel('')\n",
        "plt.tight_layout()\n",
        "plt.show()"
      ]
    },
    {
      "cell_type": "markdown",
      "metadata": {
        "id": "sDDKOocaT2vr"
      },
      "source": [
        "💬 Dado los graficos anteriores podemos analizar principalmente los siguientes aspectos:\n",
        "1. Los graficos de el area normalizada, centro de masa en el eje x, la redondez de la figura, y\n",
        "la proporcion del angulo entre dedos presentan un grado de interseccion menor en las curvas de densidad\n",
        "de cada clase, en comparacion a las otras caracteristicas.\n",
        "2. Tanto el area normalizada como la redondez son caracteristicas que permiten discriminar la forma\n",
        "de roca con respecto a la forma de tijeras o papel.\n",
        "3. El centro de masa en el eje x discrimina uniformemente cada caracteristica.\n",
        "4. La proporcion del angulo entre dedos permite diferenciar de gran manera la forma de tijeras con\n",
        "respecto a la forma de papel o roca.\n",
        "Estas caracteristicas mencionadas las utilizaremos para testear nuestro modelo y clasificar las imagenes,\n",
        "para asi obtener los mejores resultados posibles.  \n",
        "\n"
      ]
    },
    {
      "cell_type": "code",
      "execution_count": 19,
      "metadata": {
        "id": "RaVk0ufaT2vs"
      },
      "outputs": [],
      "source": [
        "# Solo dejaremos las 4 caracteristicas mencionadas en nuestra matriz X\n",
        "X = np.delete(X, np.arange(3, 9), axis=1)"
      ]
    },
    {
      "cell_type": "markdown",
      "metadata": {
        "id": "XAxruFzQvF8v"
      },
      "source": [
        "# 4. Classification"
      ]
    },
    {
      "cell_type": "markdown",
      "metadata": {
        "id": "t0TsK54PT2vs"
      },
      "source": [
        "Los umbrales los definidos en base al mejor accuracy obtenido. Me base en la idea de\n",
        "ir separando primero una clase de la otra. En el primer lugar, como el centro de masas en el eje x\n",
        "separaba equitativamente ambas clases, tome como decision que todas las imagenes bajo este umbral\n",
        "pueden ser clasificadas como roca o tijera, y sobre este umbral, pueden ser papel o tijera.\n",
        "Luego dentro de la misma clasificacion, utilizamos el grado de redondez. Tenemos dos casos:\n",
        "1. Si la imagen puede ser una roca o tijera, entonces utilizamos la redondez para poder discriminar la figura.\n",
        "    Dado el primer grafico de la seccion 3, si el valor de la caracteristica esta sobre el umbral, entonces se clasifica como roca.\n",
        "    Mientras que, en otro caso, se clasificara como tijera. Pero, a pesar de que existe un grado de error en donde\n",
        "    esta imagen pueda ser tambien clasificada como papel, utilice la caracteristica de la proporcion de angulos entre los dedos.\n",
        "    Esto permite discriminar fuertemente, entre una mano papel, o tijera.\n",
        "2. En este caso, la mano puede clasificarse como papel o tijera. Por lo tanto, utilizamos la proporcion de los\n",
        "dedos para discriminar (basandonos en el segundo grafico, donde las curvas de probabilidad no solapan mucho entre si)."
      ]
    },
    {
      "cell_type": "code",
      "execution_count": 20,
      "metadata": {
        "id": "Nhn39w8Oe6Kj"
      },
      "outputs": [],
      "source": [
        "\n",
        "\n",
        "threshold_1 = 0.715 # Center of mass\n",
        "threshold_2 = 0.3440 # Roundness\n",
        "threshold_3 = 0.8625 # Angle ratio\n",
        "\n",
        "def classifier(x):\n",
        "    center_x_value = x[2]\n",
        "\n",
        "    if center_x_value <= threshold_1: # Could be a rock or scissor\n",
        "        roundness_value = x[0]\n",
        "\n",
        "        if roundness_value <= threshold_2: # could be a scissor (or a paper)\n",
        "            angle_ratio_value = x[1]\n",
        "            if angle_ratio_value <= threshold_3:\n",
        "                return 3 # Is a scissor\n",
        "            else:\n",
        "                return 1 # Is a paper\n",
        "        else: # Is a rock\n",
        "            return 2\n",
        "\n",
        "    else: # Could be a scissor or a paper\n",
        "        angle_ratio_value = x[1]\n",
        "        if angle_ratio_value <= threshold_3:\n",
        "            return 3\n",
        "        else:\n",
        "            return 1\n",
        "\n",
        "\n",
        "Y = np.array([classifier(x) for x in X])\n",
        "\n",
        "Y1_test = Y[40:50]\n",
        "Y2_test = Y[90:100]\n",
        "Y3_test = Y[140:150]\n",
        "\n",
        "Y1_train = Y[0:40]\n",
        "Y2_train = Y[50:90]\n",
        "Y3_train = Y[100:140]"
      ]
    },
    {
      "cell_type": "markdown",
      "metadata": {
        "id": "xTk4aRwH4iWU"
      },
      "source": [
        "# 5. Evaluation"
      ]
    },
    {
      "cell_type": "code",
      "execution_count": 21,
      "metadata": {
        "id": "jp7OKR_ie8d7"
      },
      "outputs": [],
      "source": [
        "\n",
        "def print_accuracy(accuracy, type):\n",
        "    print(f'\\n{type} Accuracy = {accuracy}%')\n",
        "\n",
        "def get_accuracy(Y, type):\n",
        "    true_samples = 0\n",
        "    false_samples = 0\n",
        "\n",
        "    for k in range(3):\n",
        "        true_samples += np.sum(Y[k] == k + 1)\n",
        "        false_samples += np.sum(Y[k] != k + 1)\n",
        "\n",
        "    accuracy = true_samples / (true_samples + false_samples) * 100\n",
        "\n",
        "    print_accuracy(accuracy, type)\n",
        "\n",
        "    return accuracy\n",
        "\n",
        "\n",
        "def total_accuracy(acc_test, acc_train):\n",
        "    return 0.20 * acc_train + 0.8 * acc_test"
      ]
    },
    {
      "cell_type": "code",
      "execution_count": 22,
      "metadata": {
        "colab": {
          "base_uri": "https://localhost:8080/"
        },
        "id": "DB127lKFLZMH",
        "outputId": "fbf90a94-2c39-4c10-bd08-4c6c9362e624"
      },
      "outputs": [
        {
          "output_type": "stream",
          "name": "stdout",
          "text": [
            "\n",
            "Training Accuracy = 91.66666666666666%\n",
            "\n",
            "Testing Accuracy = 83.33333333333334%\n",
            "\n",
            "Total Accuracy = 85.0%\n"
          ]
        }
      ],
      "source": [
        "Y_test = np.array([Y1_test, Y2_test, Y3_test])\n",
        "Y_train = np.array([Y1_train, Y2_train, Y3_train])\n",
        "\n",
        "AccTrain = get_accuracy(Y_train, 'Training')\n",
        "AccTest = get_accuracy(Y_test, 'Testing')\n",
        "AccTot = total_accuracy(AccTest, AccTrain)\n",
        "print_accuracy(AccTot, 'Total')\n"
      ]
    },
    {
      "cell_type": "code",
      "execution_count": 22,
      "metadata": {
        "id": "toAFJTX7bhKF"
      },
      "outputs": [],
      "source": []
    }
  ],
  "metadata": {
    "colab": {
      "provenance": []
    },
    "kernelspec": {
      "display_name": "Python 3",
      "name": "python3"
    },
    "language_info": {
      "codemirror_mode": {
        "name": "ipython",
        "version": 3
      },
      "file_extension": ".py",
      "mimetype": "text/x-python",
      "name": "python",
      "nbconvert_exporter": "python",
      "pygments_lexer": "ipython3",
      "version": "3.10.12"
    }
  },
  "nbformat": 4,
  "nbformat_minor": 0
}