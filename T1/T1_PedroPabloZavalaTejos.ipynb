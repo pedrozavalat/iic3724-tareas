{
  "cells": [
    {
      "cell_type": "markdown",
      "metadata": {
        "id": "mSI7an-eehA7"
      },
      "source": [
        "# Tarea 1: Reconocimiento basico\n",
        "Reconocimiento de Patrones (IIC2233)\n",
        "\n",
        "Primer semestre 2024\n",
        "\n",
        "Pedro Pablo Zavala Tejos"
      ]
    },
    {
      "cell_type": "markdown",
      "metadata": {
        "id": "Z7nlXaFDeT1C"
      },
      "source": [
        "# 0. Initial Setup"
      ]
    },
    {
      "cell_type": "code",
      "execution_count": 2,
      "metadata": {
        "id": "eugCfAKEeY1W"
      },
      "outputs": [],
      "source": [
        "import numpy as np\n",
        "import matplotlib.pyplot as plt # Libreria para realizar gráficos\n",
        "import cv2 # Libreria para procesamiento morfológico de imagenes"
      ]
    },
    {
      "cell_type": "markdown",
      "metadata": {
        "id": "ByGX95NGMU-p"
      },
      "source": [
        "# 1. Image Loading\n"
      ]
    },
    {
      "cell_type": "markdown",
      "metadata": {
        "id": "4_Iqjs45NsY8"
      },
      "source": [
        "Cargamos los datos\n"
      ]
    },
    {
      "cell_type": "code",
      "execution_count": 32,
      "metadata": {
        "colab": {
          "base_uri": "https://localhost:8080/"
        },
        "id": "lXScNkGGMdHI",
        "outputId": "2bddd4e8-53ef-4824-d568-e7aa0e5f2082"
      },
      "outputs": [
        {
          "name": "stdout",
          "output_type": "stream",
          "text": [
            "--2024-03-27 01:45:36--  https://www.dropbox.com/scl/fi/5n62okx5uosbdtvwyzova/kchipun.zip?rlkey=obnuogv12isstmblsrdmekjkb\n",
            "Resolving www.dropbox.com (www.dropbox.com)... 162.125.6.18, 2620:100:6019:18::a27d:412\n",
            "Connecting to www.dropbox.com (www.dropbox.com)|162.125.6.18|:443... connected.\n",
            "HTTP request sent, awaiting response... 302 Found\n",
            "Location: https://uccb57afc60945344265b136e79a.dl.dropboxusercontent.com/cd/0/inline/CP0jkUZHoBH8OM4K-GsfcvmCCFRzVUVy6zcFgnwdaV4GnqC-y1fcOLZoYG82YeaebEMemyafIQJWbhf-DsGnQsDZez4kZwiQytXqmW1CCNSlsPoGrkA0MKDcV-9MKZReBps/file# [following]\n",
            "--2024-03-27 01:45:36--  https://uccb57afc60945344265b136e79a.dl.dropboxusercontent.com/cd/0/inline/CP0jkUZHoBH8OM4K-GsfcvmCCFRzVUVy6zcFgnwdaV4GnqC-y1fcOLZoYG82YeaebEMemyafIQJWbhf-DsGnQsDZez4kZwiQytXqmW1CCNSlsPoGrkA0MKDcV-9MKZReBps/file\n",
            "Resolving uccb57afc60945344265b136e79a.dl.dropboxusercontent.com (uccb57afc60945344265b136e79a.dl.dropboxusercontent.com)... 162.125.4.15, 2620:100:6019:15::a27d:40f\n",
            "Connecting to uccb57afc60945344265b136e79a.dl.dropboxusercontent.com (uccb57afc60945344265b136e79a.dl.dropboxusercontent.com)|162.125.4.15|:443... connected.\n",
            "HTTP request sent, awaiting response... 302 Found\n",
            "Location: /cd/0/inline2/CP2tFmWcEs9RRe5vVusD1Ws0BvjRcOguRfdt8NPXoI6eAlZt8J9ySg3l8ClPVXwSbVodj6TuguEJPLoEbWOXU9diI0c6oP__PZsuPfROXRjTS0xVPdvVNkNzTthBIjUIX_Kx6uvSfXOu664o_sw7y6pGZoph_kusVWQGKt1DbgnG3tZuoOCfLykJ3JY5cGjXgvdHSK7PYpfmvzg-XYeopvFLKnmxwh_2lmWFL7ey2z4MhFUQOrevwPrtoebmOzhc9YjTabxeI4OwT4pqIuZ3Yq8maJb6dco5GjL1GioXYoRD9uuQI373F5A-X-pllyJuLXXK94ufRukGX-DAx8cBXIn8sdxRLgAdqkRuKn4oj-eIPQ/file [following]\n",
            "--2024-03-27 01:45:37--  https://uccb57afc60945344265b136e79a.dl.dropboxusercontent.com/cd/0/inline2/CP2tFmWcEs9RRe5vVusD1Ws0BvjRcOguRfdt8NPXoI6eAlZt8J9ySg3l8ClPVXwSbVodj6TuguEJPLoEbWOXU9diI0c6oP__PZsuPfROXRjTS0xVPdvVNkNzTthBIjUIX_Kx6uvSfXOu664o_sw7y6pGZoph_kusVWQGKt1DbgnG3tZuoOCfLykJ3JY5cGjXgvdHSK7PYpfmvzg-XYeopvFLKnmxwh_2lmWFL7ey2z4MhFUQOrevwPrtoebmOzhc9YjTabxeI4OwT4pqIuZ3Yq8maJb6dco5GjL1GioXYoRD9uuQI373F5A-X-pllyJuLXXK94ufRukGX-DAx8cBXIn8sdxRLgAdqkRuKn4oj-eIPQ/file\n",
            "Reusing existing connection to uccb57afc60945344265b136e79a.dl.dropboxusercontent.com:443.\n",
            "HTTP request sent, awaiting response... 200 OK\n",
            "Length: 207772 (203K) [application/zip]\n",
            "Saving to: ‘kchipun.zip?rlkey=obnuogv12isstmblsrdmekjkb.2’\n",
            "\n",
            "kchipun.zip?rlkey=o 100%[===================>] 202.90K  --.-KB/s    in 0.03s   \n",
            "\n",
            "2024-03-27 01:45:37 (7.69 MB/s) - ‘kchipun.zip?rlkey=obnuogv12isstmblsrdmekjkb.2’ saved [207772/207772]\n",
            "\n"
          ]
        }
      ],
      "source": [
        "!wget https://www.dropbox.com/scl/fi/5n62okx5uosbdtvwyzova/kchipun.zip?rlkey=obnuogv12isstmblsrdmekjkb&dl=0 # Cargamos los datos"
      ]
    },
    {
      "cell_type": "code",
      "execution_count": 33,
      "metadata": {
        "id": "8IXQImRVkmk7"
      },
      "outputs": [],
      "source": [
        "!mv kchipun.zip?rlkey=obnuogv12isstmblsrdmekjkb kchipun.zip"
      ]
    },
    {
      "cell_type": "code",
      "execution_count": 34,
      "metadata": {
        "id": "Bts6xCaQlcbO"
      },
      "outputs": [],
      "source": [
        "!unzip -qq kchipun.zip # descomprimimos el archivo"
      ]
    },
    {
      "cell_type": "code",
      "execution_count": 3,
      "metadata": {
        "id": "mDx9uWg0K0KX"
      },
      "outputs": [],
      "source": [
        "# Funciones para cargar la imagen\n",
        "def num2fixstr(x: int, d: int) -> str:\n",
        "    \"\"\"\n",
        "    Funcion que retorna un numero x de d digitos\n",
        "\n",
        "    \"\"\"\n",
        "    string = '%0*d' % (d, x)\n",
        "    return string\n",
        "\n",
        "def get_image_path(num_class: int, num_img: int, sep='_') -> str:\n",
        "    BASE_URL = 'kchipun/img_'\n",
        "    DIGITS_CLASS = 2\n",
        "    DIGITS_IMG = 4\n",
        "    path = f'{BASE_URL}{num2fixstr(num_class, DIGITS_CLASS)}{sep}{num2fixstr(num_img, DIGITS_IMG)}.png'\n",
        "    return path\n",
        "\n",
        "def imageload(num_class: int, num_img: int, echo='off') -> str:\n",
        "    \"\"\"\n",
        "    Funcion que retorna la ruta de cada imagen\n",
        "    \"\"\"\n",
        "    path = get_image_path(num_class, num_img)\n",
        "    if echo == 'on':\n",
        "      print(f'loading image {path} ...')\n",
        "    img = plt.imread(path)\n",
        "    return img\n",
        "\n",
        "def plot_image(num_class: int, num_img: int, echo='off') -> str:\n",
        "    \"\"\"\n",
        "    Funcion que retorna la imagen num_img de clase num_class\n",
        "    \"\"\"\n",
        "    img = imageload(num_class, num_img, echo='on')\n",
        "    plt.imshow(img, cmap='gray')"
      ]
    },
    {
      "cell_type": "code",
      "execution_count": 4,
      "metadata": {
        "colab": {
          "base_uri": "https://localhost:8080/",
          "height": 453
        },
        "id": "f_YBHZSWn_oZ",
        "outputId": "cdf999c1-84b7-403f-d5a4-95afb6cdb2bc"
      },
      "outputs": [
        {
          "name": "stdout",
          "output_type": "stream",
          "text": [
            "loading image kchipun/img_01_0001.png ...\n"
          ]
        },
        {
          "data": {
            "image/png": "[encoded data removed]",
            "text/plain": [
              "<Figure size 640x480 with 1 Axes>"
            ]
          },
          "metadata": {},
          "output_type": "display_data"
        }
      ],
      "source": [
        "# Veamos el siguiente ejemplo para cargar la primera imagen de cada clase\n",
        "# 01: Papel; 02: Piedra; 03: Tijera\n",
        "\n",
        "# Imagen binaria clase papel\n",
        "plot_image(1, 1)"
      ]
    },
    {
      "cell_type": "code",
      "execution_count": 5,
      "metadata": {
        "colab": {
          "base_uri": "https://localhost:8080/",
          "height": 453
        },
        "id": "T8uo3VXzuTMz",
        "outputId": "5994026e-2e42-4874-b7af-ed78d45ea095"
      },
      "outputs": [
        {
          "name": "stdout",
          "output_type": "stream",
          "text": [
            "loading image kchipun/img_02_0001.png ...\n"
          ]
        },
        {
          "data": {
            "image/png": "[encoded data removed]",
            "text/plain": [
              "<Figure size 640x480 with 1 Axes>"
            ]
          },
          "metadata": {},
          "output_type": "display_data"
        }
      ],
      "source": [
        "# Imagen binaria clase piedra\n",
        "plot_image(2, 1)"
      ]
    },
    {
      "cell_type": "code",
      "execution_count": 6,
      "metadata": {
        "colab": {
          "base_uri": "https://localhost:8080/",
          "height": 453
        },
        "id": "0RVEYD5OxdDt",
        "outputId": "c5a4ceb4-be81-4e09-e9cf-434a1c00f3d7"
      },
      "outputs": [
        {
          "name": "stdout",
          "output_type": "stream",
          "text": [
            "loading image kchipun/img_03_0001.png ...\n"
          ]
        },
        {
          "data": {
            "image/png": "[encoded data removed]",
            "text/plain": [
              "<Figure size 640x480 with 1 Axes>"
            ]
          },
          "metadata": {},
          "output_type": "display_data"
        }
      ],
      "source": [
        "# Imagen binaria clase tijera\n",
        "plot_image(3, 1)"
      ]
    },
    {
      "cell_type": "markdown",
      "metadata": {
        "id": "stNwze64kF27"
      },
      "source": [
        "# 2. Feature Extraction"
      ]
    },
    {
      "cell_type": "code",
      "execution_count": 128,
      "metadata": {
        "id": "RNN55fyWe_bA"
      },
      "outputs": [],
      "source": []
    },
    {
      "cell_type": "markdown",
      "metadata": {
        "id": "H4ww4RL5NnBc"
      },
      "source": [
        "# 3. Training and testing subsets"
      ]
    },
    {
      "cell_type": "code",
      "execution_count": null,
      "metadata": {
        "id": "2Z9rD0eTe3fd"
      },
      "outputs": [],
      "source": []
    },
    {
      "cell_type": "markdown",
      "metadata": {
        "id": "XAxruFzQvF8v"
      },
      "source": [
        "# 4. Classification"
      ]
    },
    {
      "cell_type": "code",
      "execution_count": null,
      "metadata": {
        "id": "Nhn39w8Oe6Kj"
      },
      "outputs": [],
      "source": []
    },
    {
      "cell_type": "markdown",
      "metadata": {
        "id": "xTk4aRwH4iWU"
      },
      "source": [
        "# 5. Evaluation"
      ]
    },
    {
      "cell_type": "code",
      "execution_count": null,
      "metadata": {
        "id": "jp7OKR_ie8d7"
      },
      "outputs": [],
      "source": []
    }
  ],
  "metadata": {
    "colab": {
      "provenance": []
    },
    "kernelspec": {
      "display_name": "Python 3",
      "name": "python3"
    },
    "language_info": {
      "codemirror_mode": {
        "name": "ipython",
        "version": 3
      },
      "file_extension": ".py",
      "mimetype": "text/x-python",
      "name": "python",
      "nbconvert_exporter": "python",
      "pygments_lexer": "ipython3",
      "version": "3.10.12"
    }
  },
  "nbformat": 4,
  "nbformat_minor": 0
}
