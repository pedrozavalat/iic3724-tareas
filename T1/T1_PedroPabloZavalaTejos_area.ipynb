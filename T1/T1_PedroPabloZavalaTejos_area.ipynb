{
  "cells": [
    {
      "cell_type": "markdown",
      "metadata": {
        "id": "mSI7an-eehA7"
      },
      "source": [
        "# Tarea 1: Reconocimiento basico\n",
        "Reconocimiento de Patrones (IIC2233)\n",
        "\n",
        "Primer semestre 2024\n",
        "\n",
        "Pedro Pablo Zavala Tejos"
      ]
    },
    {
      "cell_type": "markdown",
      "metadata": {
        "id": "Z7nlXaFDeT1C"
      },
      "source": [
        "# 0. Initial Setup"
      ]
    },
    {
      "cell_type": "code",
      "execution_count": 154,
      "metadata": {
        "id": "eugCfAKEeY1W"
      },
      "outputs": [],
      "source": [
        "import numpy as np\n",
        "import matplotlib.pyplot as plt # Libreria para realizar gráficos\n",
        "import cv2 # Libreria para procesamiento morfológico de imagenes"
      ]
    },
    {
      "cell_type": "markdown",
      "metadata": {
        "id": "ByGX95NGMU-p"
      },
      "source": [
        "# 1. Image Loading\n"
      ]
    },
    {
      "cell_type": "markdown",
      "metadata": {
        "id": "4_Iqjs45NsY8"
      },
      "source": [
        "Cargamos los datos\n"
      ]
    },
    {
      "cell_type": "code",
      "execution_count": 155,
      "metadata": {
        "colab": {
          "base_uri": "https://localhost:8080/"
        },
        "id": "lXScNkGGMdHI",
        "outputId": "2bddd4e8-53ef-4824-d568-e7aa0e5f2082"
      },
      "outputs": [],
      "source": [
        "!wget https://www.dropbox.com/scl/fi/5n62okx5uosbdtvwyzova/kchipun.zip?rlkey=obnuogv12isstmblsrdmekjkb&dl=0 # Cargamos los datos"
      ]
    },
    {
      "cell_type": "code",
      "execution_count": 156,
      "metadata": {
        "id": "8IXQImRVkmk7"
      },
      "outputs": [
        {
          "name": "stdout",
          "output_type": "stream",
          "text": [
            "zsh:1: no matches found: kchipun.zip?rlkey=obnuogv12isstmblsrdmekjkb\n"
          ]
        }
      ],
      "source": [
        "!mv kchipun.zip?rlkey=obnuogv12isstmblsrdmekjkb kchipun.zip"
      ]
    },
    {
      "cell_type": "code",
      "execution_count": 157,
      "metadata": {
        "id": "Bts6xCaQlcbO"
      },
      "outputs": [
        {
          "name": "stdout",
          "output_type": "stream",
          "text": [
            "unzip:  cannot find or open kchipun.zip, kchipun.zip.zip or kchipun.zip.ZIP.\n"
          ]
        }
      ],
      "source": [
        "!unzip -qq kchipun.zip # descomprimimos el archivo"
      ]
    },
    {
      "cell_type": "code",
      "execution_count": 158,
      "metadata": {
        "id": "mDx9uWg0K0KX"
      },
      "outputs": [],
      "source": [
        "# Funciones para cargar la imagen\n",
        "def num2fixstr(x: int, d: int) -> str:\n",
        "    \"\"\"\n",
        "    Funcion que retorna un numero x de d digitos\n",
        "\n",
        "    \"\"\"\n",
        "    string = '%0*d' % (d, x)\n",
        "    return string\n",
        "\n",
        "def get_image_path(num_class: int, num_img: int, sep='_') -> str:\n",
        "    BASE_URL = 'kchipun/img_'\n",
        "    DIGITS_CLASS = 2\n",
        "    DIGITS_IMG = 4\n",
        "    path = f'{BASE_URL}{num2fixstr(num_class, DIGITS_CLASS)}{sep}{num2fixstr(num_img, DIGITS_IMG)}.png'\n",
        "    return path\n",
        "\n",
        "def imageload(num_class: int, num_img: int, echo='off') -> str:\n",
        "    \"\"\"\n",
        "    Funcion que retorna la ruta de cada imagen\n",
        "    \"\"\"\n",
        "    path = get_image_path(num_class, num_img)\n",
        "    if echo == 'on':\n",
        "      print(f'loading image {path} ...')\n",
        "    img = cv2.imread(path, 0)\n",
        "    return img\n",
        "\n",
        "def plot_image(num_class: int, num_img: int, echo='off') -> str:\n",
        "    \"\"\"\n",
        "    Funcion que retorna la imagen num_img de clase num_class\n",
        "    \"\"\"\n",
        "    img = imageload(num_class, num_img, echo='on')\n",
        "    plt.imshow(img, cmap='gray')"
      ]
    },
    {
      "cell_type": "code",
      "execution_count": 159,
      "metadata": {
        "colab": {
          "base_uri": "https://localhost:8080/",
          "height": 453
        },
        "id": "f_YBHZSWn_oZ",
        "outputId": "cdf999c1-84b7-403f-d5a4-95afb6cdb2bc"
      },
      "outputs": [
        {
          "name": "stdout",
          "output_type": "stream",
          "text": [
            "loading image kchipun/img_01_0001.png ...\n"
          ]
        },
        {
          "data": {
            "image/png": "[encoded data removed]",
            "text/plain": [
              "<Figure size 640x480 with 1 Axes>"
            ]
          },
          "metadata": {},
          "output_type": "display_data"
        }
      ],
      "source": [
        "# Veamos el siguiente ejemplo para cargar la primera imagen de cada clase\n",
        "# 01: Papel; 02: Piedra; 03: Tijera\n",
        "\n",
        "# Imagen binaria clase papel\n",
        "plot_image(1, 1)"
      ]
    },
    {
      "cell_type": "code",
      "execution_count": 160,
      "metadata": {
        "colab": {
          "base_uri": "https://localhost:8080/",
          "height": 453
        },
        "id": "T8uo3VXzuTMz",
        "outputId": "5994026e-2e42-4874-b7af-ed78d45ea095"
      },
      "outputs": [
        {
          "name": "stdout",
          "output_type": "stream",
          "text": [
            "loading image kchipun/img_02_0001.png ...\n"
          ]
        },
        {
          "data": {
            "image/png": "[encoded data removed]",
            "text/plain": [
              "<Figure size 640x480 with 1 Axes>"
            ]
          },
          "metadata": {},
          "output_type": "display_data"
        }
      ],
      "source": [
        "# Imagen binaria clase piedra\n",
        "plot_image(2, 1)"
      ]
    },
    {
      "cell_type": "code",
      "execution_count": 161,
      "metadata": {
        "colab": {
          "base_uri": "https://localhost:8080/",
          "height": 453
        },
        "id": "0RVEYD5OxdDt",
        "outputId": "c5a4ceb4-be81-4e09-e9cf-434a1c00f3d7"
      },
      "outputs": [
        {
          "name": "stdout",
          "output_type": "stream",
          "text": [
            "loading image kchipun/img_03_0001.png ...\n"
          ]
        },
        {
          "data": {
            "image/png": "[encoded data removed]",
            "text/plain": [
              "<Figure size 640x480 with 1 Axes>"
            ]
          },
          "metadata": {},
          "output_type": "display_data"
        }
      ],
      "source": [
        "# Imagen binaria clase tijera\n",
        "plot_image(3, 1)"
      ]
    },
    {
      "cell_type": "markdown",
      "metadata": {
        "id": "stNwze64kF27"
      },
      "source": [
        "# 2. Feature Extraction"
      ]
    },
    {
      "cell_type": "code",
      "execution_count": 165,
      "metadata": {},
      "outputs": [],
      "source": [
        "def erode(img): \n",
        "    return cv2.erode(img, np.ones((5,5), np.uint8), iterations=3)\n",
        "\n",
        "def close(img):\n",
        "    return cv2.morphologyEx(img, cv2.MORPH_CLOSE, np.ones((5,5), np.uint8))\n",
        "\n",
        "def dilate(img):\n",
        "    return cv2.dilate(img, kernel=np.ones((3,3), np.uint8), iterations = 3)\n",
        "\n",
        "def border(img): \n",
        "    kernel = np.ones((2,2), np.uint8)\n",
        "    erode_img = erode(img)\n",
        "    border_img = cv2.morphologyEx(erode_img, cv2.MORPH_GRADIENT, kernel)\n",
        "    border_img = close(border_img)\n",
        "    return border_img\n"
      ]
    },
    {
      "cell_type": "code",
      "execution_count": 176,
      "metadata": {},
      "outputs": [],
      "source": [
        "\n",
        "def center_of_mass(img) -> tuple: \n",
        "    region = (img != 0) # region de la imagen \n",
        "    ij = np.argwhere(region.astype(int)) # coordenadas que pertenecen a la region con valor distinto de 0\n",
        "    ii = ij[:,0] # coordenadas i\n",
        "    jj = ij[:,1] # coordenadas j\n",
        "    i_sum = np.sum(ii) \n",
        "    j_sum = np.sum(jj) \n",
        "    area = np.sum(region) \n",
        "\n",
        "    return (i_sum / area, j_sum / area) \n",
        "\n",
        "def extreme_points(img):\n",
        "    region = np.argwhere((border(img) == 255).astype(int))\n",
        "\n",
        "    # region_axis_i = region[:,0] # axis x\n",
        "    # region_axis_j = region[:,1] # axis y\n",
        "    chull = cv2.convexHull(region)\n",
        "\n",
        "    # find the most extreme points in the convex hull\n",
        "    top    = tuple(chull[chull[:, :, 0].argmin()][0])\n",
        "    bottom = tuple(chull[chull[:, :, 0].argmax()][0])\n",
        "    left   = tuple(chull[chull[:, :, 1].argmin()][0])\n",
        "    right  = tuple(chull[chull[:, :, 1].argmax()][0])\n",
        "    \n",
        "\n",
        "    # top = region[region[:,0].argmax()]\n",
        "    # bottom = region[region[:,0].argmin()]\n",
        "    print(f'top: {top}')\n",
        "    print(f'left: {left}')\n",
        "    print(f'right: {right}')\n",
        "    print(f'bottom: {bottom}')\n",
        "    # bottom = region[np.argmax(region_axis_j)]\n",
        "    # left = region[np.argmin(region_axis_i)]\n",
        "    # right = region[np.argmax(region_axis_i)]\n",
        "    \n",
        "    \n",
        "    return top, bottom, left, right"
      ]
    },
    {
      "cell_type": "code",
      "execution_count": 201,
      "metadata": {},
      "outputs": [
        {
          "name": "stdout",
          "output_type": "stream",
          "text": [
            "top: (77, 138)\n",
            "left: (142, 53)\n",
            "right: (116, 198)\n",
            "bottom: (255, 195)\n"
          ]
        },
        {
          "data": {
            "image/png": "[encoded data removed]",
            "text/plain": [
              "<Figure size 640x480 with 1 Axes>"
            ]
          },
          "metadata": {},
          "output_type": "display_data"
        }
      ],
      "source": [
        "test_image = imageload(2, 10)\n",
        "top, bottom, left, right = extreme_points(dilate(erode(test_image)))\n",
        "\n",
        "\n",
        "plt.plot(*top, 'o', markersize=8, markerfacecolor='red', markeredgecolor='red')\n",
        "plt.plot(*bottom, 'o', markersize=8, markerfacecolor='yellow', markeredgecolor='yellow')\n",
        "plt.plot(*left, 'o', markersize=8, markerfacecolor='green', markeredgecolor='green')\n",
        "plt.plot(*right, 'o', markersize=8, markerfacecolor='blue', markeredgecolor='blue')\n",
        "plt.imshow(np.flip(np.rot90(dilate(erode(test_image)), k=1), axis=0), cmap='gray')\n",
        "plt.show()\n"
      ]
    },
    {
      "cell_type": "code",
      "execution_count": null,
      "metadata": {},
      "outputs": [
        {
          "name": "stdout",
          "output_type": "stream",
          "text": [
            "loading image kchipun/img_01_0001.png ...\n"
          ]
        },
        {
          "ename": "NameError",
          "evalue": "name 'normalized_area' is not defined",
          "output_type": "error",
          "traceback": [
            "\u001b[0;31m---------------------------------------------------------------------------\u001b[0m",
            "\u001b[0;31mNameError\u001b[0m                                 Traceback (most recent call last)",
            "Cell \u001b[0;32mIn[144], line 11\u001b[0m\n\u001b[1;32m      9\u001b[0m \u001b[38;5;28;01mfor\u001b[39;00m i \u001b[38;5;129;01min\u001b[39;00m \u001b[38;5;28mrange\u001b[39m(\u001b[38;5;241m1\u001b[39m, N \u001b[38;5;241m+\u001b[39m \u001b[38;5;241m1\u001b[39m):\n\u001b[1;32m     10\u001b[0m     img \u001b[38;5;241m=\u001b[39m imageload(k, i, echo\u001b[38;5;241m=\u001b[39m\u001b[38;5;124m'\u001b[39m\u001b[38;5;124mon\u001b[39m\u001b[38;5;124m'\u001b[39m)\n\u001b[0;32m---> 11\u001b[0m     X[index] \u001b[38;5;241m=\u001b[39m \u001b[43mnormalized_area\u001b[49m(img)\n\u001b[1;32m     12\u001b[0m     Y[index] \u001b[38;5;241m=\u001b[39m K\n\u001b[1;32m     14\u001b[0m     index \u001b[38;5;241m+\u001b[39m\u001b[38;5;241m=\u001b[39m \u001b[38;5;241m1\u001b[39m\n",
            "\u001b[0;31mNameError\u001b[0m: name 'normalized_area' is not defined"
          ]
        }
      ],
      "source": [
        "K = 3 # Cantidad de clases\n",
        "N = 50 # Numero de muestras por clases\n",
        "\n",
        "X = np.zeros((N * K, )) # Creamos un arreglo de tamaño N * K con las caracteristicas\n",
        "Y = np.zeros((N * K, )) # Creamos nuestra variable de respuesta (con las clases)\n",
        "index = 0\n",
        "\n",
        "for k in range(1, K + 1):\n",
        "    for i in range(1, N + 1):\n",
        "        img = imageload(k, i, echo='on')\n",
        "        X[index] = normalized_area(img)\n",
        "        Y[index] = K\n",
        "\n",
        "        index += 1"
      ]
    },
    {
      "cell_type": "markdown",
      "metadata": {
        "id": "H4ww4RL5NnBc"
      },
      "source": [
        "# 3. Training and testing subsets"
      ]
    },
    {
      "cell_type": "code",
      "execution_count": null,
      "metadata": {},
      "outputs": [
        {
          "name": "stdout",
          "output_type": "stream",
          "text": [
            "Statistics\n",
            "Class 0 (paper):\n",
            ">>>> min  = 0.2021331787109375\n",
            ">>>> mean = 0.3082164764404297\n",
            ">>>> max  = 0.337371826171875\n",
            " \n",
            "Class 1 (scissors):\n",
            ">>>> min  = 0.2660369873046875\n",
            ">>>> mean = 0.3011749267578125\n",
            ">>>> max  = 0.3375244140625\n",
            "Class 2 (rock):\n",
            ">>>> min  = 0.1874237060546875\n",
            ">>>> mean = 0.3028839111328125\n",
            ">>>> max  = 0.33758544921875\n"
          ]
        }
      ],
      "source": [
        "# Datos de entrenamiento de las primeras 40 imagenes de cada clase\n",
        "x0_train = X[0:40]\n",
        "x1_train = X[50:90]\n",
        "x2_train = X[100:140]\n",
        "\n",
        "# Datos de testeo de las ultimas 10 imagenes de cada clase\n",
        "x0_test = X[40:50]\n",
        "x1_test = X[90:100]\n",
        "x2_test = X[140:150]\n",
        "\n",
        "# Estadisticas de cada clase\n",
        "# Maximo de cada clase\n",
        "x0_max = np.max(x0_train)\n",
        "x1_max = np.max(x1_train)\n",
        "x2_max = np.max(x2_train)\n",
        "# Minimo de cada clase\n",
        "x0_min = np.min(x0_train)\n",
        "x1_min = np.min(x1_train)\n",
        "x2_min = np.min(x2_train)\n",
        "# Promedio de cada clase\n",
        "x0_mean = np.mean(x0_train)\n",
        "x1_mean = np.mean(x1_train)\n",
        "x2_mean = np.mean(x2_train)\n",
        "\n",
        "\n",
        "print('Statistics')\n",
        "\n",
        "print('Class 0 (paper):')\n",
        "print('>>>> min  = '+str(x0_min))\n",
        "print('>>>> mean = '+str(x0_mean))\n",
        "print('>>>> max  = '+str(x0_max))\n",
        "print(' ')\n",
        "\n",
        "print('Class 1 (scissors):')\n",
        "print('>>>> min  = '+str(x1_min))\n",
        "print('>>>> mean = '+str(x1_mean))\n",
        "print('>>>> max  = '+str(x1_max))\n",
        "\n",
        "print('Class 2 (rock):')\n",
        "print('>>>> min  = '+str(x2_min))\n",
        "print('>>>> mean = '+str(x2_mean))\n",
        "print('>>>> max  = '+str(x2_max))\n"
      ]
    },
    {
      "cell_type": "code",
      "execution_count": null,
      "metadata": {},
      "outputs": [
        {
          "data": {
            "image/png": "[encoded data removed]",
            "text/plain": [
              "<Figure size 640x480 with 1 Axes>"
            ]
          },
          "metadata": {},
          "output_type": "display_data"
        }
      ],
      "source": [
        "# Histograma de análisis de caracteristicas \n",
        "plt.hist([x0_train, x1_train, x2_train], bins=25, label=['paper', 'scissors', 'rock'], alpha=0.6, histtype='bar', ec='black')\n",
        "plt.show()"
      ]
    },
    {
      "cell_type": "markdown",
      "metadata": {
        "id": "XAxruFzQvF8v"
      },
      "source": [
        "# 4. Classification"
      ]
    },
    {
      "cell_type": "code",
      "execution_count": null,
      "metadata": {
        "id": "Nhn39w8Oe6Kj"
      },
      "outputs": [],
      "source": [
        "threshold_1 = (x0_mean + x1_mean) / 2\n",
        "threshold_2 = (x1_mean + x2_mean) / 2\n",
        "\n",
        "def classifier(x):\n",
        "    if x < threshold_1:\n",
        "        return 1\n",
        "    elif threshold_1 <= x < threshold_2:\n",
        "        return 2\n",
        "    else:\n",
        "        return 3\n",
        "    \n",
        "Y = np.array([classifier(x) for x in X])\n",
        "\n",
        "Y0_train = Y[0:40]\n",
        "Y1_train = Y[50:90]\n",
        "Y2_train = Y[100:140]\n",
        "\n",
        "Y0_test = Y[40:50]\n",
        "Y1_test = Y[90:100]\n",
        "Y2_test = Y[140:150]"
      ]
    },
    {
      "cell_type": "markdown",
      "metadata": {
        "id": "xTk4aRwH4iWU"
      },
      "source": [
        "# 5. Evaluation"
      ]
    },
    {
      "cell_type": "code",
      "execution_count": null,
      "metadata": {
        "id": "jp7OKR_ie8d7"
      },
      "outputs": [],
      "source": [
        "def evaluation(Y):\n",
        "    confusion_matrix = np.zeros((3, 3))\n",
        "    \n",
        "    total_true_samples = 0\n",
        "    total_samples = 0\n",
        "\n",
        "    for i in range(0, K):\n",
        "        true_sample  = np.sum(Y[i] == i + 1)\n",
        "        false_sample = np.sum(Y[i] != i + 1)\n",
        "\n",
        "        confusion_matrix[i, i] = true_sample # celdas en la diagonal\n",
        "        confusion_matrix[i, (i + 1) % K] = false_sample # celdas no en la diagonal\n",
        "\n",
        "        total_true_samples += true_sample\n",
        "        total_samples += (true_sample + false_sample)\n",
        "\n",
        "    accuracy = round(total_true_samples * 100 / total_samples, 3)\n",
        "\n",
        "    return confusion_matrix, accuracy\n",
        "\n",
        "def print_results(confusion_matrix, accuracy, type):\n",
        "\n",
        "    print('Testing Confusion Matrix:')\n",
        "    print(confusion_matrix[0,:])\n",
        "    print(confusion_matrix[1,:])\n",
        "    print(confusion_matrix[2,:])\n",
        "\n",
        "    \n",
        "    print(f'\\n{type} Accuracy = {accuracy}%')\n",
        "\n",
        "def total_accuracy(acc_test, acc_train):\n",
        "    return 0.20 * acc_train + 0.8 * acc_test"
      ]
    },
    {
      "cell_type": "code",
      "execution_count": null,
      "metadata": {},
      "outputs": [
        {
          "name": "stdout",
          "output_type": "stream",
          "text": [
            "Testing Confusion Matrix:\n",
            "[2. 8. 0.]\n",
            "[ 0.  0. 10.]\n",
            "[2. 0. 8.]\n",
            "\n",
            "Testing Accuracy = 33.333%\n"
          ]
        }
      ],
      "source": [
        "\n",
        "Y_test = [Y0_test, Y1_test, Y2_test]\n",
        "confusion_matrix, AccTest = evaluation(Y_test)\n",
        "print_results(confusion_matrix, AccTest, type='Testing')"
      ]
    },
    {
      "cell_type": "code",
      "execution_count": null,
      "metadata": {},
      "outputs": [
        {
          "name": "stdout",
          "output_type": "stream",
          "text": [
            "Testing Confusion Matrix:\n",
            "[10. 30.  0.]\n",
            "[ 0.  0. 40.]\n",
            "[16.  0. 24.]\n",
            "\n",
            "Training Accuracy = 28.333%\n"
          ]
        }
      ],
      "source": [
        "Y_train = [Y0_train, Y1_train, Y2_train]\n",
        "confusion_matrix_2, AccTrain = evaluation(Y_train)\n",
        "print_results(confusion_matrix_2, AccTrain, type='Training')"
      ]
    },
    {
      "cell_type": "code",
      "execution_count": null,
      "metadata": {},
      "outputs": [
        {
          "name": "stdout",
          "output_type": "stream",
          "text": [
            "Total Accuracy = 32.333\n"
          ]
        }
      ],
      "source": [
        "AccTot = total_accuracy(AccTest, AccTrain)\n",
        "print(f'Total Accuracy = {AccTot}')"
      ]
    },
    {
      "cell_type": "code",
      "execution_count": null,
      "metadata": {},
      "outputs": [],
      "source": []
    }
  ],
  "metadata": {
    "colab": {
      "provenance": []
    },
    "kernelspec": {
      "display_name": "Python 3",
      "name": "python3"
    },
    "language_info": {
      "codemirror_mode": {
        "name": "ipython",
        "version": 3
      },
      "file_extension": ".py",
      "mimetype": "text/x-python",
      "name": "python",
      "nbconvert_exporter": "python",
      "pygments_lexer": "ipython3",
      "version": "3.10.12"
    }
  },
  "nbformat": 4,
  "nbformat_minor": 0
}
