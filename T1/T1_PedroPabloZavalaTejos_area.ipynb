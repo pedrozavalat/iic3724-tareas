{
  "cells": [
    {
      "cell_type": "markdown",
      "metadata": {
        "id": "mSI7an-eehA7"
      },
      "source": [
        "# Tarea 1: Reconocimiento basico\n",
        "Reconocimiento de Patrones (IIC2233)\n",
        "\n",
        "Primer semestre 2024\n",
        "\n",
        "Pedro Pablo Zavala Tejos"
      ]
    },
    {
      "cell_type": "markdown",
      "metadata": {
        "id": "Z7nlXaFDeT1C"
      },
      "source": [
        "# 0. Initial Setup"
      ]
    },
    {
      "cell_type": "code",
      "execution_count": 1804,
      "metadata": {
        "id": "eugCfAKEeY1W"
      },
      "outputs": [],
      "source": [
        "import numpy as np\n",
        "import matplotlib.pyplot as plt # Libreria para realizar gráficos\n",
        "import cv2 # Libreria para procesamiento morfológico de imagenes"
      ]
    },
    {
      "cell_type": "markdown",
      "metadata": {
        "id": "ByGX95NGMU-p"
      },
      "source": [
        "# 1. Image Loading\n"
      ]
    },
    {
      "cell_type": "markdown",
      "metadata": {
        "id": "4_Iqjs45NsY8"
      },
      "source": [
        "Cargamos los datos\n"
      ]
    },
    {
      "cell_type": "code",
      "execution_count": 1805,
      "metadata": {
        "colab": {
          "base_uri": "https://localhost:8080/"
        },
        "id": "lXScNkGGMdHI",
        "outputId": "2bddd4e8-53ef-4824-d568-e7aa0e5f2082"
      },
      "outputs": [],
      "source": [
        "!wget https://www.dropbox.com/scl/fi/5n62okx5uosbdtvwyzova/kchipun.zip?rlkey=obnuogv12isstmblsrdmekjkb&dl=0 # Cargamos los datos"
      ]
    },
    {
      "cell_type": "code",
      "execution_count": 1806,
      "metadata": {
        "id": "8IXQImRVkmk7"
      },
      "outputs": [
        {
          "name": "stdout",
          "output_type": "stream",
          "text": [
            "zsh:1: no matches found: kchipun.zip?rlkey=obnuogv12isstmblsrdmekjkb\n"
          ]
        }
      ],
      "source": [
        "!mv kchipun.zip?rlkey=obnuogv12isstmblsrdmekjkb kchipun.zip"
      ]
    },
    {
      "cell_type": "code",
      "execution_count": 1807,
      "metadata": {
        "id": "Bts6xCaQlcbO"
      },
      "outputs": [
        {
          "name": "stdout",
          "output_type": "stream",
          "text": [
            "unzip:  cannot find or open kchipun.zip, kchipun.zip.zip or kchipun.zip.ZIP.\n"
          ]
        }
      ],
      "source": [
        "!unzip -qq kchipun.zip # descomprimimos el archivo"
      ]
    },
    {
      "cell_type": "code",
      "execution_count": 1808,
      "metadata": {
        "id": "mDx9uWg0K0KX"
      },
      "outputs": [],
      "source": [
        "# Funciones para cargar la imagen\n",
        "def num2fixstr(x: int, d: int) -> str:\n",
        "    \"\"\"\n",
        "    Funcion que retorna un numero x de d digitos\n",
        "\n",
        "    \"\"\"\n",
        "    string = '%0*d' % (d, x)\n",
        "    return string\n",
        "\n",
        "def get_image_path(num_class: int, num_img: int, sep='_') -> str:\n",
        "    BASE_URL = 'kchipun/img_'\n",
        "    DIGITS_CLASS = 2\n",
        "    DIGITS_IMG = 4\n",
        "    path = f'{BASE_URL}{num2fixstr(num_class, DIGITS_CLASS)}{sep}{num2fixstr(num_img, DIGITS_IMG)}.png'\n",
        "    return path\n",
        "\n",
        "def imageload(num_class: int, num_img: int, echo='off') -> str:\n",
        "    \"\"\"\n",
        "    Funcion que retorna la ruta de cada imagen\n",
        "    \"\"\"\n",
        "    path = get_image_path(num_class, num_img)\n",
        "    if echo == 'on':\n",
        "      print(f'loading image {path} ...')\n",
        "    img = cv2.imread(path, 0)\n",
        "    return img\n",
        "\n",
        "def plot_image(num_class: int, num_img: int, echo='off') -> str:\n",
        "    \"\"\"\n",
        "    Funcion que retorna la imagen num_img de clase num_class\n",
        "    \"\"\"\n",
        "    img = imageload(num_class, num_img, echo='on')\n",
        "    plt.imshow(img, cmap='gray')"
      ]
    },
    {
      "cell_type": "code",
      "execution_count": 1809,
      "metadata": {
        "colab": {
          "base_uri": "https://localhost:8080/",
          "height": 453
        },
        "id": "f_YBHZSWn_oZ",
        "outputId": "cdf999c1-84b7-403f-d5a4-95afb6cdb2bc"
      },
      "outputs": [
        {
          "name": "stdout",
          "output_type": "stream",
          "text": [
            "loading image kchipun/img_01_0001.png ...\n"
          ]
        },
        {
          "data": {
            "image/png": "[encoded data removed]",
            "text/plain": [
              "<Figure size 640x480 with 1 Axes>"
            ]
          },
          "metadata": {},
          "output_type": "display_data"
        }
      ],
      "source": [
        "# Veamos el siguiente ejemplo para cargar la primera imagen de cada clase\n",
        "# 01: Papel; 02: Piedra; 03: Tijera\n",
        "\n",
        "# Imagen binaria clase papel\n",
        "plot_image(1, 1)"
      ]
    },
    {
      "cell_type": "code",
      "execution_count": 1810,
      "metadata": {
        "colab": {
          "base_uri": "https://localhost:8080/",
          "height": 453
        },
        "id": "T8uo3VXzuTMz",
        "outputId": "5994026e-2e42-4874-b7af-ed78d45ea095"
      },
      "outputs": [
        {
          "name": "stdout",
          "output_type": "stream",
          "text": [
            "loading image kchipun/img_02_0001.png ...\n"
          ]
        },
        {
          "data": {
            "image/png": "[encoded data removed]",
            "text/plain": [
              "<Figure size 640x480 with 1 Axes>"
            ]
          },
          "metadata": {},
          "output_type": "display_data"
        }
      ],
      "source": [
        "# Imagen binaria clase piedra\n",
        "plot_image(2, 1)"
      ]
    },
    {
      "cell_type": "code",
      "execution_count": 1811,
      "metadata": {
        "colab": {
          "base_uri": "https://localhost:8080/",
          "height": 453
        },
        "id": "0RVEYD5OxdDt",
        "outputId": "c5a4ceb4-be81-4e09-e9cf-434a1c00f3d7"
      },
      "outputs": [
        {
          "name": "stdout",
          "output_type": "stream",
          "text": [
            "loading image kchipun/img_03_0001.png ...\n"
          ]
        },
        {
          "data": {
            "image/png": "[encoded data removed]",
            "text/plain": [
              "<Figure size 640x480 with 1 Axes>"
            ]
          },
          "metadata": {},
          "output_type": "display_data"
        }
      ],
      "source": [
        "# Imagen binaria clase tijera\n",
        "plot_image(3, 1)"
      ]
    },
    {
      "cell_type": "markdown",
      "metadata": {
        "id": "stNwze64kF27"
      },
      "source": [
        "# 2. Feature Extraction"
      ]
    },
    {
      "cell_type": "code",
      "execution_count": 1812,
      "metadata": {},
      "outputs": [],
      "source": [
        "def erode(img): \n",
        "    return cv2.erode(img, np.ones((5,5), np.uint8), iterations=3)\n",
        "\n",
        "def close(img):\n",
        "    return cv2.morphologyEx(img, cv2.MORPH_CLOSE, np.ones((5,5), np.uint8))\n",
        "\n",
        "def dilate(img):\n",
        "    return cv2.dilate(img, kernel=np.ones((3,3), np.uint8), iterations = 3)\n",
        "\n",
        "def border(img): \n",
        "    kernel = np.ones((2,2), np.uint8)\n",
        "    img = dilate(img)\n",
        "    # erode_img = erode(img)\n",
        "    border_img = cv2.morphologyEx(img, cv2.MORPH_GRADIENT, kernel)\n",
        "    # border_img = close(border_img)\n",
        "    return border_img\n",
        "\n",
        "def delete_frame(img):\n",
        "    return dilate(erode(img))\n",
        "\n",
        "def rotate_and_flip(img):\n",
        "    rotate_img = np.rot90(dilate(erode(img)), k=1)\n",
        "    flip_img = np.flip(rotate_img, axis=0)\n",
        "    return flip_img\n"
      ]
    },
    {
      "cell_type": "code",
      "execution_count": 1813,
      "metadata": {},
      "outputs": [],
      "source": [
        "def get_region(img):\n",
        "    return img == 255\n",
        "\n",
        "def center_of_mass(img) -> tuple: \n",
        "    region = get_region(img) # region de la imagen \n",
        "    region_coords = np.argwhere(region) # coordenadas que pertenecen a la region con valor distinto de 0\n",
        "\n",
        "    region_coords_i = region_coords[:,0] # coordenadas i\n",
        "    region_coords_j = region_coords[:,1] # coordenadas j\n",
        "    \n",
        "    coords_i_sum = np.sum(region_coords_i) \n",
        "    coords_j_sum = np.sum(region_coords_j) \n",
        "    area = np.sum(region) \n",
        "\n",
        "    return (coords_i_sum / area, coords_j_sum / area) \n",
        "\n",
        "def extreme_points(img) -> tuple:\n",
        "    region_coords = np.argwhere(get_region(img))\n",
        "\n",
        "    region_axis_j = region_coords[:,0]\n",
        "    region_axis_i = region_coords[:,1]\n",
        "\n",
        "    top = tuple(region_coords[region_axis_i.argmin()])\n",
        "    bottom = tuple(region_coords[region_axis_i.argmax()])\n",
        "    left = tuple(region_coords[region_axis_j.argmin()])\n",
        "    right = tuple(region_coords[region_axis_j.argmax()])\n",
        "    \n",
        "    return top, bottom, left, right\n",
        "\n",
        "def distance_between_extreme_points(*points):\n",
        "    distances = np.array([])\n",
        "\n",
        "    for i in range(len(points)):\n",
        "        if i == len(points) - 1:\n",
        "            distance_between = euclidean_distance(points[i], points[0])\n",
        "        else:\n",
        "            distance_between = euclidean_distance(points[i], points[i+1])\n",
        "        \n",
        "        distances = np.append(distances, distance_between)\n",
        "    \n",
        "    return distances\n",
        "\n",
        "def mean_distance_to_cm(*points, center):\n",
        "    distances = np.array([])\n",
        "    for point in points:\n",
        "        distance = euclidean_distance(point, center)\n",
        "        distances = np.append(distances, distance)\n",
        "    return np.mean(distances)\n",
        "\n",
        "def roundness(img):\n",
        "    region = get_region(img)\n",
        "    region_border = border(img)\n",
        "\n",
        "    perimeter = get_region(region_border).sum()\n",
        "    area = np.sum(region)\n",
        "    \n",
        "    roundness = (4 * np.pi * area) / perimeter**2\n",
        "    return roundness\n",
        "\n",
        "def normalized_area(img):  \n",
        "    region = get_region(img)\n",
        "    region_coords = np.argwhere(region)\n",
        "    region_coords_i = region_coords[:,0]\n",
        "    region_coords_j = region_coords[:,1]\n",
        "\n",
        "    width = region_coords_i.max() - region_coords_i.min() + 1\n",
        "    height = region_coords_j.max() - region_coords_j.min() + 1\n",
        "    area = np.sum(region)\n",
        "\n",
        "    return area / (width * height)\n",
        "\n",
        "\n",
        "\n",
        "def euclidean_distance(point1, point2):\n",
        "    return np.sqrt((point1[0] - point2[0])**2 + (point1[1] - point2[1])**2)\n",
        "\n",
        "\n",
        "def normalize_distance(distances):\n",
        "    return distances  / np.max(distances)\n",
        "\n",
        "def get_symmetry(points_distances):\n",
        "    d_top_bottom = points_distances[0] + points_distances[2] # distance from top to bottom\n",
        "    d_left_right = points_distances[1] + points_distances[3] # distance from left to right\n",
        "\n",
        "    # prop_left_side = points_distances[0] / points_distances[1] # top to left and left to bottom \n",
        "    # prop_right_side = points_distances[3] / points_distances[2] # bottom to right and right to top\n",
        "    symmetry = abs(d_top_bottom) / abs(d_left_right)\n",
        "    return symmetry\n",
        "\n",
        "def get_feature_data(img):\n",
        "    img = delete_frame(img)\n",
        "    top, bottom, left, right = extreme_points(img)\n",
        "    distances = distance_between_extreme_points(top, bottom, left, right)\n",
        "    center = center_of_mass(img)\n",
        "    distance_to_cm = mean_distance_to_cm(top, bottom, left, right, center=center)\n",
        "    symmetry = get_symmetry(distances)\n",
        "    roundness_value = roundness(img)\n",
        "    normalized_area_value = normalized_area(img)\n",
        "    # figure_expression = (symmetry**2 + normalized_area_value) / (roundness_value * distance_to_cm)\n",
        "    k = 3\n",
        "    figure_expression = (symmetry**k * distance_to_cm) / (normalized_area_value - roundness_value)\n",
        "\n",
        "    return figure_expression"
      ]
    },
    {
      "cell_type": "code",
      "execution_count": 1814,
      "metadata": {},
      "outputs": [
        {
          "name": "stdout",
          "output_type": "stream",
          "text": [
            "[131.71180661 228.63289352  69.11584478 153.00326794]\n",
            "545.575542739901\n"
          ]
        },
        {
          "data": {
            "image/png": "[encoded data removed]",
            "text/plain": [
              "<Figure size 640x480 with 1 Axes>"
            ]
          },
          "metadata": {},
          "output_type": "display_data"
        }
      ],
      "source": [
        "\n",
        "test_image = imageload(1, 10)\n",
        "processed_image = delete_frame(test_image)\n",
        "top, bottom, left, right = extreme_points(processed_image)\n",
        "center = center_of_mass(processed_image)\n",
        "distances = distance_between_extreme_points(top, left, bottom, right)\n",
        "print(distances)\n",
        "# sum_distances = get_sum_extreme_points(distances)\n",
        "expression = get_feature_data(test_image)\n",
        "print(expression)\n",
        "\n",
        "\n",
        "plt.plot(*center, 'ro', markersize=10)\n",
        "plt.plot([top[0], right[0]], [top[1], right[1]], 'go', linestyle='-', linewidth=3, markersize=10)\n",
        "plt.plot([top[0], left[0]], [top[1], left[1]], 'go', linestyle='-', linewidth=3, markersize=10)\n",
        "plt.plot([bottom[0], left[0]], [bottom[1], left[1]], 'go', linestyle='-', linewidth=3, markersize=10)\n",
        "plt.plot([bottom[0], right[0]], [bottom[1], right[1]], 'go', linestyle='-', linewidth=3, markersize=10)\n",
        "\n",
        "plt.imshow(rotate_and_flip(test_image), cmap='gray')\n",
        "plt.show()\n"
      ]
    },
    {
      "cell_type": "code",
      "execution_count": 1815,
      "metadata": {},
      "outputs": [
        {
          "name": "stdout",
          "output_type": "stream",
          "text": [
            "loading image kchipun/img_01_0001.png ...\n",
            "loading image kchipun/img_01_0002.png ...\n",
            "loading image kchipun/img_01_0003.png ...\n",
            "loading image kchipun/img_01_0004.png ...\n",
            "loading image kchipun/img_01_0005.png ...\n",
            "loading image kchipun/img_01_0006.png ...\n",
            "loading image kchipun/img_01_0007.png ...\n",
            "loading image kchipun/img_01_0008.png ...\n",
            "loading image kchipun/img_01_0009.png ...\n",
            "loading image kchipun/img_01_0010.png ...\n",
            "loading image kchipun/img_01_0011.png ...\n",
            "loading image kchipun/img_01_0012.png ...\n",
            "loading image kchipun/img_01_0013.png ...\n",
            "loading image kchipun/img_01_0014.png ...\n",
            "loading image kchipun/img_01_0015.png ...\n",
            "loading image kchipun/img_01_0016.png ...\n",
            "loading image kchipun/img_01_0017.png ...\n",
            "loading image kchipun/img_01_0018.png ...\n",
            "loading image kchipun/img_01_0019.png ...\n",
            "loading image kchipun/img_01_0020.png ...\n",
            "loading image kchipun/img_01_0021.png ...\n",
            "loading image kchipun/img_01_0022.png ...\n",
            "loading image kchipun/img_01_0023.png ...\n",
            "loading image kchipun/img_01_0024.png ...\n",
            "loading image kchipun/img_01_0025.png ...\n",
            "loading image kchipun/img_01_0026.png ...\n",
            "loading image kchipun/img_01_0027.png ...\n",
            "loading image kchipun/img_01_0028.png ...\n",
            "loading image kchipun/img_01_0029.png ...\n",
            "loading image kchipun/img_01_0030.png ...\n",
            "loading image kchipun/img_01_0031.png ...\n",
            "loading image kchipun/img_01_0032.png ...\n",
            "loading image kchipun/img_01_0033.png ...\n",
            "loading image kchipun/img_01_0034.png ...\n",
            "loading image kchipun/img_01_0035.png ...\n",
            "loading image kchipun/img_01_0036.png ...\n",
            "loading image kchipun/img_01_0037.png ...\n",
            "loading image kchipun/img_01_0038.png ...\n",
            "loading image kchipun/img_01_0039.png ...\n",
            "loading image kchipun/img_01_0040.png ...\n",
            "loading image kchipun/img_01_0041.png ...\n",
            "loading image kchipun/img_01_0042.png ...\n",
            "loading image kchipun/img_01_0043.png ...\n",
            "loading image kchipun/img_01_0044.png ...\n",
            "loading image kchipun/img_01_0045.png ...\n",
            "loading image kchipun/img_01_0046.png ...\n",
            "loading image kchipun/img_01_0047.png ...\n",
            "loading image kchipun/img_01_0048.png ...\n",
            "loading image kchipun/img_01_0049.png ...\n",
            "loading image kchipun/img_01_0050.png ...\n",
            "loading image kchipun/img_02_0001.png ...\n",
            "loading image kchipun/img_02_0002.png ...\n",
            "loading image kchipun/img_02_0003.png ...\n",
            "loading image kchipun/img_02_0004.png ...\n",
            "loading image kchipun/img_02_0005.png ...\n",
            "loading image kchipun/img_02_0006.png ...\n",
            "loading image kchipun/img_02_0007.png ...\n",
            "loading image kchipun/img_02_0008.png ...\n",
            "loading image kchipun/img_02_0009.png ...\n",
            "loading image kchipun/img_02_0010.png ...\n",
            "loading image kchipun/img_02_0011.png ...\n",
            "loading image kchipun/img_02_0012.png ...\n",
            "loading image kchipun/img_02_0013.png ...\n",
            "loading image kchipun/img_02_0014.png ...\n",
            "loading image kchipun/img_02_0015.png ...\n",
            "loading image kchipun/img_02_0016.png ...\n",
            "loading image kchipun/img_02_0017.png ...\n",
            "loading image kchipun/img_02_0018.png ...\n",
            "loading image kchipun/img_02_0019.png ...\n",
            "loading image kchipun/img_02_0020.png ...\n",
            "loading image kchipun/img_02_0021.png ...\n",
            "loading image kchipun/img_02_0022.png ...\n",
            "loading image kchipun/img_02_0023.png ...\n",
            "loading image kchipun/img_02_0024.png ...\n",
            "loading image kchipun/img_02_0025.png ...\n",
            "loading image kchipun/img_02_0026.png ...\n",
            "loading image kchipun/img_02_0027.png ...\n",
            "loading image kchipun/img_02_0028.png ...\n",
            "loading image kchipun/img_02_0029.png ...\n",
            "loading image kchipun/img_02_0030.png ...\n",
            "loading image kchipun/img_02_0031.png ...\n",
            "loading image kchipun/img_02_0032.png ...\n",
            "loading image kchipun/img_02_0033.png ...\n",
            "loading image kchipun/img_02_0034.png ...\n",
            "loading image kchipun/img_02_0035.png ...\n",
            "loading image kchipun/img_02_0036.png ...\n",
            "loading image kchipun/img_02_0037.png ...\n",
            "loading image kchipun/img_02_0038.png ...\n",
            "loading image kchipun/img_02_0039.png ...\n",
            "loading image kchipun/img_02_0040.png ...\n",
            "loading image kchipun/img_02_0041.png ...\n",
            "loading image kchipun/img_02_0042.png ...\n",
            "loading image kchipun/img_02_0043.png ...\n",
            "loading image kchipun/img_02_0044.png ...\n",
            "loading image kchipun/img_02_0045.png ...\n",
            "loading image kchipun/img_02_0046.png ...\n",
            "loading image kchipun/img_02_0047.png ...\n",
            "loading image kchipun/img_02_0048.png ...\n",
            "loading image kchipun/img_02_0049.png ...\n",
            "loading image kchipun/img_02_0050.png ...\n",
            "loading image kchipun/img_03_0001.png ...\n",
            "loading image kchipun/img_03_0002.png ...\n",
            "loading image kchipun/img_03_0003.png ...\n",
            "loading image kchipun/img_03_0004.png ...\n",
            "loading image kchipun/img_03_0005.png ...\n",
            "loading image kchipun/img_03_0006.png ...\n",
            "loading image kchipun/img_03_0007.png ...\n",
            "loading image kchipun/img_03_0008.png ...\n",
            "loading image kchipun/img_03_0009.png ...\n",
            "loading image kchipun/img_03_0010.png ...\n",
            "loading image kchipun/img_03_0011.png ...\n",
            "loading image kchipun/img_03_0012.png ...\n",
            "loading image kchipun/img_03_0013.png ...\n",
            "loading image kchipun/img_03_0014.png ...\n",
            "loading image kchipun/img_03_0015.png ...\n",
            "loading image kchipun/img_03_0016.png ...\n",
            "loading image kchipun/img_03_0017.png ...\n",
            "loading image kchipun/img_03_0018.png ...\n",
            "loading image kchipun/img_03_0019.png ...\n",
            "loading image kchipun/img_03_0020.png ...\n",
            "loading image kchipun/img_03_0021.png ...\n",
            "loading image kchipun/img_03_0022.png ...\n",
            "loading image kchipun/img_03_0023.png ...\n",
            "loading image kchipun/img_03_0024.png ...\n",
            "loading image kchipun/img_03_0025.png ...\n",
            "loading image kchipun/img_03_0026.png ...\n",
            "loading image kchipun/img_03_0027.png ...\n",
            "loading image kchipun/img_03_0028.png ...\n",
            "loading image kchipun/img_03_0029.png ...\n",
            "loading image kchipun/img_03_0030.png ...\n",
            "loading image kchipun/img_03_0031.png ...\n",
            "loading image kchipun/img_03_0032.png ...\n",
            "loading image kchipun/img_03_0033.png ...\n",
            "loading image kchipun/img_03_0034.png ...\n",
            "loading image kchipun/img_03_0035.png ...\n",
            "loading image kchipun/img_03_0036.png ...\n",
            "loading image kchipun/img_03_0037.png ...\n",
            "loading image kchipun/img_03_0038.png ...\n",
            "loading image kchipun/img_03_0039.png ...\n",
            "loading image kchipun/img_03_0040.png ...\n",
            "loading image kchipun/img_03_0041.png ...\n",
            "loading image kchipun/img_03_0042.png ...\n",
            "loading image kchipun/img_03_0043.png ...\n",
            "loading image kchipun/img_03_0044.png ...\n",
            "loading image kchipun/img_03_0045.png ...\n",
            "loading image kchipun/img_03_0046.png ...\n",
            "loading image kchipun/img_03_0047.png ...\n",
            "loading image kchipun/img_03_0048.png ...\n",
            "loading image kchipun/img_03_0049.png ...\n",
            "loading image kchipun/img_03_0050.png ...\n"
          ]
        }
      ],
      "source": [
        "K = 3 # Cantidad de clases\n",
        "N = 50 # Numero de muestras por clases\n",
        "\n",
        "X = np.zeros((N * K, )) # Creamos un arreglo de tamaño N * K con las caracteristicas\n",
        "Y = np.zeros((N * K, )) # Creamos nuestra variable de respuesta (con las clases)\n",
        "index = 0\n",
        "\n",
        "for k in range(1, K + 1):\n",
        "    for i in range(1, N + 1):\n",
        "        img = imageload(k, i, echo='on')\n",
        "        X[index] = get_feature_data(img)\n",
        "        Y[index] = K\n",
        "\n",
        "        index += 1"
      ]
    },
    {
      "cell_type": "code",
      "execution_count": 1816,
      "metadata": {},
      "outputs": [],
      "source": [
        "# Normalization\n",
        "def minmax(x, x_min, x_max):\n",
        "    return (x - x_min) / (x_max - x_min)\n",
        "\n",
        "X_min = np.min(X)\n",
        "X_max = np.max(X)\n",
        "X = minmax(X, X_min, X_max)\n"
      ]
    },
    {
      "cell_type": "markdown",
      "metadata": {
        "id": "H4ww4RL5NnBc"
      },
      "source": [
        "# 3. Training and testing subsets"
      ]
    },
    {
      "cell_type": "code",
      "execution_count": 1817,
      "metadata": {},
      "outputs": [],
      "source": [
        "# Datos de entrenamiento de las primeras 40 imagenes de cada clase\n",
        "x0_train = X[0:40]\n",
        "x1_train = X[50:90]\n",
        "x2_train = X[100:140]\n",
        "\n",
        "# Datos de testeo de las ultimas 10 imagenes de cada clase\n",
        "x0_test = X[40:50]\n",
        "x1_test = X[90:100]\n",
        "x2_test = X[140:150]\n",
        "\n",
        "# Estadisticas de cada clase\n",
        "# Maximo de cada clase\n",
        "x0_max = np.max(x0_train)\n",
        "x1_max = np.max(x1_train)\n",
        "x2_max = np.max(x2_train)\n",
        "# Minimo de cada clase\n",
        "x0_min = np.min(x0_train)\n",
        "x1_min = np.min(x1_train)\n",
        "x2_min = np.min(x2_train)\n",
        "# Promedio de cada clase\n",
        "x0_mean = np.mean(x0_train)\n",
        "x1_mean = np.mean(x1_train)\n",
        "x2_mean = np.mean(x2_train)"
      ]
    },
    {
      "cell_type": "code",
      "execution_count": 1818,
      "metadata": {},
      "outputs": [
        {
          "name": "stdout",
          "output_type": "stream",
          "text": [
            "Statistics\n",
            "Class 1 (paper):\n",
            ">>>> min  = 0.0\n",
            ">>>> mean = 0.06997239268279244\n",
            ">>>> max  = 0.3079995090628448\n",
            " \n",
            "Class 2 (rock):\n",
            ">>>> min  = 0.011886446039297621\n",
            ">>>> mean = 0.22068349403606452\n",
            ">>>> max  = 1.0\n",
            "Class 3 (scissors):\n",
            ">>>> min  = 0.0725283640331473\n",
            ">>>> mean = 0.18973251853953696\n",
            ">>>> max  = 0.5012682281568674\n"
          ]
        }
      ],
      "source": [
        "\n",
        "print('Statistics')\n",
        "\n",
        "print('Class 1 (paper):')\n",
        "print('>>>> min  = '+str(x0_min))\n",
        "print('>>>> mean = '+str(x0_mean))\n",
        "print('>>>> max  = '+str(x0_max))\n",
        "print(' ')\n",
        "\n",
        "print('Class 2 (rock):')\n",
        "print('>>>> min  = '+str(x1_min))\n",
        "print('>>>> mean = '+str(x1_mean))\n",
        "print('>>>> max  = '+str(x1_max))\n",
        "\n",
        "print('Class 3 (scissors):')\n",
        "print('>>>> min  = '+str(x2_min))\n",
        "print('>>>> mean = '+str(x2_mean))\n",
        "print('>>>> max  = '+str(x2_max))\n"
      ]
    },
    {
      "cell_type": "code",
      "execution_count": 1819,
      "metadata": {},
      "outputs": [
        {
          "data": {
            "image/png": "[encoded data removed]",
            "text/plain": [
              "<Figure size 640x480 with 1 Axes>"
            ]
          },
          "metadata": {},
          "output_type": "display_data"
        }
      ],
      "source": [
        "# Histograma de análisis de caracteristicas \n",
        "plt.hist([x0_train, x1_train, x2_train], bins=10, label=['paper', 'rock', 'scissors'], alpha=0.6, histtype='bar', ec='black')\n",
        "plt.legend()\n",
        "plt.show()"
      ]
    },
    {
      "cell_type": "markdown",
      "metadata": {
        "id": "XAxruFzQvF8v"
      },
      "source": [
        "# 4. Classification"
      ]
    },
    {
      "cell_type": "code",
      "execution_count": 1820,
      "metadata": {
        "id": "Nhn39w8Oe6Kj"
      },
      "outputs": [],
      "source": [
        "threshold_1 = (x0_mean + x1_mean) / 2\n",
        "threshold_2 = (x1_mean + x2_mean) / 2\n",
        "\n",
        "def classifier(x):\n",
        "    if x < threshold_1:\n",
        "        return 1 # classified as paper\n",
        "    elif  x < threshold_2:\n",
        "        return 2 # classified as rock\n",
        "    else:\n",
        "        return 3 # classidied as scissors\n",
        "    \n",
        "Y = np.array([classifier(x) for x in X])\n",
        "\n",
        "Y1_test = Y[40:50]\n",
        "Y2_test = Y[90:100]\n",
        "Y3_test = Y[140:150]\n",
        "\n",
        "Y1_train = Y[0:40]\n",
        "Y2_train = Y[50:90]\n",
        "Y3_train = Y[100:140]"
      ]
    },
    {
      "cell_type": "markdown",
      "metadata": {
        "id": "xTk4aRwH4iWU"
      },
      "source": [
        "# 5. Evaluation"
      ]
    },
    {
      "cell_type": "code",
      "execution_count": 1821,
      "metadata": {
        "id": "jp7OKR_ie8d7"
      },
      "outputs": [],
      "source": [
        "\n",
        "def print_accuracy(accuracy, type):\n",
        "    print(f'\\n{type} Accuracy = {accuracy}%')\n",
        "\n",
        "def get_accuracy(Y, type):\n",
        "    true_samples = 0\n",
        "    false_samples = 0\n",
        "    \n",
        "    for k in range(3):\n",
        "        true_samples += np.sum(Y[k] == k + 1)\n",
        "        false_samples += np.sum(Y[k] != k + 1)\n",
        "    \n",
        "    accuracy = true_samples / (true_samples + false_samples) * 100\n",
        "    \n",
        "    print_accuracy(accuracy, type)\n",
        "\n",
        "    return accuracy\n",
        "        \n",
        "\n",
        "def total_accuracy(acc_test, acc_train):\n",
        "    return 0.20 * acc_train + 0.8 * acc_test"
      ]
    },
    {
      "cell_type": "code",
      "execution_count": 1822,
      "metadata": {},
      "outputs": [
        {
          "name": "stdout",
          "output_type": "stream",
          "text": [
            "\n",
            "Testing Accuracy = 53.333333333333336%\n",
            "\n",
            "Training Accuracy = 57.49999999999999%\n",
            "\n",
            "Total Accuracy = 54.16666666666667%\n"
          ]
        }
      ],
      "source": [
        "Y_test = np.array([Y1_test, Y2_test, Y3_test])\n",
        "Y_train = np.array([Y1_train, Y2_train, Y3_train])\n",
        "\n",
        "AccTest = get_accuracy(Y_test, 'Testing')\n",
        "AccTrain = get_accuracy(Y_train, 'Training')\n",
        "AccTot = total_accuracy(AccTest, AccTrain)\n",
        "print_accuracy(AccTot, 'Total')\n"
      ]
    },
    {
      "cell_type": "code",
      "execution_count": null,
      "metadata": {},
      "outputs": [],
      "source": []
    }
  ],
  "metadata": {
    "colab": {
      "provenance": []
    },
    "kernelspec": {
      "display_name": "Python 3",
      "name": "python3"
    },
    "language_info": {
      "codemirror_mode": {
        "name": "ipython",
        "version": 3
      },
      "file_extension": ".py",
      "mimetype": "text/x-python",
      "name": "python",
      "nbconvert_exporter": "python",
      "pygments_lexer": "ipython3",
      "version": "3.10.12"
    }
  },
  "nbformat": 4,
  "nbformat_minor": 0
}
